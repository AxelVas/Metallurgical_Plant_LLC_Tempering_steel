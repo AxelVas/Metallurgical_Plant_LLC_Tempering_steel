{
  "nbformat": 4,
  "nbformat_minor": 0,
  "metadata": {
    "colab": {
      "name": "Final_steel.sh.ipynb",
      "provenance": [],
      "collapsed_sections": []
    },
    "kernelspec": {
      "display_name": "Python 3",
      "language": "python",
      "name": "python3"
    },
    "language_info": {
      "codemirror_mode": {
        "name": "ipython",
        "version": 3
      },
      "file_extension": ".py",
      "mimetype": "text/x-python",
      "name": "python",
      "nbconvert_exporter": "python",
      "pygments_lexer": "ipython3",
      "version": "3.7.8"
    },
    "toc": {
      "base_numbering": 1,
      "nav_menu": {},
      "number_sections": true,
      "sideBar": true,
      "skip_h1_title": true,
      "title_cell": "Table of Contents",
      "title_sidebar": "Contents",
      "toc_cell": false,
      "toc_position": {
        "height": "calc(100% - 180px)",
        "left": "10px",
        "top": "150px",
        "width": "384.473px"
      },
      "toc_section_display": true,
      "toc_window_display": false
    }
  },
  "cells": [
    {
      "cell_type": "markdown",
      "metadata": {
        "id": "P-1hyWUWAS6R"
      },
      "source": [
        "----\n",
        "# Металлургический комбинат ООО «Так закаляем сталь»\n",
        "----"
      ]
    },
    {
      "cell_type": "markdown",
      "metadata": {
        "id": "s8FnOgAkSPqS"
      },
      "source": [
        "# Условие задачи"
      ]
    },
    {
      "cell_type": "markdown",
      "metadata": {
        "id": "C37nwBQtSQvi"
      },
      "source": [
        "Чтобы оптимизировать производственные расходы, металлургический комбинат ООО «Так закаляем сталь» решил уменьшить потребление электроэнергии на этапе обработки стали. Вам предстоит построить модель, которая предскажет температуру стали.\n",
        "\n",
        "<br>\n",
        "<font size='5'><b> Описание этапа обработки</b></font>\n",
        "\n",
        "Сталь обрабатывают в металлическом ковше вместимостью около 100 тонн. Чтобы ковш выдерживал высокие температуры, изнутри его облицовывают огнеупорным кирпичом. Расплавленную сталь заливают в ковш и подогревают до нужной температуры графитовыми электродами. Они установлены в крышке ковша. \n",
        "\n",
        "Из сплава выводится сера (десульфурация), добавлением примесей корректируется химический состав и отбираются пробы. Сталь легируют — изменяют её состав — подавая куски сплава из бункера для сыпучих материалов или проволоку через специальный трайб-аппарат (англ. tribe, «масса»).\n",
        "\n",
        "Перед тем как первый раз ввести легирующие добавки, измеряют температуру стали и производят её химический анализ. Потом температуру на несколько минут повышают, добавляют легирующие материалы и продувают сплав инертным газом. Затем его перемешивают и снова проводят измерения. Такой цикл повторяется до достижения целевого химического состава и оптимальной температуры плавки.\n",
        "\n",
        "Тогда расплавленная сталь отправляется на доводку металла или поступает в машину непрерывной разливки. Оттуда готовый продукт выходит в виде заготовок-слябов (англ. *slab*, «плита»).\n",
        "\n",
        "\n",
        "<br>\n",
        "<font size='5'><b> Описание данных</b></font>\n",
        "\n",
        "Данные состоят из файлов, полученных из разных источников:\n",
        "\n",
        "- `data_arc.csv` — данные об электродах;\n",
        "- `data_bulk.csv` — данные о подаче сыпучих материалов (объём);\n",
        "- `data_bulk_time.csv` *—* данные о подаче сыпучих материалов (время);\n",
        "- `data_gas.csv` — данные о продувке сплава газом;\n",
        "- `data_temp.csv` — результаты измерения температуры;\n",
        "- `data_wire.csv` — данные о проволочных материалах (объём);\n",
        "- `data_wire_time.csv` — данные о проволочных материалах (время).\n",
        "\n",
        "\n",
        "Во всех файлах столбец `key` содержит номер партии. В файлах может быть несколько строк с одинаковым значением `key`: они соответствуют разным итерациям обработки.\n",
        "\n",
        "Данные также находятся в тренажёре, в папке /datasets/final_steel/.\n",
        "\n",
        "-----"
      ]
    },
    {
      "cell_type": "markdown",
      "metadata": {
        "id": "67pukM9Yzfcl"
      },
      "source": [
        "# Краткий план работы над проектом\n"
      ]
    },
    {
      "cell_type": "markdown",
      "metadata": {
        "id": "QI6rU8Itzfcs"
      },
      "source": [
        "- Загрузить и изучить данные, провести исследовательский анализ\n",
        "- Привести данные к рабочему формату\n",
        "- провести предобработку данных по замеру температур и вывести первую и последнюю \n",
        "- Вычленить только необходимые для работы данные и объеденить их в одну таблицу по ключу `key`\n",
        "- Проверить ещё раз данные и заполнить или устранинить NAN\n",
        "- Разделить выборки на тренировочную и тестовую\n",
        "- Обучить несколько моделей регрессии и сравнить качество предсказаний\n",
        "- Выбрать наилучшую модель с МАЕ < 6.0\n",
        "- Объединить показатели метрик в одну сводную таблицу\n",
        "- Составить отчёт о проделанной работе\n",
        "---"
      ]
    },
    {
      "cell_type": "markdown",
      "metadata": {
        "id": "zyg9NzPfUF_D"
      },
      "source": [
        "## Загружаем библиотеки"
      ]
    },
    {
      "cell_type": "code",
      "metadata": {
        "id": "zCLMFbVLUKuC"
      },
      "source": [
        "import pandas as pd\n",
        "import numpy as np\n",
        "import seaborn as sns\n",
        "import matplotlib.pyplot as plt \n",
        "import warnings\n",
        "warnings.filterwarnings('ignore')"
      ],
      "execution_count": null,
      "outputs": []
    },
    {
      "cell_type": "markdown",
      "metadata": {
        "id": "2rcxyh7iTy5t"
      },
      "source": [
        "## Загружаем данные"
      ]
    },
    {
      "cell_type": "code",
      "metadata": {
        "id": "zXqGkzfRV5FM"
      },
      "source": [
        "#way = '/content/drive/MyDrive/Practicum/Финал/final_steel/'\n",
        "way ='/datasets/final_steel/'"
      ],
      "execution_count": null,
      "outputs": []
    },
    {
      "cell_type": "code",
      "metadata": {
        "id": "lp27a_74ScxU"
      },
      "source": [
        "data_arc = pd.read_csv(way+'data_arc.csv')\n",
        "data_bulk = pd.read_csv(way+'data_bulk.csv')\n",
        "data_bulk_time = pd.read_csv(way+'data_bulk_time.csv')\n",
        "data_gas =pd.read_csv(way+'data_gas.csv')\n",
        "data_temp =pd.read_csv(way+'data_temp.csv')\n",
        "data_wire =pd.read_csv(way+'data_wire.csv')\n",
        "data_wire_time =pd.read_csv(way+'data_wire_time.csv')"
      ],
      "execution_count": null,
      "outputs": []
    },
    {
      "cell_type": "code",
      "metadata": {
        "colab": {
          "base_uri": "https://localhost:8080/",
          "height": 391
        },
        "id": "QJ1LbVJzTNHm",
        "outputId": "a0481c92-95ff-4487-99be-06cadf71cbc8"
      },
      "source": [
        "data_arc"
      ],
      "execution_count": null,
      "outputs": [
        {
          "output_type": "execute_result",
          "data": {
            "text/html": [
              "<div>\n",
              "<style scoped>\n",
              "    .dataframe tbody tr th:only-of-type {\n",
              "        vertical-align: middle;\n",
              "    }\n",
              "\n",
              "    .dataframe tbody tr th {\n",
              "        vertical-align: top;\n",
              "    }\n",
              "\n",
              "    .dataframe thead th {\n",
              "        text-align: right;\n",
              "    }\n",
              "</style>\n",
              "<table border=\"1\" class=\"dataframe\">\n",
              "  <thead>\n",
              "    <tr style=\"text-align: right;\">\n",
              "      <th></th>\n",
              "      <th>key</th>\n",
              "      <th>Начало нагрева дугой</th>\n",
              "      <th>Конец нагрева дугой</th>\n",
              "      <th>Активная мощность</th>\n",
              "      <th>Реактивная мощность</th>\n",
              "    </tr>\n",
              "  </thead>\n",
              "  <tbody>\n",
              "    <tr>\n",
              "      <td>0</td>\n",
              "      <td>1</td>\n",
              "      <td>2019-05-03 11:02:14</td>\n",
              "      <td>2019-05-03 11:06:02</td>\n",
              "      <td>0.976059</td>\n",
              "      <td>0.687084</td>\n",
              "    </tr>\n",
              "    <tr>\n",
              "      <td>1</td>\n",
              "      <td>1</td>\n",
              "      <td>2019-05-03 11:07:28</td>\n",
              "      <td>2019-05-03 11:10:33</td>\n",
              "      <td>0.805607</td>\n",
              "      <td>0.520285</td>\n",
              "    </tr>\n",
              "    <tr>\n",
              "      <td>2</td>\n",
              "      <td>1</td>\n",
              "      <td>2019-05-03 11:11:44</td>\n",
              "      <td>2019-05-03 11:14:36</td>\n",
              "      <td>0.744363</td>\n",
              "      <td>0.498805</td>\n",
              "    </tr>\n",
              "    <tr>\n",
              "      <td>3</td>\n",
              "      <td>1</td>\n",
              "      <td>2019-05-03 11:18:14</td>\n",
              "      <td>2019-05-03 11:24:19</td>\n",
              "      <td>1.659363</td>\n",
              "      <td>1.062669</td>\n",
              "    </tr>\n",
              "    <tr>\n",
              "      <td>4</td>\n",
              "      <td>1</td>\n",
              "      <td>2019-05-03 11:26:09</td>\n",
              "      <td>2019-05-03 11:28:37</td>\n",
              "      <td>0.692755</td>\n",
              "      <td>0.414397</td>\n",
              "    </tr>\n",
              "    <tr>\n",
              "      <td>...</td>\n",
              "      <td>...</td>\n",
              "      <td>...</td>\n",
              "      <td>...</td>\n",
              "      <td>...</td>\n",
              "      <td>...</td>\n",
              "    </tr>\n",
              "    <tr>\n",
              "      <td>14871</td>\n",
              "      <td>3241</td>\n",
              "      <td>2019-09-01 03:58:58</td>\n",
              "      <td>2019-09-01 04:01:35</td>\n",
              "      <td>0.533670</td>\n",
              "      <td>0.354439</td>\n",
              "    </tr>\n",
              "    <tr>\n",
              "      <td>14872</td>\n",
              "      <td>3241</td>\n",
              "      <td>2019-09-01 04:05:04</td>\n",
              "      <td>2019-09-01 04:08:04</td>\n",
              "      <td>0.676604</td>\n",
              "      <td>0.523631</td>\n",
              "    </tr>\n",
              "    <tr>\n",
              "      <td>14873</td>\n",
              "      <td>3241</td>\n",
              "      <td>2019-09-01 04:16:41</td>\n",
              "      <td>2019-09-01 04:19:45</td>\n",
              "      <td>0.733899</td>\n",
              "      <td>0.475654</td>\n",
              "    </tr>\n",
              "    <tr>\n",
              "      <td>14874</td>\n",
              "      <td>3241</td>\n",
              "      <td>2019-09-01 04:31:51</td>\n",
              "      <td>2019-09-01 04:32:48</td>\n",
              "      <td>0.220694</td>\n",
              "      <td>0.145768</td>\n",
              "    </tr>\n",
              "    <tr>\n",
              "      <td>14875</td>\n",
              "      <td>3241</td>\n",
              "      <td>2019-09-01 04:34:47</td>\n",
              "      <td>2019-09-01 04:36:08</td>\n",
              "      <td>0.306580</td>\n",
              "      <td>0.196708</td>\n",
              "    </tr>\n",
              "  </tbody>\n",
              "</table>\n",
              "<p>14876 rows × 5 columns</p>\n",
              "</div>"
            ],
            "text/plain": [
              "        key Начало нагрева дугой  Конец нагрева дугой  Активная мощность  \\\n",
              "0         1  2019-05-03 11:02:14  2019-05-03 11:06:02           0.976059   \n",
              "1         1  2019-05-03 11:07:28  2019-05-03 11:10:33           0.805607   \n",
              "2         1  2019-05-03 11:11:44  2019-05-03 11:14:36           0.744363   \n",
              "3         1  2019-05-03 11:18:14  2019-05-03 11:24:19           1.659363   \n",
              "4         1  2019-05-03 11:26:09  2019-05-03 11:28:37           0.692755   \n",
              "...     ...                  ...                  ...                ...   \n",
              "14871  3241  2019-09-01 03:58:58  2019-09-01 04:01:35           0.533670   \n",
              "14872  3241  2019-09-01 04:05:04  2019-09-01 04:08:04           0.676604   \n",
              "14873  3241  2019-09-01 04:16:41  2019-09-01 04:19:45           0.733899   \n",
              "14874  3241  2019-09-01 04:31:51  2019-09-01 04:32:48           0.220694   \n",
              "14875  3241  2019-09-01 04:34:47  2019-09-01 04:36:08           0.306580   \n",
              "\n",
              "       Реактивная мощность  \n",
              "0                 0.687084  \n",
              "1                 0.520285  \n",
              "2                 0.498805  \n",
              "3                 1.062669  \n",
              "4                 0.414397  \n",
              "...                    ...  \n",
              "14871             0.354439  \n",
              "14872             0.523631  \n",
              "14873             0.475654  \n",
              "14874             0.145768  \n",
              "14875             0.196708  \n",
              "\n",
              "[14876 rows x 5 columns]"
            ]
          },
          "metadata": {
            "tags": []
          },
          "execution_count": 4
        }
      ]
    },
    {
      "cell_type": "code",
      "metadata": {
        "colab": {
          "base_uri": "https://localhost:8080/"
        },
        "id": "50rZ0DgICYcl",
        "outputId": "941663dd-908c-49e6-9bb4-2387d89d263b"
      },
      "source": [
        "data_arc.info()"
      ],
      "execution_count": null,
      "outputs": [
        {
          "output_type": "stream",
          "text": [
            "<class 'pandas.core.frame.DataFrame'>\n",
            "RangeIndex: 14876 entries, 0 to 14875\n",
            "Data columns (total 5 columns):\n",
            "key                     14876 non-null int64\n",
            "Начало нагрева дугой    14876 non-null object\n",
            "Конец нагрева дугой     14876 non-null object\n",
            "Активная мощность       14876 non-null float64\n",
            "Реактивная мощность     14876 non-null float64\n",
            "dtypes: float64(2), int64(1), object(2)\n",
            "memory usage: 581.2+ KB\n"
          ],
          "name": "stdout"
        }
      ]
    },
    {
      "cell_type": "code",
      "metadata": {
        "colab": {
          "base_uri": "https://localhost:8080/",
          "height": 391
        },
        "id": "WEUqAA-vB3-U",
        "outputId": "2a0a835e-621f-4043-a458-863bc22124cd"
      },
      "source": [
        "data_bulk"
      ],
      "execution_count": null,
      "outputs": [
        {
          "output_type": "execute_result",
          "data": {
            "text/html": [
              "<div>\n",
              "<style scoped>\n",
              "    .dataframe tbody tr th:only-of-type {\n",
              "        vertical-align: middle;\n",
              "    }\n",
              "\n",
              "    .dataframe tbody tr th {\n",
              "        vertical-align: top;\n",
              "    }\n",
              "\n",
              "    .dataframe thead th {\n",
              "        text-align: right;\n",
              "    }\n",
              "</style>\n",
              "<table border=\"1\" class=\"dataframe\">\n",
              "  <thead>\n",
              "    <tr style=\"text-align: right;\">\n",
              "      <th></th>\n",
              "      <th>key</th>\n",
              "      <th>Bulk 1</th>\n",
              "      <th>Bulk 2</th>\n",
              "      <th>Bulk 3</th>\n",
              "      <th>Bulk 4</th>\n",
              "      <th>Bulk 5</th>\n",
              "      <th>Bulk 6</th>\n",
              "      <th>Bulk 7</th>\n",
              "      <th>Bulk 8</th>\n",
              "      <th>Bulk 9</th>\n",
              "      <th>Bulk 10</th>\n",
              "      <th>Bulk 11</th>\n",
              "      <th>Bulk 12</th>\n",
              "      <th>Bulk 13</th>\n",
              "      <th>Bulk 14</th>\n",
              "      <th>Bulk 15</th>\n",
              "    </tr>\n",
              "  </thead>\n",
              "  <tbody>\n",
              "    <tr>\n",
              "      <td>0</td>\n",
              "      <td>1</td>\n",
              "      <td>NaN</td>\n",
              "      <td>NaN</td>\n",
              "      <td>NaN</td>\n",
              "      <td>43.0</td>\n",
              "      <td>NaN</td>\n",
              "      <td>NaN</td>\n",
              "      <td>NaN</td>\n",
              "      <td>NaN</td>\n",
              "      <td>NaN</td>\n",
              "      <td>NaN</td>\n",
              "      <td>NaN</td>\n",
              "      <td>206.0</td>\n",
              "      <td>NaN</td>\n",
              "      <td>150.0</td>\n",
              "      <td>154.0</td>\n",
              "    </tr>\n",
              "    <tr>\n",
              "      <td>1</td>\n",
              "      <td>2</td>\n",
              "      <td>NaN</td>\n",
              "      <td>NaN</td>\n",
              "      <td>NaN</td>\n",
              "      <td>73.0</td>\n",
              "      <td>NaN</td>\n",
              "      <td>NaN</td>\n",
              "      <td>NaN</td>\n",
              "      <td>NaN</td>\n",
              "      <td>NaN</td>\n",
              "      <td>NaN</td>\n",
              "      <td>NaN</td>\n",
              "      <td>206.0</td>\n",
              "      <td>NaN</td>\n",
              "      <td>149.0</td>\n",
              "      <td>154.0</td>\n",
              "    </tr>\n",
              "    <tr>\n",
              "      <td>2</td>\n",
              "      <td>3</td>\n",
              "      <td>NaN</td>\n",
              "      <td>NaN</td>\n",
              "      <td>NaN</td>\n",
              "      <td>34.0</td>\n",
              "      <td>NaN</td>\n",
              "      <td>NaN</td>\n",
              "      <td>NaN</td>\n",
              "      <td>NaN</td>\n",
              "      <td>NaN</td>\n",
              "      <td>NaN</td>\n",
              "      <td>NaN</td>\n",
              "      <td>205.0</td>\n",
              "      <td>NaN</td>\n",
              "      <td>152.0</td>\n",
              "      <td>153.0</td>\n",
              "    </tr>\n",
              "    <tr>\n",
              "      <td>3</td>\n",
              "      <td>4</td>\n",
              "      <td>NaN</td>\n",
              "      <td>NaN</td>\n",
              "      <td>NaN</td>\n",
              "      <td>81.0</td>\n",
              "      <td>NaN</td>\n",
              "      <td>NaN</td>\n",
              "      <td>NaN</td>\n",
              "      <td>NaN</td>\n",
              "      <td>NaN</td>\n",
              "      <td>NaN</td>\n",
              "      <td>NaN</td>\n",
              "      <td>207.0</td>\n",
              "      <td>NaN</td>\n",
              "      <td>153.0</td>\n",
              "      <td>154.0</td>\n",
              "    </tr>\n",
              "    <tr>\n",
              "      <td>4</td>\n",
              "      <td>5</td>\n",
              "      <td>NaN</td>\n",
              "      <td>NaN</td>\n",
              "      <td>NaN</td>\n",
              "      <td>78.0</td>\n",
              "      <td>NaN</td>\n",
              "      <td>NaN</td>\n",
              "      <td>NaN</td>\n",
              "      <td>NaN</td>\n",
              "      <td>NaN</td>\n",
              "      <td>NaN</td>\n",
              "      <td>NaN</td>\n",
              "      <td>203.0</td>\n",
              "      <td>NaN</td>\n",
              "      <td>151.0</td>\n",
              "      <td>152.0</td>\n",
              "    </tr>\n",
              "    <tr>\n",
              "      <td>...</td>\n",
              "      <td>...</td>\n",
              "      <td>...</td>\n",
              "      <td>...</td>\n",
              "      <td>...</td>\n",
              "      <td>...</td>\n",
              "      <td>...</td>\n",
              "      <td>...</td>\n",
              "      <td>...</td>\n",
              "      <td>...</td>\n",
              "      <td>...</td>\n",
              "      <td>...</td>\n",
              "      <td>...</td>\n",
              "      <td>...</td>\n",
              "      <td>...</td>\n",
              "      <td>...</td>\n",
              "      <td>...</td>\n",
              "    </tr>\n",
              "    <tr>\n",
              "      <td>3124</td>\n",
              "      <td>3237</td>\n",
              "      <td>NaN</td>\n",
              "      <td>NaN</td>\n",
              "      <td>170.0</td>\n",
              "      <td>NaN</td>\n",
              "      <td>NaN</td>\n",
              "      <td>NaN</td>\n",
              "      <td>NaN</td>\n",
              "      <td>NaN</td>\n",
              "      <td>NaN</td>\n",
              "      <td>NaN</td>\n",
              "      <td>NaN</td>\n",
              "      <td>252.0</td>\n",
              "      <td>NaN</td>\n",
              "      <td>130.0</td>\n",
              "      <td>206.0</td>\n",
              "    </tr>\n",
              "    <tr>\n",
              "      <td>3125</td>\n",
              "      <td>3238</td>\n",
              "      <td>NaN</td>\n",
              "      <td>NaN</td>\n",
              "      <td>126.0</td>\n",
              "      <td>NaN</td>\n",
              "      <td>NaN</td>\n",
              "      <td>NaN</td>\n",
              "      <td>NaN</td>\n",
              "      <td>NaN</td>\n",
              "      <td>NaN</td>\n",
              "      <td>NaN</td>\n",
              "      <td>NaN</td>\n",
              "      <td>254.0</td>\n",
              "      <td>NaN</td>\n",
              "      <td>108.0</td>\n",
              "      <td>106.0</td>\n",
              "    </tr>\n",
              "    <tr>\n",
              "      <td>3126</td>\n",
              "      <td>3239</td>\n",
              "      <td>NaN</td>\n",
              "      <td>NaN</td>\n",
              "      <td>NaN</td>\n",
              "      <td>NaN</td>\n",
              "      <td>NaN</td>\n",
              "      <td>114.0</td>\n",
              "      <td>NaN</td>\n",
              "      <td>NaN</td>\n",
              "      <td>NaN</td>\n",
              "      <td>NaN</td>\n",
              "      <td>NaN</td>\n",
              "      <td>158.0</td>\n",
              "      <td>NaN</td>\n",
              "      <td>270.0</td>\n",
              "      <td>88.0</td>\n",
              "    </tr>\n",
              "    <tr>\n",
              "      <td>3127</td>\n",
              "      <td>3240</td>\n",
              "      <td>NaN</td>\n",
              "      <td>NaN</td>\n",
              "      <td>NaN</td>\n",
              "      <td>NaN</td>\n",
              "      <td>NaN</td>\n",
              "      <td>26.0</td>\n",
              "      <td>NaN</td>\n",
              "      <td>NaN</td>\n",
              "      <td>NaN</td>\n",
              "      <td>NaN</td>\n",
              "      <td>NaN</td>\n",
              "      <td>NaN</td>\n",
              "      <td>NaN</td>\n",
              "      <td>192.0</td>\n",
              "      <td>54.0</td>\n",
              "    </tr>\n",
              "    <tr>\n",
              "      <td>3128</td>\n",
              "      <td>3241</td>\n",
              "      <td>NaN</td>\n",
              "      <td>NaN</td>\n",
              "      <td>NaN</td>\n",
              "      <td>NaN</td>\n",
              "      <td>NaN</td>\n",
              "      <td>NaN</td>\n",
              "      <td>NaN</td>\n",
              "      <td>NaN</td>\n",
              "      <td>NaN</td>\n",
              "      <td>NaN</td>\n",
              "      <td>NaN</td>\n",
              "      <td>NaN</td>\n",
              "      <td>NaN</td>\n",
              "      <td>180.0</td>\n",
              "      <td>52.0</td>\n",
              "    </tr>\n",
              "  </tbody>\n",
              "</table>\n",
              "<p>3129 rows × 16 columns</p>\n",
              "</div>"
            ],
            "text/plain": [
              "       key  Bulk 1  Bulk 2  Bulk 3  Bulk 4  Bulk 5  Bulk 6  Bulk 7  Bulk 8  \\\n",
              "0        1     NaN     NaN     NaN    43.0     NaN     NaN     NaN     NaN   \n",
              "1        2     NaN     NaN     NaN    73.0     NaN     NaN     NaN     NaN   \n",
              "2        3     NaN     NaN     NaN    34.0     NaN     NaN     NaN     NaN   \n",
              "3        4     NaN     NaN     NaN    81.0     NaN     NaN     NaN     NaN   \n",
              "4        5     NaN     NaN     NaN    78.0     NaN     NaN     NaN     NaN   \n",
              "...    ...     ...     ...     ...     ...     ...     ...     ...     ...   \n",
              "3124  3237     NaN     NaN   170.0     NaN     NaN     NaN     NaN     NaN   \n",
              "3125  3238     NaN     NaN   126.0     NaN     NaN     NaN     NaN     NaN   \n",
              "3126  3239     NaN     NaN     NaN     NaN     NaN   114.0     NaN     NaN   \n",
              "3127  3240     NaN     NaN     NaN     NaN     NaN    26.0     NaN     NaN   \n",
              "3128  3241     NaN     NaN     NaN     NaN     NaN     NaN     NaN     NaN   \n",
              "\n",
              "      Bulk 9  Bulk 10  Bulk 11  Bulk 12  Bulk 13  Bulk 14  Bulk 15  \n",
              "0        NaN      NaN      NaN    206.0      NaN    150.0    154.0  \n",
              "1        NaN      NaN      NaN    206.0      NaN    149.0    154.0  \n",
              "2        NaN      NaN      NaN    205.0      NaN    152.0    153.0  \n",
              "3        NaN      NaN      NaN    207.0      NaN    153.0    154.0  \n",
              "4        NaN      NaN      NaN    203.0      NaN    151.0    152.0  \n",
              "...      ...      ...      ...      ...      ...      ...      ...  \n",
              "3124     NaN      NaN      NaN    252.0      NaN    130.0    206.0  \n",
              "3125     NaN      NaN      NaN    254.0      NaN    108.0    106.0  \n",
              "3126     NaN      NaN      NaN    158.0      NaN    270.0     88.0  \n",
              "3127     NaN      NaN      NaN      NaN      NaN    192.0     54.0  \n",
              "3128     NaN      NaN      NaN      NaN      NaN    180.0     52.0  \n",
              "\n",
              "[3129 rows x 16 columns]"
            ]
          },
          "metadata": {
            "tags": []
          },
          "execution_count": 6
        }
      ]
    },
    {
      "cell_type": "code",
      "metadata": {
        "colab": {
          "base_uri": "https://localhost:8080/"
        },
        "id": "QvMqTh76B8H8",
        "outputId": "ac95e636-9eba-4d14-c4b5-b8617151b394"
      },
      "source": [
        "data_bulk.info()"
      ],
      "execution_count": null,
      "outputs": [
        {
          "output_type": "stream",
          "text": [
            "<class 'pandas.core.frame.DataFrame'>\n",
            "RangeIndex: 3129 entries, 0 to 3128\n",
            "Data columns (total 16 columns):\n",
            "key        3129 non-null int64\n",
            "Bulk 1     252 non-null float64\n",
            "Bulk 2     22 non-null float64\n",
            "Bulk 3     1298 non-null float64\n",
            "Bulk 4     1014 non-null float64\n",
            "Bulk 5     77 non-null float64\n",
            "Bulk 6     576 non-null float64\n",
            "Bulk 7     25 non-null float64\n",
            "Bulk 8     1 non-null float64\n",
            "Bulk 9     19 non-null float64\n",
            "Bulk 10    176 non-null float64\n",
            "Bulk 11    177 non-null float64\n",
            "Bulk 12    2450 non-null float64\n",
            "Bulk 13    18 non-null float64\n",
            "Bulk 14    2806 non-null float64\n",
            "Bulk 15    2248 non-null float64\n",
            "dtypes: float64(15), int64(1)\n",
            "memory usage: 391.2 KB\n"
          ],
          "name": "stdout"
        }
      ]
    },
    {
      "cell_type": "code",
      "metadata": {
        "colab": {
          "base_uri": "https://localhost:8080/",
          "height": 391
        },
        "id": "0pc8tkAYUcXT",
        "outputId": "fc9ab4ee-7525-4fc6-b083-54a54d57f6b5"
      },
      "source": [
        "data_bulk_time"
      ],
      "execution_count": null,
      "outputs": [
        {
          "output_type": "execute_result",
          "data": {
            "text/html": [
              "<div>\n",
              "<style scoped>\n",
              "    .dataframe tbody tr th:only-of-type {\n",
              "        vertical-align: middle;\n",
              "    }\n",
              "\n",
              "    .dataframe tbody tr th {\n",
              "        vertical-align: top;\n",
              "    }\n",
              "\n",
              "    .dataframe thead th {\n",
              "        text-align: right;\n",
              "    }\n",
              "</style>\n",
              "<table border=\"1\" class=\"dataframe\">\n",
              "  <thead>\n",
              "    <tr style=\"text-align: right;\">\n",
              "      <th></th>\n",
              "      <th>key</th>\n",
              "      <th>Bulk 1</th>\n",
              "      <th>Bulk 2</th>\n",
              "      <th>Bulk 3</th>\n",
              "      <th>Bulk 4</th>\n",
              "      <th>Bulk 5</th>\n",
              "      <th>Bulk 6</th>\n",
              "      <th>Bulk 7</th>\n",
              "      <th>Bulk 8</th>\n",
              "      <th>Bulk 9</th>\n",
              "      <th>Bulk 10</th>\n",
              "      <th>Bulk 11</th>\n",
              "      <th>Bulk 12</th>\n",
              "      <th>Bulk 13</th>\n",
              "      <th>Bulk 14</th>\n",
              "      <th>Bulk 15</th>\n",
              "    </tr>\n",
              "  </thead>\n",
              "  <tbody>\n",
              "    <tr>\n",
              "      <td>0</td>\n",
              "      <td>1</td>\n",
              "      <td>NaN</td>\n",
              "      <td>NaN</td>\n",
              "      <td>NaN</td>\n",
              "      <td>2019-05-03 11:21:30</td>\n",
              "      <td>NaN</td>\n",
              "      <td>NaN</td>\n",
              "      <td>NaN</td>\n",
              "      <td>NaN</td>\n",
              "      <td>NaN</td>\n",
              "      <td>NaN</td>\n",
              "      <td>NaN</td>\n",
              "      <td>2019-05-03 11:03:52</td>\n",
              "      <td>NaN</td>\n",
              "      <td>2019-05-03 11:03:52</td>\n",
              "      <td>2019-05-03 11:03:52</td>\n",
              "    </tr>\n",
              "    <tr>\n",
              "      <td>1</td>\n",
              "      <td>2</td>\n",
              "      <td>NaN</td>\n",
              "      <td>NaN</td>\n",
              "      <td>NaN</td>\n",
              "      <td>2019-05-03 11:46:38</td>\n",
              "      <td>NaN</td>\n",
              "      <td>NaN</td>\n",
              "      <td>NaN</td>\n",
              "      <td>NaN</td>\n",
              "      <td>NaN</td>\n",
              "      <td>NaN</td>\n",
              "      <td>NaN</td>\n",
              "      <td>2019-05-03 11:40:20</td>\n",
              "      <td>NaN</td>\n",
              "      <td>2019-05-03 11:40:20</td>\n",
              "      <td>2019-05-03 11:40:20</td>\n",
              "    </tr>\n",
              "    <tr>\n",
              "      <td>2</td>\n",
              "      <td>3</td>\n",
              "      <td>NaN</td>\n",
              "      <td>NaN</td>\n",
              "      <td>NaN</td>\n",
              "      <td>2019-05-03 12:31:06</td>\n",
              "      <td>NaN</td>\n",
              "      <td>NaN</td>\n",
              "      <td>NaN</td>\n",
              "      <td>NaN</td>\n",
              "      <td>NaN</td>\n",
              "      <td>NaN</td>\n",
              "      <td>NaN</td>\n",
              "      <td>2019-05-03 12:09:40</td>\n",
              "      <td>NaN</td>\n",
              "      <td>2019-05-03 12:09:40</td>\n",
              "      <td>2019-05-03 12:09:40</td>\n",
              "    </tr>\n",
              "    <tr>\n",
              "      <td>3</td>\n",
              "      <td>4</td>\n",
              "      <td>NaN</td>\n",
              "      <td>NaN</td>\n",
              "      <td>NaN</td>\n",
              "      <td>2019-05-03 12:48:43</td>\n",
              "      <td>NaN</td>\n",
              "      <td>NaN</td>\n",
              "      <td>NaN</td>\n",
              "      <td>NaN</td>\n",
              "      <td>NaN</td>\n",
              "      <td>NaN</td>\n",
              "      <td>NaN</td>\n",
              "      <td>2019-05-03 12:41:24</td>\n",
              "      <td>NaN</td>\n",
              "      <td>2019-05-03 12:41:24</td>\n",
              "      <td>2019-05-03 12:41:24</td>\n",
              "    </tr>\n",
              "    <tr>\n",
              "      <td>4</td>\n",
              "      <td>5</td>\n",
              "      <td>NaN</td>\n",
              "      <td>NaN</td>\n",
              "      <td>NaN</td>\n",
              "      <td>2019-05-03 13:18:50</td>\n",
              "      <td>NaN</td>\n",
              "      <td>NaN</td>\n",
              "      <td>NaN</td>\n",
              "      <td>NaN</td>\n",
              "      <td>NaN</td>\n",
              "      <td>NaN</td>\n",
              "      <td>NaN</td>\n",
              "      <td>2019-05-03 13:12:56</td>\n",
              "      <td>NaN</td>\n",
              "      <td>2019-05-03 13:12:56</td>\n",
              "      <td>2019-05-03 13:12:56</td>\n",
              "    </tr>\n",
              "    <tr>\n",
              "      <td>...</td>\n",
              "      <td>...</td>\n",
              "      <td>...</td>\n",
              "      <td>...</td>\n",
              "      <td>...</td>\n",
              "      <td>...</td>\n",
              "      <td>...</td>\n",
              "      <td>...</td>\n",
              "      <td>...</td>\n",
              "      <td>...</td>\n",
              "      <td>...</td>\n",
              "      <td>...</td>\n",
              "      <td>...</td>\n",
              "      <td>...</td>\n",
              "      <td>...</td>\n",
              "      <td>...</td>\n",
              "      <td>...</td>\n",
              "    </tr>\n",
              "    <tr>\n",
              "      <td>3124</td>\n",
              "      <td>3237</td>\n",
              "      <td>NaN</td>\n",
              "      <td>NaN</td>\n",
              "      <td>2019-08-31 22:51:28</td>\n",
              "      <td>NaN</td>\n",
              "      <td>NaN</td>\n",
              "      <td>NaN</td>\n",
              "      <td>NaN</td>\n",
              "      <td>NaN</td>\n",
              "      <td>NaN</td>\n",
              "      <td>NaN</td>\n",
              "      <td>NaN</td>\n",
              "      <td>2019-08-31 22:46:52</td>\n",
              "      <td>NaN</td>\n",
              "      <td>2019-08-31 22:46:52</td>\n",
              "      <td>2019-08-31 22:46:52</td>\n",
              "    </tr>\n",
              "    <tr>\n",
              "      <td>3125</td>\n",
              "      <td>3238</td>\n",
              "      <td>NaN</td>\n",
              "      <td>NaN</td>\n",
              "      <td>2019-08-31 23:39:11</td>\n",
              "      <td>NaN</td>\n",
              "      <td>NaN</td>\n",
              "      <td>NaN</td>\n",
              "      <td>NaN</td>\n",
              "      <td>NaN</td>\n",
              "      <td>NaN</td>\n",
              "      <td>NaN</td>\n",
              "      <td>NaN</td>\n",
              "      <td>2019-08-31 23:33:09</td>\n",
              "      <td>NaN</td>\n",
              "      <td>2019-08-31 23:33:09</td>\n",
              "      <td>2019-08-31 23:33:09</td>\n",
              "    </tr>\n",
              "    <tr>\n",
              "      <td>3126</td>\n",
              "      <td>3239</td>\n",
              "      <td>NaN</td>\n",
              "      <td>NaN</td>\n",
              "      <td>NaN</td>\n",
              "      <td>NaN</td>\n",
              "      <td>NaN</td>\n",
              "      <td>2019-09-01 01:51:58</td>\n",
              "      <td>NaN</td>\n",
              "      <td>NaN</td>\n",
              "      <td>NaN</td>\n",
              "      <td>NaN</td>\n",
              "      <td>NaN</td>\n",
              "      <td>2019-09-01 01:39:41</td>\n",
              "      <td>NaN</td>\n",
              "      <td>2019-09-01 01:33:25</td>\n",
              "      <td>2019-09-01 01:33:25</td>\n",
              "    </tr>\n",
              "    <tr>\n",
              "      <td>3127</td>\n",
              "      <td>3240</td>\n",
              "      <td>NaN</td>\n",
              "      <td>NaN</td>\n",
              "      <td>NaN</td>\n",
              "      <td>NaN</td>\n",
              "      <td>NaN</td>\n",
              "      <td>2019-09-01 03:12:40</td>\n",
              "      <td>NaN</td>\n",
              "      <td>NaN</td>\n",
              "      <td>NaN</td>\n",
              "      <td>NaN</td>\n",
              "      <td>NaN</td>\n",
              "      <td>NaN</td>\n",
              "      <td>NaN</td>\n",
              "      <td>2019-09-01 02:41:27</td>\n",
              "      <td>2019-09-01 02:41:27</td>\n",
              "    </tr>\n",
              "    <tr>\n",
              "      <td>3128</td>\n",
              "      <td>3241</td>\n",
              "      <td>NaN</td>\n",
              "      <td>NaN</td>\n",
              "      <td>NaN</td>\n",
              "      <td>NaN</td>\n",
              "      <td>NaN</td>\n",
              "      <td>NaN</td>\n",
              "      <td>NaN</td>\n",
              "      <td>NaN</td>\n",
              "      <td>NaN</td>\n",
              "      <td>NaN</td>\n",
              "      <td>NaN</td>\n",
              "      <td>NaN</td>\n",
              "      <td>NaN</td>\n",
              "      <td>2019-09-01 04:05:34</td>\n",
              "      <td>2019-09-01 04:05:34</td>\n",
              "    </tr>\n",
              "  </tbody>\n",
              "</table>\n",
              "<p>3129 rows × 16 columns</p>\n",
              "</div>"
            ],
            "text/plain": [
              "       key Bulk 1 Bulk 2               Bulk 3               Bulk 4 Bulk 5  \\\n",
              "0        1    NaN    NaN                  NaN  2019-05-03 11:21:30    NaN   \n",
              "1        2    NaN    NaN                  NaN  2019-05-03 11:46:38    NaN   \n",
              "2        3    NaN    NaN                  NaN  2019-05-03 12:31:06    NaN   \n",
              "3        4    NaN    NaN                  NaN  2019-05-03 12:48:43    NaN   \n",
              "4        5    NaN    NaN                  NaN  2019-05-03 13:18:50    NaN   \n",
              "...    ...    ...    ...                  ...                  ...    ...   \n",
              "3124  3237    NaN    NaN  2019-08-31 22:51:28                  NaN    NaN   \n",
              "3125  3238    NaN    NaN  2019-08-31 23:39:11                  NaN    NaN   \n",
              "3126  3239    NaN    NaN                  NaN                  NaN    NaN   \n",
              "3127  3240    NaN    NaN                  NaN                  NaN    NaN   \n",
              "3128  3241    NaN    NaN                  NaN                  NaN    NaN   \n",
              "\n",
              "                   Bulk 6 Bulk 7 Bulk 8 Bulk 9 Bulk 10 Bulk 11  \\\n",
              "0                     NaN    NaN    NaN    NaN     NaN     NaN   \n",
              "1                     NaN    NaN    NaN    NaN     NaN     NaN   \n",
              "2                     NaN    NaN    NaN    NaN     NaN     NaN   \n",
              "3                     NaN    NaN    NaN    NaN     NaN     NaN   \n",
              "4                     NaN    NaN    NaN    NaN     NaN     NaN   \n",
              "...                   ...    ...    ...    ...     ...     ...   \n",
              "3124                  NaN    NaN    NaN    NaN     NaN     NaN   \n",
              "3125                  NaN    NaN    NaN    NaN     NaN     NaN   \n",
              "3126  2019-09-01 01:51:58    NaN    NaN    NaN     NaN     NaN   \n",
              "3127  2019-09-01 03:12:40    NaN    NaN    NaN     NaN     NaN   \n",
              "3128                  NaN    NaN    NaN    NaN     NaN     NaN   \n",
              "\n",
              "                  Bulk 12 Bulk 13              Bulk 14              Bulk 15  \n",
              "0     2019-05-03 11:03:52     NaN  2019-05-03 11:03:52  2019-05-03 11:03:52  \n",
              "1     2019-05-03 11:40:20     NaN  2019-05-03 11:40:20  2019-05-03 11:40:20  \n",
              "2     2019-05-03 12:09:40     NaN  2019-05-03 12:09:40  2019-05-03 12:09:40  \n",
              "3     2019-05-03 12:41:24     NaN  2019-05-03 12:41:24  2019-05-03 12:41:24  \n",
              "4     2019-05-03 13:12:56     NaN  2019-05-03 13:12:56  2019-05-03 13:12:56  \n",
              "...                   ...     ...                  ...                  ...  \n",
              "3124  2019-08-31 22:46:52     NaN  2019-08-31 22:46:52  2019-08-31 22:46:52  \n",
              "3125  2019-08-31 23:33:09     NaN  2019-08-31 23:33:09  2019-08-31 23:33:09  \n",
              "3126  2019-09-01 01:39:41     NaN  2019-09-01 01:33:25  2019-09-01 01:33:25  \n",
              "3127                  NaN     NaN  2019-09-01 02:41:27  2019-09-01 02:41:27  \n",
              "3128                  NaN     NaN  2019-09-01 04:05:34  2019-09-01 04:05:34  \n",
              "\n",
              "[3129 rows x 16 columns]"
            ]
          },
          "metadata": {
            "tags": []
          },
          "execution_count": 8
        }
      ]
    },
    {
      "cell_type": "code",
      "metadata": {
        "colab": {
          "base_uri": "https://localhost:8080/"
        },
        "id": "8rxch9BEBXRl",
        "outputId": "52d69092-6722-4ba6-d7b8-86e2746a1b98"
      },
      "source": [
        "data_bulk_time.info()"
      ],
      "execution_count": null,
      "outputs": [
        {
          "output_type": "stream",
          "text": [
            "<class 'pandas.core.frame.DataFrame'>\n",
            "RangeIndex: 3129 entries, 0 to 3128\n",
            "Data columns (total 16 columns):\n",
            "key        3129 non-null int64\n",
            "Bulk 1     252 non-null object\n",
            "Bulk 2     22 non-null object\n",
            "Bulk 3     1298 non-null object\n",
            "Bulk 4     1014 non-null object\n",
            "Bulk 5     77 non-null object\n",
            "Bulk 6     576 non-null object\n",
            "Bulk 7     25 non-null object\n",
            "Bulk 8     1 non-null object\n",
            "Bulk 9     19 non-null object\n",
            "Bulk 10    176 non-null object\n",
            "Bulk 11    177 non-null object\n",
            "Bulk 12    2450 non-null object\n",
            "Bulk 13    18 non-null object\n",
            "Bulk 14    2806 non-null object\n",
            "Bulk 15    2248 non-null object\n",
            "dtypes: int64(1), object(15)\n",
            "memory usage: 391.2+ KB\n"
          ],
          "name": "stdout"
        }
      ]
    },
    {
      "cell_type": "code",
      "metadata": {
        "colab": {
          "base_uri": "https://localhost:8080/",
          "height": 391
        },
        "id": "8Y66ZnBDB0ZT",
        "outputId": "db1db4db-5b09-4e55-a254-9357a2d6c494"
      },
      "source": [
        "data_gas"
      ],
      "execution_count": null,
      "outputs": [
        {
          "output_type": "execute_result",
          "data": {
            "text/html": [
              "<div>\n",
              "<style scoped>\n",
              "    .dataframe tbody tr th:only-of-type {\n",
              "        vertical-align: middle;\n",
              "    }\n",
              "\n",
              "    .dataframe tbody tr th {\n",
              "        vertical-align: top;\n",
              "    }\n",
              "\n",
              "    .dataframe thead th {\n",
              "        text-align: right;\n",
              "    }\n",
              "</style>\n",
              "<table border=\"1\" class=\"dataframe\">\n",
              "  <thead>\n",
              "    <tr style=\"text-align: right;\">\n",
              "      <th></th>\n",
              "      <th>key</th>\n",
              "      <th>Газ 1</th>\n",
              "    </tr>\n",
              "  </thead>\n",
              "  <tbody>\n",
              "    <tr>\n",
              "      <td>0</td>\n",
              "      <td>1</td>\n",
              "      <td>29.749986</td>\n",
              "    </tr>\n",
              "    <tr>\n",
              "      <td>1</td>\n",
              "      <td>2</td>\n",
              "      <td>12.555561</td>\n",
              "    </tr>\n",
              "    <tr>\n",
              "      <td>2</td>\n",
              "      <td>3</td>\n",
              "      <td>28.554793</td>\n",
              "    </tr>\n",
              "    <tr>\n",
              "      <td>3</td>\n",
              "      <td>4</td>\n",
              "      <td>18.841219</td>\n",
              "    </tr>\n",
              "    <tr>\n",
              "      <td>4</td>\n",
              "      <td>5</td>\n",
              "      <td>5.413692</td>\n",
              "    </tr>\n",
              "    <tr>\n",
              "      <td>...</td>\n",
              "      <td>...</td>\n",
              "      <td>...</td>\n",
              "    </tr>\n",
              "    <tr>\n",
              "      <td>3234</td>\n",
              "      <td>3237</td>\n",
              "      <td>5.543905</td>\n",
              "    </tr>\n",
              "    <tr>\n",
              "      <td>3235</td>\n",
              "      <td>3238</td>\n",
              "      <td>6.745669</td>\n",
              "    </tr>\n",
              "    <tr>\n",
              "      <td>3236</td>\n",
              "      <td>3239</td>\n",
              "      <td>16.023518</td>\n",
              "    </tr>\n",
              "    <tr>\n",
              "      <td>3237</td>\n",
              "      <td>3240</td>\n",
              "      <td>11.863103</td>\n",
              "    </tr>\n",
              "    <tr>\n",
              "      <td>3238</td>\n",
              "      <td>3241</td>\n",
              "      <td>12.680959</td>\n",
              "    </tr>\n",
              "  </tbody>\n",
              "</table>\n",
              "<p>3239 rows × 2 columns</p>\n",
              "</div>"
            ],
            "text/plain": [
              "       key      Газ 1\n",
              "0        1  29.749986\n",
              "1        2  12.555561\n",
              "2        3  28.554793\n",
              "3        4  18.841219\n",
              "4        5   5.413692\n",
              "...    ...        ...\n",
              "3234  3237   5.543905\n",
              "3235  3238   6.745669\n",
              "3236  3239  16.023518\n",
              "3237  3240  11.863103\n",
              "3238  3241  12.680959\n",
              "\n",
              "[3239 rows x 2 columns]"
            ]
          },
          "metadata": {
            "tags": []
          },
          "execution_count": 10
        }
      ]
    },
    {
      "cell_type": "code",
      "metadata": {
        "colab": {
          "base_uri": "https://localhost:8080/"
        },
        "id": "g2Jg9lPGCT6_",
        "outputId": "89b9dfdd-1ab0-4712-b9be-d351177dfb8f"
      },
      "source": [
        "data_gas.info()"
      ],
      "execution_count": null,
      "outputs": [
        {
          "output_type": "stream",
          "text": [
            "<class 'pandas.core.frame.DataFrame'>\n",
            "RangeIndex: 3239 entries, 0 to 3238\n",
            "Data columns (total 2 columns):\n",
            "key      3239 non-null int64\n",
            "Газ 1    3239 non-null float64\n",
            "dtypes: float64(1), int64(1)\n",
            "memory usage: 50.7 KB\n"
          ],
          "name": "stdout"
        }
      ]
    },
    {
      "cell_type": "code",
      "metadata": {
        "colab": {
          "base_uri": "https://localhost:8080/",
          "height": 391
        },
        "id": "AH0bjwvNDS49",
        "outputId": "ed734104-84c8-464a-d3b5-0f5f28f6ce9c"
      },
      "source": [
        "data_temp"
      ],
      "execution_count": null,
      "outputs": [
        {
          "output_type": "execute_result",
          "data": {
            "text/html": [
              "<div>\n",
              "<style scoped>\n",
              "    .dataframe tbody tr th:only-of-type {\n",
              "        vertical-align: middle;\n",
              "    }\n",
              "\n",
              "    .dataframe tbody tr th {\n",
              "        vertical-align: top;\n",
              "    }\n",
              "\n",
              "    .dataframe thead th {\n",
              "        text-align: right;\n",
              "    }\n",
              "</style>\n",
              "<table border=\"1\" class=\"dataframe\">\n",
              "  <thead>\n",
              "    <tr style=\"text-align: right;\">\n",
              "      <th></th>\n",
              "      <th>key</th>\n",
              "      <th>Время замера</th>\n",
              "      <th>Температура</th>\n",
              "    </tr>\n",
              "  </thead>\n",
              "  <tbody>\n",
              "    <tr>\n",
              "      <td>0</td>\n",
              "      <td>1</td>\n",
              "      <td>2019-05-03 11:16:18</td>\n",
              "      <td>1571.0</td>\n",
              "    </tr>\n",
              "    <tr>\n",
              "      <td>1</td>\n",
              "      <td>1</td>\n",
              "      <td>2019-05-03 11:25:53</td>\n",
              "      <td>1604.0</td>\n",
              "    </tr>\n",
              "    <tr>\n",
              "      <td>2</td>\n",
              "      <td>1</td>\n",
              "      <td>2019-05-03 11:29:11</td>\n",
              "      <td>1618.0</td>\n",
              "    </tr>\n",
              "    <tr>\n",
              "      <td>3</td>\n",
              "      <td>1</td>\n",
              "      <td>2019-05-03 11:30:01</td>\n",
              "      <td>1601.0</td>\n",
              "    </tr>\n",
              "    <tr>\n",
              "      <td>4</td>\n",
              "      <td>1</td>\n",
              "      <td>2019-05-03 11:30:39</td>\n",
              "      <td>1613.0</td>\n",
              "    </tr>\n",
              "    <tr>\n",
              "      <td>...</td>\n",
              "      <td>...</td>\n",
              "      <td>...</td>\n",
              "      <td>...</td>\n",
              "    </tr>\n",
              "    <tr>\n",
              "      <td>15902</td>\n",
              "      <td>3241</td>\n",
              "      <td>2019-09-01 04:03:30</td>\n",
              "      <td>1586.0</td>\n",
              "    </tr>\n",
              "    <tr>\n",
              "      <td>15903</td>\n",
              "      <td>3241</td>\n",
              "      <td>2019-09-01 04:16:12</td>\n",
              "      <td>NaN</td>\n",
              "    </tr>\n",
              "    <tr>\n",
              "      <td>15904</td>\n",
              "      <td>3241</td>\n",
              "      <td>2019-09-01 04:22:39</td>\n",
              "      <td>NaN</td>\n",
              "    </tr>\n",
              "    <tr>\n",
              "      <td>15905</td>\n",
              "      <td>3241</td>\n",
              "      <td>2019-09-01 04:33:42</td>\n",
              "      <td>NaN</td>\n",
              "    </tr>\n",
              "    <tr>\n",
              "      <td>15906</td>\n",
              "      <td>3241</td>\n",
              "      <td>2019-09-01 04:38:08</td>\n",
              "      <td>NaN</td>\n",
              "    </tr>\n",
              "  </tbody>\n",
              "</table>\n",
              "<p>15907 rows × 3 columns</p>\n",
              "</div>"
            ],
            "text/plain": [
              "        key         Время замера  Температура\n",
              "0         1  2019-05-03 11:16:18       1571.0\n",
              "1         1  2019-05-03 11:25:53       1604.0\n",
              "2         1  2019-05-03 11:29:11       1618.0\n",
              "3         1  2019-05-03 11:30:01       1601.0\n",
              "4         1  2019-05-03 11:30:39       1613.0\n",
              "...     ...                  ...          ...\n",
              "15902  3241  2019-09-01 04:03:30       1586.0\n",
              "15903  3241  2019-09-01 04:16:12          NaN\n",
              "15904  3241  2019-09-01 04:22:39          NaN\n",
              "15905  3241  2019-09-01 04:33:42          NaN\n",
              "15906  3241  2019-09-01 04:38:08          NaN\n",
              "\n",
              "[15907 rows x 3 columns]"
            ]
          },
          "metadata": {
            "tags": []
          },
          "execution_count": 12
        }
      ]
    },
    {
      "cell_type": "code",
      "metadata": {
        "colab": {
          "base_uri": "https://localhost:8080/"
        },
        "id": "bIiToslEDWC3",
        "outputId": "9ee29190-efb4-4c09-e263-33c5b08421f3"
      },
      "source": [
        "data_temp.info()"
      ],
      "execution_count": null,
      "outputs": [
        {
          "output_type": "stream",
          "text": [
            "<class 'pandas.core.frame.DataFrame'>\n",
            "RangeIndex: 15907 entries, 0 to 15906\n",
            "Data columns (total 3 columns):\n",
            "key             15907 non-null int64\n",
            "Время замера    15907 non-null object\n",
            "Температура     13006 non-null float64\n",
            "dtypes: float64(1), int64(1), object(1)\n",
            "memory usage: 372.9+ KB\n"
          ],
          "name": "stdout"
        }
      ]
    },
    {
      "cell_type": "code",
      "metadata": {
        "colab": {
          "base_uri": "https://localhost:8080/",
          "height": 667
        },
        "id": "bQrnAAkIDg6M",
        "outputId": "6b5e395a-5244-4057-9d99-a65e3eebd173"
      },
      "source": [
        "display(data_wire)\n",
        "data_wire.info()"
      ],
      "execution_count": null,
      "outputs": [
        {
          "output_type": "display_data",
          "data": {
            "text/html": [
              "<div>\n",
              "<style scoped>\n",
              "    .dataframe tbody tr th:only-of-type {\n",
              "        vertical-align: middle;\n",
              "    }\n",
              "\n",
              "    .dataframe tbody tr th {\n",
              "        vertical-align: top;\n",
              "    }\n",
              "\n",
              "    .dataframe thead th {\n",
              "        text-align: right;\n",
              "    }\n",
              "</style>\n",
              "<table border=\"1\" class=\"dataframe\">\n",
              "  <thead>\n",
              "    <tr style=\"text-align: right;\">\n",
              "      <th></th>\n",
              "      <th>key</th>\n",
              "      <th>Wire 1</th>\n",
              "      <th>Wire 2</th>\n",
              "      <th>Wire 3</th>\n",
              "      <th>Wire 4</th>\n",
              "      <th>Wire 5</th>\n",
              "      <th>Wire 6</th>\n",
              "      <th>Wire 7</th>\n",
              "      <th>Wire 8</th>\n",
              "      <th>Wire 9</th>\n",
              "    </tr>\n",
              "  </thead>\n",
              "  <tbody>\n",
              "    <tr>\n",
              "      <td>0</td>\n",
              "      <td>1</td>\n",
              "      <td>60.059998</td>\n",
              "      <td>NaN</td>\n",
              "      <td>NaN</td>\n",
              "      <td>NaN</td>\n",
              "      <td>NaN</td>\n",
              "      <td>NaN</td>\n",
              "      <td>NaN</td>\n",
              "      <td>NaN</td>\n",
              "      <td>NaN</td>\n",
              "    </tr>\n",
              "    <tr>\n",
              "      <td>1</td>\n",
              "      <td>2</td>\n",
              "      <td>96.052315</td>\n",
              "      <td>NaN</td>\n",
              "      <td>NaN</td>\n",
              "      <td>NaN</td>\n",
              "      <td>NaN</td>\n",
              "      <td>NaN</td>\n",
              "      <td>NaN</td>\n",
              "      <td>NaN</td>\n",
              "      <td>NaN</td>\n",
              "    </tr>\n",
              "    <tr>\n",
              "      <td>2</td>\n",
              "      <td>3</td>\n",
              "      <td>91.160157</td>\n",
              "      <td>NaN</td>\n",
              "      <td>NaN</td>\n",
              "      <td>NaN</td>\n",
              "      <td>NaN</td>\n",
              "      <td>NaN</td>\n",
              "      <td>NaN</td>\n",
              "      <td>NaN</td>\n",
              "      <td>NaN</td>\n",
              "    </tr>\n",
              "    <tr>\n",
              "      <td>3</td>\n",
              "      <td>4</td>\n",
              "      <td>89.063515</td>\n",
              "      <td>NaN</td>\n",
              "      <td>NaN</td>\n",
              "      <td>NaN</td>\n",
              "      <td>NaN</td>\n",
              "      <td>NaN</td>\n",
              "      <td>NaN</td>\n",
              "      <td>NaN</td>\n",
              "      <td>NaN</td>\n",
              "    </tr>\n",
              "    <tr>\n",
              "      <td>4</td>\n",
              "      <td>5</td>\n",
              "      <td>89.238236</td>\n",
              "      <td>9.11456</td>\n",
              "      <td>NaN</td>\n",
              "      <td>NaN</td>\n",
              "      <td>NaN</td>\n",
              "      <td>NaN</td>\n",
              "      <td>NaN</td>\n",
              "      <td>NaN</td>\n",
              "      <td>NaN</td>\n",
              "    </tr>\n",
              "    <tr>\n",
              "      <td>...</td>\n",
              "      <td>...</td>\n",
              "      <td>...</td>\n",
              "      <td>...</td>\n",
              "      <td>...</td>\n",
              "      <td>...</td>\n",
              "      <td>...</td>\n",
              "      <td>...</td>\n",
              "      <td>...</td>\n",
              "      <td>...</td>\n",
              "      <td>...</td>\n",
              "    </tr>\n",
              "    <tr>\n",
              "      <td>3076</td>\n",
              "      <td>3237</td>\n",
              "      <td>38.088959</td>\n",
              "      <td>NaN</td>\n",
              "      <td>NaN</td>\n",
              "      <td>NaN</td>\n",
              "      <td>NaN</td>\n",
              "      <td>NaN</td>\n",
              "      <td>NaN</td>\n",
              "      <td>NaN</td>\n",
              "      <td>NaN</td>\n",
              "    </tr>\n",
              "    <tr>\n",
              "      <td>3077</td>\n",
              "      <td>3238</td>\n",
              "      <td>56.128799</td>\n",
              "      <td>NaN</td>\n",
              "      <td>NaN</td>\n",
              "      <td>NaN</td>\n",
              "      <td>NaN</td>\n",
              "      <td>NaN</td>\n",
              "      <td>NaN</td>\n",
              "      <td>NaN</td>\n",
              "      <td>NaN</td>\n",
              "    </tr>\n",
              "    <tr>\n",
              "      <td>3078</td>\n",
              "      <td>3239</td>\n",
              "      <td>143.357761</td>\n",
              "      <td>NaN</td>\n",
              "      <td>NaN</td>\n",
              "      <td>NaN</td>\n",
              "      <td>NaN</td>\n",
              "      <td>NaN</td>\n",
              "      <td>NaN</td>\n",
              "      <td>NaN</td>\n",
              "      <td>NaN</td>\n",
              "    </tr>\n",
              "    <tr>\n",
              "      <td>3079</td>\n",
              "      <td>3240</td>\n",
              "      <td>34.070400</td>\n",
              "      <td>NaN</td>\n",
              "      <td>NaN</td>\n",
              "      <td>NaN</td>\n",
              "      <td>NaN</td>\n",
              "      <td>NaN</td>\n",
              "      <td>NaN</td>\n",
              "      <td>NaN</td>\n",
              "      <td>NaN</td>\n",
              "    </tr>\n",
              "    <tr>\n",
              "      <td>3080</td>\n",
              "      <td>3241</td>\n",
              "      <td>63.117595</td>\n",
              "      <td>NaN</td>\n",
              "      <td>NaN</td>\n",
              "      <td>NaN</td>\n",
              "      <td>NaN</td>\n",
              "      <td>NaN</td>\n",
              "      <td>NaN</td>\n",
              "      <td>NaN</td>\n",
              "      <td>NaN</td>\n",
              "    </tr>\n",
              "  </tbody>\n",
              "</table>\n",
              "<p>3081 rows × 10 columns</p>\n",
              "</div>"
            ],
            "text/plain": [
              "       key      Wire 1   Wire 2  Wire 3  Wire 4  Wire 5  Wire 6  Wire 7  \\\n",
              "0        1   60.059998      NaN     NaN     NaN     NaN     NaN     NaN   \n",
              "1        2   96.052315      NaN     NaN     NaN     NaN     NaN     NaN   \n",
              "2        3   91.160157      NaN     NaN     NaN     NaN     NaN     NaN   \n",
              "3        4   89.063515      NaN     NaN     NaN     NaN     NaN     NaN   \n",
              "4        5   89.238236  9.11456     NaN     NaN     NaN     NaN     NaN   \n",
              "...    ...         ...      ...     ...     ...     ...     ...     ...   \n",
              "3076  3237   38.088959      NaN     NaN     NaN     NaN     NaN     NaN   \n",
              "3077  3238   56.128799      NaN     NaN     NaN     NaN     NaN     NaN   \n",
              "3078  3239  143.357761      NaN     NaN     NaN     NaN     NaN     NaN   \n",
              "3079  3240   34.070400      NaN     NaN     NaN     NaN     NaN     NaN   \n",
              "3080  3241   63.117595      NaN     NaN     NaN     NaN     NaN     NaN   \n",
              "\n",
              "      Wire 8  Wire 9  \n",
              "0        NaN     NaN  \n",
              "1        NaN     NaN  \n",
              "2        NaN     NaN  \n",
              "3        NaN     NaN  \n",
              "4        NaN     NaN  \n",
              "...      ...     ...  \n",
              "3076     NaN     NaN  \n",
              "3077     NaN     NaN  \n",
              "3078     NaN     NaN  \n",
              "3079     NaN     NaN  \n",
              "3080     NaN     NaN  \n",
              "\n",
              "[3081 rows x 10 columns]"
            ]
          },
          "metadata": {
            "tags": []
          }
        },
        {
          "output_type": "stream",
          "text": [
            "<class 'pandas.core.frame.DataFrame'>\n",
            "RangeIndex: 3081 entries, 0 to 3080\n",
            "Data columns (total 10 columns):\n",
            "key       3081 non-null int64\n",
            "Wire 1    3055 non-null float64\n",
            "Wire 2    1079 non-null float64\n",
            "Wire 3    63 non-null float64\n",
            "Wire 4    14 non-null float64\n",
            "Wire 5    1 non-null float64\n",
            "Wire 6    73 non-null float64\n",
            "Wire 7    11 non-null float64\n",
            "Wire 8    19 non-null float64\n",
            "Wire 9    29 non-null float64\n",
            "dtypes: float64(9), int64(1)\n",
            "memory usage: 240.8 KB\n"
          ],
          "name": "stdout"
        }
      ]
    },
    {
      "cell_type": "code",
      "metadata": {
        "colab": {
          "base_uri": "https://localhost:8080/",
          "height": 667
        },
        "id": "UfEWHUGeEEEe",
        "outputId": "1c68d969-0794-46f4-b514-2cf991b83a6c"
      },
      "source": [
        "display(data_wire_time)\n",
        "data_wire.info()"
      ],
      "execution_count": null,
      "outputs": [
        {
          "output_type": "display_data",
          "data": {
            "text/html": [
              "<div>\n",
              "<style scoped>\n",
              "    .dataframe tbody tr th:only-of-type {\n",
              "        vertical-align: middle;\n",
              "    }\n",
              "\n",
              "    .dataframe tbody tr th {\n",
              "        vertical-align: top;\n",
              "    }\n",
              "\n",
              "    .dataframe thead th {\n",
              "        text-align: right;\n",
              "    }\n",
              "</style>\n",
              "<table border=\"1\" class=\"dataframe\">\n",
              "  <thead>\n",
              "    <tr style=\"text-align: right;\">\n",
              "      <th></th>\n",
              "      <th>key</th>\n",
              "      <th>Wire 1</th>\n",
              "      <th>Wire 2</th>\n",
              "      <th>Wire 3</th>\n",
              "      <th>Wire 4</th>\n",
              "      <th>Wire 5</th>\n",
              "      <th>Wire 6</th>\n",
              "      <th>Wire 7</th>\n",
              "      <th>Wire 8</th>\n",
              "      <th>Wire 9</th>\n",
              "    </tr>\n",
              "  </thead>\n",
              "  <tbody>\n",
              "    <tr>\n",
              "      <td>0</td>\n",
              "      <td>1</td>\n",
              "      <td>2019-05-03 11:11:41</td>\n",
              "      <td>NaN</td>\n",
              "      <td>NaN</td>\n",
              "      <td>NaN</td>\n",
              "      <td>NaN</td>\n",
              "      <td>NaN</td>\n",
              "      <td>NaN</td>\n",
              "      <td>NaN</td>\n",
              "      <td>NaN</td>\n",
              "    </tr>\n",
              "    <tr>\n",
              "      <td>1</td>\n",
              "      <td>2</td>\n",
              "      <td>2019-05-03 11:46:10</td>\n",
              "      <td>NaN</td>\n",
              "      <td>NaN</td>\n",
              "      <td>NaN</td>\n",
              "      <td>NaN</td>\n",
              "      <td>NaN</td>\n",
              "      <td>NaN</td>\n",
              "      <td>NaN</td>\n",
              "      <td>NaN</td>\n",
              "    </tr>\n",
              "    <tr>\n",
              "      <td>2</td>\n",
              "      <td>3</td>\n",
              "      <td>2019-05-03 12:13:47</td>\n",
              "      <td>NaN</td>\n",
              "      <td>NaN</td>\n",
              "      <td>NaN</td>\n",
              "      <td>NaN</td>\n",
              "      <td>NaN</td>\n",
              "      <td>NaN</td>\n",
              "      <td>NaN</td>\n",
              "      <td>NaN</td>\n",
              "    </tr>\n",
              "    <tr>\n",
              "      <td>3</td>\n",
              "      <td>4</td>\n",
              "      <td>2019-05-03 12:48:05</td>\n",
              "      <td>NaN</td>\n",
              "      <td>NaN</td>\n",
              "      <td>NaN</td>\n",
              "      <td>NaN</td>\n",
              "      <td>NaN</td>\n",
              "      <td>NaN</td>\n",
              "      <td>NaN</td>\n",
              "      <td>NaN</td>\n",
              "    </tr>\n",
              "    <tr>\n",
              "      <td>4</td>\n",
              "      <td>5</td>\n",
              "      <td>2019-05-03 13:18:15</td>\n",
              "      <td>2019-05-03 13:32:06</td>\n",
              "      <td>NaN</td>\n",
              "      <td>NaN</td>\n",
              "      <td>NaN</td>\n",
              "      <td>NaN</td>\n",
              "      <td>NaN</td>\n",
              "      <td>NaN</td>\n",
              "      <td>NaN</td>\n",
              "    </tr>\n",
              "    <tr>\n",
              "      <td>...</td>\n",
              "      <td>...</td>\n",
              "      <td>...</td>\n",
              "      <td>...</td>\n",
              "      <td>...</td>\n",
              "      <td>...</td>\n",
              "      <td>...</td>\n",
              "      <td>...</td>\n",
              "      <td>...</td>\n",
              "      <td>...</td>\n",
              "      <td>...</td>\n",
              "    </tr>\n",
              "    <tr>\n",
              "      <td>3076</td>\n",
              "      <td>3237</td>\n",
              "      <td>2019-08-31 22:50:20</td>\n",
              "      <td>NaN</td>\n",
              "      <td>NaN</td>\n",
              "      <td>NaN</td>\n",
              "      <td>NaN</td>\n",
              "      <td>NaN</td>\n",
              "      <td>NaN</td>\n",
              "      <td>NaN</td>\n",
              "      <td>NaN</td>\n",
              "    </tr>\n",
              "    <tr>\n",
              "      <td>3077</td>\n",
              "      <td>3238</td>\n",
              "      <td>2019-08-31 23:38:24</td>\n",
              "      <td>NaN</td>\n",
              "      <td>NaN</td>\n",
              "      <td>NaN</td>\n",
              "      <td>NaN</td>\n",
              "      <td>NaN</td>\n",
              "      <td>NaN</td>\n",
              "      <td>NaN</td>\n",
              "      <td>NaN</td>\n",
              "    </tr>\n",
              "    <tr>\n",
              "      <td>3078</td>\n",
              "      <td>3239</td>\n",
              "      <td>2019-09-01 01:50:43</td>\n",
              "      <td>NaN</td>\n",
              "      <td>NaN</td>\n",
              "      <td>NaN</td>\n",
              "      <td>NaN</td>\n",
              "      <td>NaN</td>\n",
              "      <td>NaN</td>\n",
              "      <td>NaN</td>\n",
              "      <td>NaN</td>\n",
              "    </tr>\n",
              "    <tr>\n",
              "      <td>3079</td>\n",
              "      <td>3240</td>\n",
              "      <td>2019-09-01 03:12:02</td>\n",
              "      <td>NaN</td>\n",
              "      <td>NaN</td>\n",
              "      <td>NaN</td>\n",
              "      <td>NaN</td>\n",
              "      <td>NaN</td>\n",
              "      <td>NaN</td>\n",
              "      <td>NaN</td>\n",
              "      <td>NaN</td>\n",
              "    </tr>\n",
              "    <tr>\n",
              "      <td>3080</td>\n",
              "      <td>3241</td>\n",
              "      <td>2019-09-01 04:16:01</td>\n",
              "      <td>NaN</td>\n",
              "      <td>NaN</td>\n",
              "      <td>NaN</td>\n",
              "      <td>NaN</td>\n",
              "      <td>NaN</td>\n",
              "      <td>NaN</td>\n",
              "      <td>NaN</td>\n",
              "      <td>NaN</td>\n",
              "    </tr>\n",
              "  </tbody>\n",
              "</table>\n",
              "<p>3081 rows × 10 columns</p>\n",
              "</div>"
            ],
            "text/plain": [
              "       key               Wire 1               Wire 2 Wire 3 Wire 4 Wire 5  \\\n",
              "0        1  2019-05-03 11:11:41                  NaN    NaN    NaN    NaN   \n",
              "1        2  2019-05-03 11:46:10                  NaN    NaN    NaN    NaN   \n",
              "2        3  2019-05-03 12:13:47                  NaN    NaN    NaN    NaN   \n",
              "3        4  2019-05-03 12:48:05                  NaN    NaN    NaN    NaN   \n",
              "4        5  2019-05-03 13:18:15  2019-05-03 13:32:06    NaN    NaN    NaN   \n",
              "...    ...                  ...                  ...    ...    ...    ...   \n",
              "3076  3237  2019-08-31 22:50:20                  NaN    NaN    NaN    NaN   \n",
              "3077  3238  2019-08-31 23:38:24                  NaN    NaN    NaN    NaN   \n",
              "3078  3239  2019-09-01 01:50:43                  NaN    NaN    NaN    NaN   \n",
              "3079  3240  2019-09-01 03:12:02                  NaN    NaN    NaN    NaN   \n",
              "3080  3241  2019-09-01 04:16:01                  NaN    NaN    NaN    NaN   \n",
              "\n",
              "     Wire 6 Wire 7 Wire 8 Wire 9  \n",
              "0       NaN    NaN    NaN    NaN  \n",
              "1       NaN    NaN    NaN    NaN  \n",
              "2       NaN    NaN    NaN    NaN  \n",
              "3       NaN    NaN    NaN    NaN  \n",
              "4       NaN    NaN    NaN    NaN  \n",
              "...     ...    ...    ...    ...  \n",
              "3076    NaN    NaN    NaN    NaN  \n",
              "3077    NaN    NaN    NaN    NaN  \n",
              "3078    NaN    NaN    NaN    NaN  \n",
              "3079    NaN    NaN    NaN    NaN  \n",
              "3080    NaN    NaN    NaN    NaN  \n",
              "\n",
              "[3081 rows x 10 columns]"
            ]
          },
          "metadata": {
            "tags": []
          }
        },
        {
          "output_type": "stream",
          "text": [
            "<class 'pandas.core.frame.DataFrame'>\n",
            "RangeIndex: 3081 entries, 0 to 3080\n",
            "Data columns (total 10 columns):\n",
            "key       3081 non-null int64\n",
            "Wire 1    3055 non-null float64\n",
            "Wire 2    1079 non-null float64\n",
            "Wire 3    63 non-null float64\n",
            "Wire 4    14 non-null float64\n",
            "Wire 5    1 non-null float64\n",
            "Wire 6    73 non-null float64\n",
            "Wire 7    11 non-null float64\n",
            "Wire 8    19 non-null float64\n",
            "Wire 9    29 non-null float64\n",
            "dtypes: float64(9), int64(1)\n",
            "memory usage: 240.8 KB\n"
          ],
          "name": "stdout"
        }
      ]
    },
    {
      "cell_type": "markdown",
      "metadata": {
        "id": "KYyBCXoCUPj0"
      },
      "source": [
        "----\n",
        "## Выполним исследовательский анализ данных"
      ]
    },
    {
      "cell_type": "markdown",
      "metadata": {
        "id": "wjOqko_pUwwq"
      },
      "source": [
        "### Приведём формат даты к формату `Datetime`"
      ]
    },
    {
      "cell_type": "code",
      "metadata": {
        "id": "rghFTIXqUs01"
      },
      "source": [
        "data_arc['Начало нагрева дугой']=pd.to_datetime(data_arc['Начало нагрева дугой'])\n",
        "data_arc['Конец нагрева дугой']=pd.to_datetime(data_arc['Конец нагрева дугой'])\n",
        "data_temp['Время замера']=pd.to_datetime(data_temp['Время замера'])"
      ],
      "execution_count": null,
      "outputs": []
    },
    {
      "cell_type": "code",
      "metadata": {
        "colab": {
          "base_uri": "https://localhost:8080/"
        },
        "id": "M7jWb2SqTOhl",
        "outputId": "4e57b0c6-ad28-425f-f6b6-e0404c7b4c46"
      },
      "source": [
        "data_arc.info()"
      ],
      "execution_count": null,
      "outputs": [
        {
          "output_type": "stream",
          "text": [
            "<class 'pandas.core.frame.DataFrame'>\n",
            "RangeIndex: 14876 entries, 0 to 14875\n",
            "Data columns (total 5 columns):\n",
            "key                     14876 non-null int64\n",
            "Начало нагрева дугой    14876 non-null datetime64[ns]\n",
            "Конец нагрева дугой     14876 non-null datetime64[ns]\n",
            "Активная мощность       14876 non-null float64\n",
            "Реактивная мощность     14876 non-null float64\n",
            "dtypes: datetime64[ns](2), float64(2), int64(1)\n",
            "memory usage: 581.2 KB\n"
          ],
          "name": "stdout"
        }
      ]
    },
    {
      "cell_type": "code",
      "metadata": {
        "colab": {
          "base_uri": "https://localhost:8080/",
          "height": 277
        },
        "id": "1ev-nS3dUjYd",
        "outputId": "81748f8d-5f78-4261-94b5-90b8a1791205"
      },
      "source": [
        "data_arc.describe()"
      ],
      "execution_count": null,
      "outputs": [
        {
          "output_type": "execute_result",
          "data": {
            "text/html": [
              "<div>\n",
              "<style scoped>\n",
              "    .dataframe tbody tr th:only-of-type {\n",
              "        vertical-align: middle;\n",
              "    }\n",
              "\n",
              "    .dataframe tbody tr th {\n",
              "        vertical-align: top;\n",
              "    }\n",
              "\n",
              "    .dataframe thead th {\n",
              "        text-align: right;\n",
              "    }\n",
              "</style>\n",
              "<table border=\"1\" class=\"dataframe\">\n",
              "  <thead>\n",
              "    <tr style=\"text-align: right;\">\n",
              "      <th></th>\n",
              "      <th>key</th>\n",
              "      <th>Активная мощность</th>\n",
              "      <th>Реактивная мощность</th>\n",
              "    </tr>\n",
              "  </thead>\n",
              "  <tbody>\n",
              "    <tr>\n",
              "      <td>count</td>\n",
              "      <td>14876.000000</td>\n",
              "      <td>14876.000000</td>\n",
              "      <td>14876.000000</td>\n",
              "    </tr>\n",
              "    <tr>\n",
              "      <td>mean</td>\n",
              "      <td>1615.220422</td>\n",
              "      <td>0.670441</td>\n",
              "      <td>0.452592</td>\n",
              "    </tr>\n",
              "    <tr>\n",
              "      <td>std</td>\n",
              "      <td>934.571502</td>\n",
              "      <td>0.408159</td>\n",
              "      <td>5.878702</td>\n",
              "    </tr>\n",
              "    <tr>\n",
              "      <td>min</td>\n",
              "      <td>1.000000</td>\n",
              "      <td>0.030002</td>\n",
              "      <td>-715.504924</td>\n",
              "    </tr>\n",
              "    <tr>\n",
              "      <td>25%</td>\n",
              "      <td>806.000000</td>\n",
              "      <td>0.395297</td>\n",
              "      <td>0.290991</td>\n",
              "    </tr>\n",
              "    <tr>\n",
              "      <td>50%</td>\n",
              "      <td>1617.000000</td>\n",
              "      <td>0.555517</td>\n",
              "      <td>0.415962</td>\n",
              "    </tr>\n",
              "    <tr>\n",
              "      <td>75%</td>\n",
              "      <td>2429.000000</td>\n",
              "      <td>0.857034</td>\n",
              "      <td>0.637371</td>\n",
              "    </tr>\n",
              "    <tr>\n",
              "      <td>max</td>\n",
              "      <td>3241.000000</td>\n",
              "      <td>3.731596</td>\n",
              "      <td>2.676388</td>\n",
              "    </tr>\n",
              "  </tbody>\n",
              "</table>\n",
              "</div>"
            ],
            "text/plain": [
              "                key  Активная мощность  Реактивная мощность\n",
              "count  14876.000000       14876.000000         14876.000000\n",
              "mean    1615.220422           0.670441             0.452592\n",
              "std      934.571502           0.408159             5.878702\n",
              "min        1.000000           0.030002          -715.504924\n",
              "25%      806.000000           0.395297             0.290991\n",
              "50%     1617.000000           0.555517             0.415962\n",
              "75%     2429.000000           0.857034             0.637371\n",
              "max     3241.000000           3.731596             2.676388"
            ]
          },
          "metadata": {
            "tags": []
          },
          "execution_count": 18
        }
      ]
    },
    {
      "cell_type": "markdown",
      "metadata": {
        "id": "NrnOUb4djeQL"
      },
      "source": [
        "## Посмотрим на распределение мощностей и отобразим их на одном графике"
      ]
    },
    {
      "cell_type": "code",
      "metadata": {
        "id": "9sv0tNtuktvu"
      },
      "source": [
        "sns.set_style('darkgrid')"
      ],
      "execution_count": null,
      "outputs": []
    },
    {
      "cell_type": "markdown",
      "metadata": {
        "id": "d8_1UbOXg7il"
      },
      "source": [
        "### Для начала проверим выбросы в данных при помощи `boxplot`"
      ]
    },
    {
      "cell_type": "code",
      "metadata": {
        "colab": {
          "base_uri": "https://localhost:8080/",
          "height": 337
        },
        "id": "h4T-Fy8UUoYF",
        "outputId": "21a7bea3-4750-44c8-ece8-55374b0ee9ab"
      },
      "source": [
        "plt.figure(figsize=(9,5))\n",
        "data_arc.boxplot(['Активная мощность','Реактивная мощность'])\n",
        "plt.title('Распределение данных о мощностях', y=1.01)\n",
        "plt.ylabel('Значение')\n",
        "plt.show()"
      ],
      "execution_count": null,
      "outputs": [
        {
          "output_type": "display_data",
          "data": {
            "image/png": "[encoded data removed]",
            "text/plain": [
              "<Figure size 648x360 with 1 Axes>"
            ]
          },
          "metadata": {
            "tags": []
          }
        }
      ]
    },
    {
      "cell_type": "markdown",
      "metadata": {
        "id": "Oe62TQ76M5R5"
      },
      "source": [
        "### Удалим выбивающееся значение из нашей таблицы"
      ]
    },
    {
      "cell_type": "code",
      "metadata": {
        "colab": {
          "base_uri": "https://localhost:8080/",
          "height": 76
        },
        "id": "nqmI8ym9Mz-Z",
        "outputId": "c0b087a6-1da1-49be-d4f6-9f75fe343369"
      },
      "source": [
        "data_arc[data_arc['Реактивная мощность']<-100]"
      ],
      "execution_count": null,
      "outputs": [
        {
          "output_type": "execute_result",
          "data": {
            "text/html": [
              "<div>\n",
              "<style scoped>\n",
              "    .dataframe tbody tr th:only-of-type {\n",
              "        vertical-align: middle;\n",
              "    }\n",
              "\n",
              "    .dataframe tbody tr th {\n",
              "        vertical-align: top;\n",
              "    }\n",
              "\n",
              "    .dataframe thead th {\n",
              "        text-align: right;\n",
              "    }\n",
              "</style>\n",
              "<table border=\"1\" class=\"dataframe\">\n",
              "  <thead>\n",
              "    <tr style=\"text-align: right;\">\n",
              "      <th></th>\n",
              "      <th>key</th>\n",
              "      <th>Начало нагрева дугой</th>\n",
              "      <th>Конец нагрева дугой</th>\n",
              "      <th>Активная мощность</th>\n",
              "      <th>Реактивная мощность</th>\n",
              "    </tr>\n",
              "  </thead>\n",
              "  <tbody>\n",
              "    <tr>\n",
              "      <td>9780</td>\n",
              "      <td>2116</td>\n",
              "      <td>2019-07-24 00:44:48</td>\n",
              "      <td>2019-07-24 00:46:37</td>\n",
              "      <td>0.495782</td>\n",
              "      <td>-715.504924</td>\n",
              "    </tr>\n",
              "  </tbody>\n",
              "</table>\n",
              "</div>"
            ],
            "text/plain": [
              "       key Начало нагрева дугой Конец нагрева дугой  Активная мощность  \\\n",
              "9780  2116  2019-07-24 00:44:48 2019-07-24 00:46:37           0.495782   \n",
              "\n",
              "      Реактивная мощность  \n",
              "9780          -715.504924  "
            ]
          },
          "metadata": {
            "tags": []
          },
          "execution_count": 21
        }
      ]
    },
    {
      "cell_type": "code",
      "metadata": {
        "id": "xvt5aI3cPnYB"
      },
      "source": [
        "data_arc=data_arc[data_arc['Реактивная мощность']>-100]"
      ],
      "execution_count": null,
      "outputs": []
    },
    {
      "cell_type": "markdown",
      "metadata": {
        "id": "mdOdU47Y6gP7"
      },
      "source": [
        "### Посторим гистограммы распределения"
      ]
    },
    {
      "cell_type": "code",
      "metadata": {
        "id": "G5kHjuBY6gP7",
        "outputId": "5b1fb2aa-4a37-4252-e63b-78de415b8616"
      },
      "source": [
        "plt.figure(figsize=(11,6))\n",
        "data_arc['Активная мощность'].plot(kind='hist', bins=50, legend=True)\n",
        "data_arc['Реактивная мощность'].plot(kind='hist', bins=50, legend=True, alpha=0.7)\n",
        "plt.title('Распределение данных о мощностях', y=1.01)\n",
        "plt.xlabel('Значение')\n",
        "plt.ylabel('Количество')\n",
        "plt.show()"
      ],
      "execution_count": null,
      "outputs": [
        {
          "output_type": "display_data",
          "data": {
            "image/png": "[encoded data removed]",
            "text/plain": [
              "<Figure size 792x432 with 1 Axes>"
            ]
          },
          "metadata": {
            "tags": []
          }
        }
      ]
    },
    {
      "cell_type": "markdown",
      "metadata": {
        "id": "0NDXLbl0OqF6"
      },
      "source": [
        "## Определим первую и последнюю замеры теператур"
      ]
    },
    {
      "cell_type": "code",
      "metadata": {
        "colab": {
          "base_uri": "https://localhost:8080/",
          "height": 191
        },
        "id": "n3yvwsOGU5gv",
        "outputId": "8c9b7a2b-a604-4718-a691-366235906e51"
      },
      "source": [
        "data_temp.head()"
      ],
      "execution_count": null,
      "outputs": [
        {
          "output_type": "execute_result",
          "data": {
            "text/html": [
              "<div>\n",
              "<style scoped>\n",
              "    .dataframe tbody tr th:only-of-type {\n",
              "        vertical-align: middle;\n",
              "    }\n",
              "\n",
              "    .dataframe tbody tr th {\n",
              "        vertical-align: top;\n",
              "    }\n",
              "\n",
              "    .dataframe thead th {\n",
              "        text-align: right;\n",
              "    }\n",
              "</style>\n",
              "<table border=\"1\" class=\"dataframe\">\n",
              "  <thead>\n",
              "    <tr style=\"text-align: right;\">\n",
              "      <th></th>\n",
              "      <th>key</th>\n",
              "      <th>Время замера</th>\n",
              "      <th>Температура</th>\n",
              "    </tr>\n",
              "  </thead>\n",
              "  <tbody>\n",
              "    <tr>\n",
              "      <td>0</td>\n",
              "      <td>1</td>\n",
              "      <td>2019-05-03 11:16:18</td>\n",
              "      <td>1571.0</td>\n",
              "    </tr>\n",
              "    <tr>\n",
              "      <td>1</td>\n",
              "      <td>1</td>\n",
              "      <td>2019-05-03 11:25:53</td>\n",
              "      <td>1604.0</td>\n",
              "    </tr>\n",
              "    <tr>\n",
              "      <td>2</td>\n",
              "      <td>1</td>\n",
              "      <td>2019-05-03 11:29:11</td>\n",
              "      <td>1618.0</td>\n",
              "    </tr>\n",
              "    <tr>\n",
              "      <td>3</td>\n",
              "      <td>1</td>\n",
              "      <td>2019-05-03 11:30:01</td>\n",
              "      <td>1601.0</td>\n",
              "    </tr>\n",
              "    <tr>\n",
              "      <td>4</td>\n",
              "      <td>1</td>\n",
              "      <td>2019-05-03 11:30:39</td>\n",
              "      <td>1613.0</td>\n",
              "    </tr>\n",
              "  </tbody>\n",
              "</table>\n",
              "</div>"
            ],
            "text/plain": [
              "   key        Время замера  Температура\n",
              "0    1 2019-05-03 11:16:18       1571.0\n",
              "1    1 2019-05-03 11:25:53       1604.0\n",
              "2    1 2019-05-03 11:29:11       1618.0\n",
              "3    1 2019-05-03 11:30:01       1601.0\n",
              "4    1 2019-05-03 11:30:39       1613.0"
            ]
          },
          "metadata": {
            "tags": []
          },
          "execution_count": 24
        }
      ]
    },
    {
      "cell_type": "code",
      "metadata": {
        "colab": {
          "base_uri": "https://localhost:8080/"
        },
        "id": "Wwxo4xBzl2i5",
        "outputId": "b0c8abfe-4830-4f67-f55a-423905c16f3c"
      },
      "source": [
        "data_temp.info()"
      ],
      "execution_count": null,
      "outputs": [
        {
          "output_type": "stream",
          "text": [
            "<class 'pandas.core.frame.DataFrame'>\n",
            "RangeIndex: 15907 entries, 0 to 15906\n",
            "Data columns (total 3 columns):\n",
            "key             15907 non-null int64\n",
            "Время замера    15907 non-null datetime64[ns]\n",
            "Температура     13006 non-null float64\n",
            "dtypes: datetime64[ns](1), float64(1), int64(1)\n",
            "memory usage: 372.9 KB\n"
          ],
          "name": "stdout"
        }
      ]
    },
    {
      "cell_type": "code",
      "metadata": {
        "colab": {
          "base_uri": "https://localhost:8080/",
          "height": 191
        },
        "id": "TXTMW2BtOyR3",
        "outputId": "428f236c-ef74-4113-ce9d-50e2f6d534b8"
      },
      "source": [
        "data_temp_pivot = data_temp.pivot_table(index='key', aggfunc=['max','min'])\n",
        "data_temp_pivot=data_temp_pivot.reset_index()\n",
        "data_temp_pivot.columns=['key','Время замера','Температура в конце замера','Время первого замера температуры','Температура в начале замера']\n",
        "data_temp_pivot.head()"
      ],
      "execution_count": null,
      "outputs": [
        {
          "output_type": "execute_result",
          "data": {
            "text/html": [
              "<div>\n",
              "<style scoped>\n",
              "    .dataframe tbody tr th:only-of-type {\n",
              "        vertical-align: middle;\n",
              "    }\n",
              "\n",
              "    .dataframe tbody tr th {\n",
              "        vertical-align: top;\n",
              "    }\n",
              "\n",
              "    .dataframe thead th {\n",
              "        text-align: right;\n",
              "    }\n",
              "</style>\n",
              "<table border=\"1\" class=\"dataframe\">\n",
              "  <thead>\n",
              "    <tr style=\"text-align: right;\">\n",
              "      <th></th>\n",
              "      <th>key</th>\n",
              "      <th>Время замера</th>\n",
              "      <th>Температура в конце замера</th>\n",
              "      <th>Время первого замера температуры</th>\n",
              "      <th>Температура в начале замера</th>\n",
              "    </tr>\n",
              "  </thead>\n",
              "  <tbody>\n",
              "    <tr>\n",
              "      <td>0</td>\n",
              "      <td>1</td>\n",
              "      <td>2019-05-03 11:30:39</td>\n",
              "      <td>1618.0</td>\n",
              "      <td>2019-05-03 11:16:18</td>\n",
              "      <td>1571.0</td>\n",
              "    </tr>\n",
              "    <tr>\n",
              "      <td>1</td>\n",
              "      <td>2</td>\n",
              "      <td>2019-05-03 11:59:12</td>\n",
              "      <td>1608.0</td>\n",
              "      <td>2019-05-03 11:37:27</td>\n",
              "      <td>1577.0</td>\n",
              "    </tr>\n",
              "    <tr>\n",
              "      <td>2</td>\n",
              "      <td>3</td>\n",
              "      <td>2019-05-03 12:34:57</td>\n",
              "      <td>1599.0</td>\n",
              "      <td>2019-05-03 12:13:17</td>\n",
              "      <td>1596.0</td>\n",
              "    </tr>\n",
              "    <tr>\n",
              "      <td>3</td>\n",
              "      <td>4</td>\n",
              "      <td>2019-05-03 12:59:25</td>\n",
              "      <td>1625.0</td>\n",
              "      <td>2019-05-03 12:52:57</td>\n",
              "      <td>1601.0</td>\n",
              "    </tr>\n",
              "    <tr>\n",
              "      <td>4</td>\n",
              "      <td>5</td>\n",
              "      <td>2019-05-03 13:36:01</td>\n",
              "      <td>1602.0</td>\n",
              "      <td>2019-05-03 13:23:19</td>\n",
              "      <td>1576.0</td>\n",
              "    </tr>\n",
              "  </tbody>\n",
              "</table>\n",
              "</div>"
            ],
            "text/plain": [
              "   key        Время замера  Температура в конце замера  \\\n",
              "0    1 2019-05-03 11:30:39                      1618.0   \n",
              "1    2 2019-05-03 11:59:12                      1608.0   \n",
              "2    3 2019-05-03 12:34:57                      1599.0   \n",
              "3    4 2019-05-03 12:59:25                      1625.0   \n",
              "4    5 2019-05-03 13:36:01                      1602.0   \n",
              "\n",
              "  Время первого замера температуры  Температура в начале замера  \n",
              "0              2019-05-03 11:16:18                       1571.0  \n",
              "1              2019-05-03 11:37:27                       1577.0  \n",
              "2              2019-05-03 12:13:17                       1596.0  \n",
              "3              2019-05-03 12:52:57                       1601.0  \n",
              "4              2019-05-03 13:23:19                       1576.0  "
            ]
          },
          "metadata": {
            "tags": []
          },
          "execution_count": 26
        }
      ]
    },
    {
      "cell_type": "markdown",
      "metadata": {
        "id": "wDCGtjEGQNng"
      },
      "source": [
        "### Удалим столбец \"Температура в конце замера\", т.к. присвоенные данные по последнему замеру температуры не соответствуют своему времени если были допущены пропуски"
      ]
    },
    {
      "cell_type": "code",
      "metadata": {
        "colab": {
          "base_uri": "https://localhost:8080/",
          "height": 191
        },
        "id": "OZ00Yom0tD_4",
        "outputId": "6341ac46-043b-495b-9668-e64d97b3630e"
      },
      "source": [
        "data_temp_pivot= data_temp_pivot.drop(columns=['Температура в конце замера'])\n",
        "data_temp_pivot.head()"
      ],
      "execution_count": null,
      "outputs": [
        {
          "output_type": "execute_result",
          "data": {
            "text/html": [
              "<div>\n",
              "<style scoped>\n",
              "    .dataframe tbody tr th:only-of-type {\n",
              "        vertical-align: middle;\n",
              "    }\n",
              "\n",
              "    .dataframe tbody tr th {\n",
              "        vertical-align: top;\n",
              "    }\n",
              "\n",
              "    .dataframe thead th {\n",
              "        text-align: right;\n",
              "    }\n",
              "</style>\n",
              "<table border=\"1\" class=\"dataframe\">\n",
              "  <thead>\n",
              "    <tr style=\"text-align: right;\">\n",
              "      <th></th>\n",
              "      <th>key</th>\n",
              "      <th>Время замера</th>\n",
              "      <th>Время первого замера температуры</th>\n",
              "      <th>Температура в начале замера</th>\n",
              "    </tr>\n",
              "  </thead>\n",
              "  <tbody>\n",
              "    <tr>\n",
              "      <td>0</td>\n",
              "      <td>1</td>\n",
              "      <td>2019-05-03 11:30:39</td>\n",
              "      <td>2019-05-03 11:16:18</td>\n",
              "      <td>1571.0</td>\n",
              "    </tr>\n",
              "    <tr>\n",
              "      <td>1</td>\n",
              "      <td>2</td>\n",
              "      <td>2019-05-03 11:59:12</td>\n",
              "      <td>2019-05-03 11:37:27</td>\n",
              "      <td>1577.0</td>\n",
              "    </tr>\n",
              "    <tr>\n",
              "      <td>2</td>\n",
              "      <td>3</td>\n",
              "      <td>2019-05-03 12:34:57</td>\n",
              "      <td>2019-05-03 12:13:17</td>\n",
              "      <td>1596.0</td>\n",
              "    </tr>\n",
              "    <tr>\n",
              "      <td>3</td>\n",
              "      <td>4</td>\n",
              "      <td>2019-05-03 12:59:25</td>\n",
              "      <td>2019-05-03 12:52:57</td>\n",
              "      <td>1601.0</td>\n",
              "    </tr>\n",
              "    <tr>\n",
              "      <td>4</td>\n",
              "      <td>5</td>\n",
              "      <td>2019-05-03 13:36:01</td>\n",
              "      <td>2019-05-03 13:23:19</td>\n",
              "      <td>1576.0</td>\n",
              "    </tr>\n",
              "  </tbody>\n",
              "</table>\n",
              "</div>"
            ],
            "text/plain": [
              "   key        Время замера Время первого замера температуры  \\\n",
              "0    1 2019-05-03 11:30:39              2019-05-03 11:16:18   \n",
              "1    2 2019-05-03 11:59:12              2019-05-03 11:37:27   \n",
              "2    3 2019-05-03 12:34:57              2019-05-03 12:13:17   \n",
              "3    4 2019-05-03 12:59:25              2019-05-03 12:52:57   \n",
              "4    5 2019-05-03 13:36:01              2019-05-03 13:23:19   \n",
              "\n",
              "   Температура в начале замера  \n",
              "0                       1571.0  \n",
              "1                       1577.0  \n",
              "2                       1596.0  \n",
              "3                       1601.0  \n",
              "4                       1576.0  "
            ]
          },
          "metadata": {
            "tags": []
          },
          "execution_count": 27
        }
      ]
    },
    {
      "cell_type": "markdown",
      "metadata": {
        "id": "NSvbgqbT2Dvw"
      },
      "source": [
        "## Добавим температуру поcледнего замера по значению ключа и времени\n",
        "\n"
      ]
    },
    {
      "cell_type": "code",
      "metadata": {
        "colab": {
          "base_uri": "https://localhost:8080/",
          "height": 391
        },
        "id": "nnmBQ59lsCj6",
        "outputId": "49a782c5-6862-4138-a58c-4e7c466587fd"
      },
      "source": [
        "data_temp_pivot=data_temp_pivot.merge(data_temp, on=['key','Время замера'], how='left')\n",
        "data_temp_pivot"
      ],
      "execution_count": null,
      "outputs": [
        {
          "output_type": "execute_result",
          "data": {
            "text/html": [
              "<div>\n",
              "<style scoped>\n",
              "    .dataframe tbody tr th:only-of-type {\n",
              "        vertical-align: middle;\n",
              "    }\n",
              "\n",
              "    .dataframe tbody tr th {\n",
              "        vertical-align: top;\n",
              "    }\n",
              "\n",
              "    .dataframe thead th {\n",
              "        text-align: right;\n",
              "    }\n",
              "</style>\n",
              "<table border=\"1\" class=\"dataframe\">\n",
              "  <thead>\n",
              "    <tr style=\"text-align: right;\">\n",
              "      <th></th>\n",
              "      <th>key</th>\n",
              "      <th>Время замера</th>\n",
              "      <th>Время первого замера температуры</th>\n",
              "      <th>Температура в начале замера</th>\n",
              "      <th>Температура</th>\n",
              "    </tr>\n",
              "  </thead>\n",
              "  <tbody>\n",
              "    <tr>\n",
              "      <td>0</td>\n",
              "      <td>1</td>\n",
              "      <td>2019-05-03 11:30:39</td>\n",
              "      <td>2019-05-03 11:16:18</td>\n",
              "      <td>1571.0</td>\n",
              "      <td>1613.0</td>\n",
              "    </tr>\n",
              "    <tr>\n",
              "      <td>1</td>\n",
              "      <td>2</td>\n",
              "      <td>2019-05-03 11:59:12</td>\n",
              "      <td>2019-05-03 11:37:27</td>\n",
              "      <td>1577.0</td>\n",
              "      <td>1602.0</td>\n",
              "    </tr>\n",
              "    <tr>\n",
              "      <td>2</td>\n",
              "      <td>3</td>\n",
              "      <td>2019-05-03 12:34:57</td>\n",
              "      <td>2019-05-03 12:13:17</td>\n",
              "      <td>1596.0</td>\n",
              "      <td>1599.0</td>\n",
              "    </tr>\n",
              "    <tr>\n",
              "      <td>3</td>\n",
              "      <td>4</td>\n",
              "      <td>2019-05-03 12:59:25</td>\n",
              "      <td>2019-05-03 12:52:57</td>\n",
              "      <td>1601.0</td>\n",
              "      <td>1625.0</td>\n",
              "    </tr>\n",
              "    <tr>\n",
              "      <td>4</td>\n",
              "      <td>5</td>\n",
              "      <td>2019-05-03 13:36:01</td>\n",
              "      <td>2019-05-03 13:23:19</td>\n",
              "      <td>1576.0</td>\n",
              "      <td>1602.0</td>\n",
              "    </tr>\n",
              "    <tr>\n",
              "      <td>...</td>\n",
              "      <td>...</td>\n",
              "      <td>...</td>\n",
              "      <td>...</td>\n",
              "      <td>...</td>\n",
              "      <td>...</td>\n",
              "    </tr>\n",
              "    <tr>\n",
              "      <td>3211</td>\n",
              "      <td>3237</td>\n",
              "      <td>2019-08-31 23:05:43</td>\n",
              "      <td>2019-08-31 22:44:04</td>\n",
              "      <td>1569.0</td>\n",
              "      <td>NaN</td>\n",
              "    </tr>\n",
              "    <tr>\n",
              "      <td>3212</td>\n",
              "      <td>3238</td>\n",
              "      <td>2019-08-31 23:43:00</td>\n",
              "      <td>2019-08-31 23:30:31</td>\n",
              "      <td>1584.0</td>\n",
              "      <td>NaN</td>\n",
              "    </tr>\n",
              "    <tr>\n",
              "      <td>3213</td>\n",
              "      <td>3239</td>\n",
              "      <td>2019-09-01 02:24:15</td>\n",
              "      <td>2019-09-01 01:31:47</td>\n",
              "      <td>1598.0</td>\n",
              "      <td>NaN</td>\n",
              "    </tr>\n",
              "    <tr>\n",
              "      <td>3214</td>\n",
              "      <td>3240</td>\n",
              "      <td>2019-09-01 03:35:16</td>\n",
              "      <td>2019-09-01 02:39:01</td>\n",
              "      <td>1617.0</td>\n",
              "      <td>NaN</td>\n",
              "    </tr>\n",
              "    <tr>\n",
              "      <td>3215</td>\n",
              "      <td>3241</td>\n",
              "      <td>2019-09-01 04:38:08</td>\n",
              "      <td>2019-09-01 04:03:30</td>\n",
              "      <td>1586.0</td>\n",
              "      <td>NaN</td>\n",
              "    </tr>\n",
              "  </tbody>\n",
              "</table>\n",
              "<p>3216 rows × 5 columns</p>\n",
              "</div>"
            ],
            "text/plain": [
              "       key        Время замера Время первого замера температуры  \\\n",
              "0        1 2019-05-03 11:30:39              2019-05-03 11:16:18   \n",
              "1        2 2019-05-03 11:59:12              2019-05-03 11:37:27   \n",
              "2        3 2019-05-03 12:34:57              2019-05-03 12:13:17   \n",
              "3        4 2019-05-03 12:59:25              2019-05-03 12:52:57   \n",
              "4        5 2019-05-03 13:36:01              2019-05-03 13:23:19   \n",
              "...    ...                 ...                              ...   \n",
              "3211  3237 2019-08-31 23:05:43              2019-08-31 22:44:04   \n",
              "3212  3238 2019-08-31 23:43:00              2019-08-31 23:30:31   \n",
              "3213  3239 2019-09-01 02:24:15              2019-09-01 01:31:47   \n",
              "3214  3240 2019-09-01 03:35:16              2019-09-01 02:39:01   \n",
              "3215  3241 2019-09-01 04:38:08              2019-09-01 04:03:30   \n",
              "\n",
              "      Температура в начале замера  Температура  \n",
              "0                          1571.0       1613.0  \n",
              "1                          1577.0       1602.0  \n",
              "2                          1596.0       1599.0  \n",
              "3                          1601.0       1625.0  \n",
              "4                          1576.0       1602.0  \n",
              "...                           ...          ...  \n",
              "3211                       1569.0          NaN  \n",
              "3212                       1584.0          NaN  \n",
              "3213                       1598.0          NaN  \n",
              "3214                       1617.0          NaN  \n",
              "3215                       1586.0          NaN  \n",
              "\n",
              "[3216 rows x 5 columns]"
            ]
          },
          "metadata": {
            "tags": []
          },
          "execution_count": 28
        }
      ]
    },
    {
      "cell_type": "code",
      "metadata": {
        "colab": {
          "base_uri": "https://localhost:8080/"
        },
        "id": "cMUmpQQTu0aX",
        "outputId": "3aa4591b-94f2-4491-aace-a22a02251fba"
      },
      "source": [
        "data_temp_pivot.info()"
      ],
      "execution_count": null,
      "outputs": [
        {
          "output_type": "stream",
          "text": [
            "<class 'pandas.core.frame.DataFrame'>\n",
            "Int64Index: 3216 entries, 0 to 3215\n",
            "Data columns (total 5 columns):\n",
            "key                                 3216 non-null int64\n",
            "Время замера                        3216 non-null datetime64[ns]\n",
            "Время первого замера температуры    3216 non-null datetime64[ns]\n",
            "Температура в начале замера         3216 non-null float64\n",
            "Температура                         2477 non-null float64\n",
            "dtypes: datetime64[ns](2), float64(2), int64(1)\n",
            "memory usage: 150.8 KB\n"
          ],
          "name": "stdout"
        }
      ]
    },
    {
      "cell_type": "markdown",
      "metadata": {
        "id": "mSd51Yl5QtEs"
      },
      "source": [
        "### Мы видим пропущенные значения в целевом столбце, такие данные лучше не заполнять средним или другим значением, по-этому удалим строки без замеренных данных по температуре"
      ]
    },
    {
      "cell_type": "code",
      "metadata": {
        "id": "TXLtYEQevIj9"
      },
      "source": [
        "data_temp_pivot=data_temp_pivot.dropna(subset=['Температура'])"
      ],
      "execution_count": null,
      "outputs": []
    },
    {
      "cell_type": "code",
      "metadata": {
        "colab": {
          "base_uri": "https://localhost:8080/",
          "height": 391
        },
        "id": "N38EtchmvoNg",
        "outputId": "502642d3-e71a-4ed0-c135-c37798d7652e"
      },
      "source": [
        "data_temp_pivot.columns = ['key', 'Время последнего замера температуры',\n",
        "       'Время первого замера температуры', 'Температура в начале замера',\n",
        "       'Температура в конце замера']\n",
        "data_temp_pivot"
      ],
      "execution_count": null,
      "outputs": [
        {
          "output_type": "execute_result",
          "data": {
            "text/html": [
              "<div>\n",
              "<style scoped>\n",
              "    .dataframe tbody tr th:only-of-type {\n",
              "        vertical-align: middle;\n",
              "    }\n",
              "\n",
              "    .dataframe tbody tr th {\n",
              "        vertical-align: top;\n",
              "    }\n",
              "\n",
              "    .dataframe thead th {\n",
              "        text-align: right;\n",
              "    }\n",
              "</style>\n",
              "<table border=\"1\" class=\"dataframe\">\n",
              "  <thead>\n",
              "    <tr style=\"text-align: right;\">\n",
              "      <th></th>\n",
              "      <th>key</th>\n",
              "      <th>Время последнего замера температуры</th>\n",
              "      <th>Время первого замера температуры</th>\n",
              "      <th>Температура в начале замера</th>\n",
              "      <th>Температура в конце замера</th>\n",
              "    </tr>\n",
              "  </thead>\n",
              "  <tbody>\n",
              "    <tr>\n",
              "      <td>0</td>\n",
              "      <td>1</td>\n",
              "      <td>2019-05-03 11:30:39</td>\n",
              "      <td>2019-05-03 11:16:18</td>\n",
              "      <td>1571.0</td>\n",
              "      <td>1613.0</td>\n",
              "    </tr>\n",
              "    <tr>\n",
              "      <td>1</td>\n",
              "      <td>2</td>\n",
              "      <td>2019-05-03 11:59:12</td>\n",
              "      <td>2019-05-03 11:37:27</td>\n",
              "      <td>1577.0</td>\n",
              "      <td>1602.0</td>\n",
              "    </tr>\n",
              "    <tr>\n",
              "      <td>2</td>\n",
              "      <td>3</td>\n",
              "      <td>2019-05-03 12:34:57</td>\n",
              "      <td>2019-05-03 12:13:17</td>\n",
              "      <td>1596.0</td>\n",
              "      <td>1599.0</td>\n",
              "    </tr>\n",
              "    <tr>\n",
              "      <td>3</td>\n",
              "      <td>4</td>\n",
              "      <td>2019-05-03 12:59:25</td>\n",
              "      <td>2019-05-03 12:52:57</td>\n",
              "      <td>1601.0</td>\n",
              "      <td>1625.0</td>\n",
              "    </tr>\n",
              "    <tr>\n",
              "      <td>4</td>\n",
              "      <td>5</td>\n",
              "      <td>2019-05-03 13:36:01</td>\n",
              "      <td>2019-05-03 13:23:19</td>\n",
              "      <td>1576.0</td>\n",
              "      <td>1602.0</td>\n",
              "    </tr>\n",
              "    <tr>\n",
              "      <td>...</td>\n",
              "      <td>...</td>\n",
              "      <td>...</td>\n",
              "      <td>...</td>\n",
              "      <td>...</td>\n",
              "      <td>...</td>\n",
              "    </tr>\n",
              "    <tr>\n",
              "      <td>2472</td>\n",
              "      <td>2495</td>\n",
              "      <td>2019-08-06 00:54:42</td>\n",
              "      <td>2019-08-06 00:35:45</td>\n",
              "      <td>1570.0</td>\n",
              "      <td>1591.0</td>\n",
              "    </tr>\n",
              "    <tr>\n",
              "      <td>2473</td>\n",
              "      <td>2496</td>\n",
              "      <td>2019-08-06 01:29:52</td>\n",
              "      <td>2019-08-06 01:02:54</td>\n",
              "      <td>1554.0</td>\n",
              "      <td>1591.0</td>\n",
              "    </tr>\n",
              "    <tr>\n",
              "      <td>2474</td>\n",
              "      <td>2497</td>\n",
              "      <td>2019-08-06 01:53:50</td>\n",
              "      <td>2019-08-06 01:41:53</td>\n",
              "      <td>1571.0</td>\n",
              "      <td>1589.0</td>\n",
              "    </tr>\n",
              "    <tr>\n",
              "      <td>2475</td>\n",
              "      <td>2498</td>\n",
              "      <td>2019-08-06 02:25:31</td>\n",
              "      <td>2019-08-06 02:03:49</td>\n",
              "      <td>1570.0</td>\n",
              "      <td>1594.0</td>\n",
              "    </tr>\n",
              "    <tr>\n",
              "      <td>2476</td>\n",
              "      <td>2499</td>\n",
              "      <td>2019-08-06 03:00:28</td>\n",
              "      <td>2019-08-06 02:40:25</td>\n",
              "      <td>1569.0</td>\n",
              "      <td>1603.0</td>\n",
              "    </tr>\n",
              "  </tbody>\n",
              "</table>\n",
              "<p>2477 rows × 5 columns</p>\n",
              "</div>"
            ],
            "text/plain": [
              "       key Время последнего замера температуры  \\\n",
              "0        1                 2019-05-03 11:30:39   \n",
              "1        2                 2019-05-03 11:59:12   \n",
              "2        3                 2019-05-03 12:34:57   \n",
              "3        4                 2019-05-03 12:59:25   \n",
              "4        5                 2019-05-03 13:36:01   \n",
              "...    ...                                 ...   \n",
              "2472  2495                 2019-08-06 00:54:42   \n",
              "2473  2496                 2019-08-06 01:29:52   \n",
              "2474  2497                 2019-08-06 01:53:50   \n",
              "2475  2498                 2019-08-06 02:25:31   \n",
              "2476  2499                 2019-08-06 03:00:28   \n",
              "\n",
              "     Время первого замера температуры  Температура в начале замера  \\\n",
              "0                 2019-05-03 11:16:18                       1571.0   \n",
              "1                 2019-05-03 11:37:27                       1577.0   \n",
              "2                 2019-05-03 12:13:17                       1596.0   \n",
              "3                 2019-05-03 12:52:57                       1601.0   \n",
              "4                 2019-05-03 13:23:19                       1576.0   \n",
              "...                               ...                          ...   \n",
              "2472              2019-08-06 00:35:45                       1570.0   \n",
              "2473              2019-08-06 01:02:54                       1554.0   \n",
              "2474              2019-08-06 01:41:53                       1571.0   \n",
              "2475              2019-08-06 02:03:49                       1570.0   \n",
              "2476              2019-08-06 02:40:25                       1569.0   \n",
              "\n",
              "      Температура в конце замера  \n",
              "0                         1613.0  \n",
              "1                         1602.0  \n",
              "2                         1599.0  \n",
              "3                         1625.0  \n",
              "4                         1602.0  \n",
              "...                          ...  \n",
              "2472                      1591.0  \n",
              "2473                      1591.0  \n",
              "2474                      1589.0  \n",
              "2475                      1594.0  \n",
              "2476                      1603.0  \n",
              "\n",
              "[2477 rows x 5 columns]"
            ]
          },
          "metadata": {
            "tags": []
          },
          "execution_count": 31
        }
      ]
    },
    {
      "cell_type": "markdown",
      "metadata": {
        "id": "u1hdWAAX-LSU"
      },
      "source": [
        "### Выведем распределение значения целевого признака на график"
      ]
    },
    {
      "cell_type": "code",
      "metadata": {
        "colab": {
          "base_uri": "https://localhost:8080/",
          "height": 352
        },
        "id": "AI5jDiI8-SgV",
        "outputId": "4bf0060d-6d42-493d-cbed-0c4ec34049dd"
      },
      "source": [
        "plt.figure(figsize=(11,6))\n",
        "data_temp_pivot['Температура в конце замера'].plot(kind='hist', bins=50, legend=True)\n",
        "plt.title('Распределение данных о температуре в конце замера', y=1.01)\n",
        "plt.xlabel('Значение')\n",
        "plt.ylabel('Количество')\n",
        "plt.show()"
      ],
      "execution_count": null,
      "outputs": [
        {
          "output_type": "display_data",
          "data": {
            "image/png": "[encoded data removed]",
            "text/plain": [
              "<Figure size 792x432 with 1 Axes>"
            ]
          },
          "metadata": {
            "tags": []
          }
        }
      ]
    },
    {
      "cell_type": "markdown",
      "metadata": {
        "id": "kmUevY98h8pM"
      },
      "source": [
        "## Посмотрим визульно на распределение данных в нашей таблице при помощи `pairplot`"
      ]
    },
    {
      "cell_type": "code",
      "metadata": {
        "colab": {
          "base_uri": "https://localhost:8080/",
          "height": 571
        },
        "id": "3Xz6QTxDiY5a",
        "outputId": "7e916c2a-5efb-49be-d1b4-ea5eda2e813a"
      },
      "source": [
        "sns.pairplot(data_temp_pivot, diag_kind=\"hist\")\n",
        "plt.suptitle(\"Визуальное распределение данных о температуре и времени\", y=1.02, fontsize=12)\n",
        "plt.show()"
      ],
      "execution_count": null,
      "outputs": [
        {
          "output_type": "display_data",
          "data": {
            "image/png": "[encoded data removed]",
            "text/plain": [
              "<Figure size 540x540 with 12 Axes>"
            ]
          },
          "metadata": {
            "tags": []
          }
        }
      ]
    },
    {
      "cell_type": "markdown",
      "metadata": {
        "id": "9kWwwGGiiVC9"
      },
      "source": [
        "> На графике хорошо видно, что по каждому значению \"key\" температура в начале замера находится примерно в одном диапазоне, а в конце диапазон уже намного шире с наличием выбивающихся значений."
      ]
    },
    {
      "cell_type": "markdown",
      "metadata": {
        "id": "4J0aXfyDjnaq"
      },
      "source": [
        "------\n",
        "------"
      ]
    },
    {
      "cell_type": "markdown",
      "metadata": {
        "id": "66Hze_a_ydbo"
      },
      "source": [
        "# Дополнительно для каждого значения столбца key найдём:\n",
        "\n",
        "1. Длительность времени между первым и последним замером температуры.\n",
        "2. Суммарное время нагрева электродами, то есть сумму значений по всем промежуткам между запусками нагрева электродов.\n",
        "3. Количество запусков нагрева электродами.\n",
        "4. Среднее соотношение потребления активной и реактивной мощности.<br>\n",
        "По всем полученным столбцам вычислим статистики: средние, минимальные и максимальные значения, медиану и величины 25%- и 75%-квартилей."
      ]
    },
    {
      "cell_type": "markdown",
      "metadata": {
        "id": "93qPMrmRs2eh"
      },
      "source": [
        "# p1. Длительность времени между первым и последним замером температуры."
      ]
    },
    {
      "cell_type": "code",
      "metadata": {
        "colab": {
          "base_uri": "https://localhost:8080/",
          "height": 391
        },
        "id": "EsNHslfiPEZK",
        "outputId": "03d2bd5e-96b1-449c-fe31-d3c8f2017b6a"
      },
      "source": [
        "first_last_temp=data_temp.groupby('key')['Время замера'].agg({max,min})\n",
        "first_last_temp=first_last_temp.reset_index()\n",
        "first_last_temp.columns=['key', 'Время последнего замера температуры','Время первого замера температуры']\n",
        "first_last_temp"
      ],
      "execution_count": null,
      "outputs": [
        {
          "output_type": "execute_result",
          "data": {
            "text/html": [
              "<div>\n",
              "<style scoped>\n",
              "    .dataframe tbody tr th:only-of-type {\n",
              "        vertical-align: middle;\n",
              "    }\n",
              "\n",
              "    .dataframe tbody tr th {\n",
              "        vertical-align: top;\n",
              "    }\n",
              "\n",
              "    .dataframe thead th {\n",
              "        text-align: right;\n",
              "    }\n",
              "</style>\n",
              "<table border=\"1\" class=\"dataframe\">\n",
              "  <thead>\n",
              "    <tr style=\"text-align: right;\">\n",
              "      <th></th>\n",
              "      <th>key</th>\n",
              "      <th>Время последнего замера температуры</th>\n",
              "      <th>Время первого замера температуры</th>\n",
              "    </tr>\n",
              "  </thead>\n",
              "  <tbody>\n",
              "    <tr>\n",
              "      <td>0</td>\n",
              "      <td>1</td>\n",
              "      <td>2019-05-03 11:30:39</td>\n",
              "      <td>2019-05-03 11:16:18</td>\n",
              "    </tr>\n",
              "    <tr>\n",
              "      <td>1</td>\n",
              "      <td>2</td>\n",
              "      <td>2019-05-03 11:59:12</td>\n",
              "      <td>2019-05-03 11:37:27</td>\n",
              "    </tr>\n",
              "    <tr>\n",
              "      <td>2</td>\n",
              "      <td>3</td>\n",
              "      <td>2019-05-03 12:34:57</td>\n",
              "      <td>2019-05-03 12:13:17</td>\n",
              "    </tr>\n",
              "    <tr>\n",
              "      <td>3</td>\n",
              "      <td>4</td>\n",
              "      <td>2019-05-03 12:59:25</td>\n",
              "      <td>2019-05-03 12:52:57</td>\n",
              "    </tr>\n",
              "    <tr>\n",
              "      <td>4</td>\n",
              "      <td>5</td>\n",
              "      <td>2019-05-03 13:36:01</td>\n",
              "      <td>2019-05-03 13:23:19</td>\n",
              "    </tr>\n",
              "    <tr>\n",
              "      <td>...</td>\n",
              "      <td>...</td>\n",
              "      <td>...</td>\n",
              "      <td>...</td>\n",
              "    </tr>\n",
              "    <tr>\n",
              "      <td>3211</td>\n",
              "      <td>3237</td>\n",
              "      <td>2019-08-31 23:05:43</td>\n",
              "      <td>2019-08-31 22:44:04</td>\n",
              "    </tr>\n",
              "    <tr>\n",
              "      <td>3212</td>\n",
              "      <td>3238</td>\n",
              "      <td>2019-08-31 23:43:00</td>\n",
              "      <td>2019-08-31 23:30:31</td>\n",
              "    </tr>\n",
              "    <tr>\n",
              "      <td>3213</td>\n",
              "      <td>3239</td>\n",
              "      <td>2019-09-01 02:24:15</td>\n",
              "      <td>2019-09-01 01:31:47</td>\n",
              "    </tr>\n",
              "    <tr>\n",
              "      <td>3214</td>\n",
              "      <td>3240</td>\n",
              "      <td>2019-09-01 03:35:16</td>\n",
              "      <td>2019-09-01 02:39:01</td>\n",
              "    </tr>\n",
              "    <tr>\n",
              "      <td>3215</td>\n",
              "      <td>3241</td>\n",
              "      <td>2019-09-01 04:38:08</td>\n",
              "      <td>2019-09-01 04:03:30</td>\n",
              "    </tr>\n",
              "  </tbody>\n",
              "</table>\n",
              "<p>3216 rows × 3 columns</p>\n",
              "</div>"
            ],
            "text/plain": [
              "       key Время последнего замера температуры  \\\n",
              "0        1                 2019-05-03 11:30:39   \n",
              "1        2                 2019-05-03 11:59:12   \n",
              "2        3                 2019-05-03 12:34:57   \n",
              "3        4                 2019-05-03 12:59:25   \n",
              "4        5                 2019-05-03 13:36:01   \n",
              "...    ...                                 ...   \n",
              "3211  3237                 2019-08-31 23:05:43   \n",
              "3212  3238                 2019-08-31 23:43:00   \n",
              "3213  3239                 2019-09-01 02:24:15   \n",
              "3214  3240                 2019-09-01 03:35:16   \n",
              "3215  3241                 2019-09-01 04:38:08   \n",
              "\n",
              "     Время первого замера температуры  \n",
              "0                 2019-05-03 11:16:18  \n",
              "1                 2019-05-03 11:37:27  \n",
              "2                 2019-05-03 12:13:17  \n",
              "3                 2019-05-03 12:52:57  \n",
              "4                 2019-05-03 13:23:19  \n",
              "...                               ...  \n",
              "3211              2019-08-31 22:44:04  \n",
              "3212              2019-08-31 23:30:31  \n",
              "3213              2019-09-01 01:31:47  \n",
              "3214              2019-09-01 02:39:01  \n",
              "3215              2019-09-01 04:03:30  \n",
              "\n",
              "[3216 rows x 3 columns]"
            ]
          },
          "metadata": {
            "tags": []
          },
          "execution_count": 34
        }
      ]
    },
    {
      "cell_type": "markdown",
      "metadata": {
        "id": "Wt4F-QILR-nb"
      },
      "source": [
        "### Оперделим длительность времени между первым и последним замером температуры."
      ]
    },
    {
      "cell_type": "code",
      "metadata": {
        "colab": {
          "base_uri": "https://localhost:8080/",
          "height": 391
        },
        "id": "yWvsc6yoSFcf",
        "outputId": "2a594b3e-f7b2-4e69-a810-8ee7e116f9c9"
      },
      "source": [
        "first_last_temp['Длительность между замерами температур'] = first_last_temp['Время последнего замера температуры'] - first_last_temp['Время первого замера температуры']\n",
        "first_last_temp"
      ],
      "execution_count": null,
      "outputs": [
        {
          "output_type": "execute_result",
          "data": {
            "text/html": [
              "<div>\n",
              "<style scoped>\n",
              "    .dataframe tbody tr th:only-of-type {\n",
              "        vertical-align: middle;\n",
              "    }\n",
              "\n",
              "    .dataframe tbody tr th {\n",
              "        vertical-align: top;\n",
              "    }\n",
              "\n",
              "    .dataframe thead th {\n",
              "        text-align: right;\n",
              "    }\n",
              "</style>\n",
              "<table border=\"1\" class=\"dataframe\">\n",
              "  <thead>\n",
              "    <tr style=\"text-align: right;\">\n",
              "      <th></th>\n",
              "      <th>key</th>\n",
              "      <th>Время последнего замера температуры</th>\n",
              "      <th>Время первого замера температуры</th>\n",
              "      <th>Длительность между замерами температур</th>\n",
              "    </tr>\n",
              "  </thead>\n",
              "  <tbody>\n",
              "    <tr>\n",
              "      <td>0</td>\n",
              "      <td>1</td>\n",
              "      <td>2019-05-03 11:30:39</td>\n",
              "      <td>2019-05-03 11:16:18</td>\n",
              "      <td>00:14:21</td>\n",
              "    </tr>\n",
              "    <tr>\n",
              "      <td>1</td>\n",
              "      <td>2</td>\n",
              "      <td>2019-05-03 11:59:12</td>\n",
              "      <td>2019-05-03 11:37:27</td>\n",
              "      <td>00:21:45</td>\n",
              "    </tr>\n",
              "    <tr>\n",
              "      <td>2</td>\n",
              "      <td>3</td>\n",
              "      <td>2019-05-03 12:34:57</td>\n",
              "      <td>2019-05-03 12:13:17</td>\n",
              "      <td>00:21:40</td>\n",
              "    </tr>\n",
              "    <tr>\n",
              "      <td>3</td>\n",
              "      <td>4</td>\n",
              "      <td>2019-05-03 12:59:25</td>\n",
              "      <td>2019-05-03 12:52:57</td>\n",
              "      <td>00:06:28</td>\n",
              "    </tr>\n",
              "    <tr>\n",
              "      <td>4</td>\n",
              "      <td>5</td>\n",
              "      <td>2019-05-03 13:36:01</td>\n",
              "      <td>2019-05-03 13:23:19</td>\n",
              "      <td>00:12:42</td>\n",
              "    </tr>\n",
              "    <tr>\n",
              "      <td>...</td>\n",
              "      <td>...</td>\n",
              "      <td>...</td>\n",
              "      <td>...</td>\n",
              "      <td>...</td>\n",
              "    </tr>\n",
              "    <tr>\n",
              "      <td>3211</td>\n",
              "      <td>3237</td>\n",
              "      <td>2019-08-31 23:05:43</td>\n",
              "      <td>2019-08-31 22:44:04</td>\n",
              "      <td>00:21:39</td>\n",
              "    </tr>\n",
              "    <tr>\n",
              "      <td>3212</td>\n",
              "      <td>3238</td>\n",
              "      <td>2019-08-31 23:43:00</td>\n",
              "      <td>2019-08-31 23:30:31</td>\n",
              "      <td>00:12:29</td>\n",
              "    </tr>\n",
              "    <tr>\n",
              "      <td>3213</td>\n",
              "      <td>3239</td>\n",
              "      <td>2019-09-01 02:24:15</td>\n",
              "      <td>2019-09-01 01:31:47</td>\n",
              "      <td>00:52:28</td>\n",
              "    </tr>\n",
              "    <tr>\n",
              "      <td>3214</td>\n",
              "      <td>3240</td>\n",
              "      <td>2019-09-01 03:35:16</td>\n",
              "      <td>2019-09-01 02:39:01</td>\n",
              "      <td>00:56:15</td>\n",
              "    </tr>\n",
              "    <tr>\n",
              "      <td>3215</td>\n",
              "      <td>3241</td>\n",
              "      <td>2019-09-01 04:38:08</td>\n",
              "      <td>2019-09-01 04:03:30</td>\n",
              "      <td>00:34:38</td>\n",
              "    </tr>\n",
              "  </tbody>\n",
              "</table>\n",
              "<p>3216 rows × 4 columns</p>\n",
              "</div>"
            ],
            "text/plain": [
              "       key Время последнего замера температуры  \\\n",
              "0        1                 2019-05-03 11:30:39   \n",
              "1        2                 2019-05-03 11:59:12   \n",
              "2        3                 2019-05-03 12:34:57   \n",
              "3        4                 2019-05-03 12:59:25   \n",
              "4        5                 2019-05-03 13:36:01   \n",
              "...    ...                                 ...   \n",
              "3211  3237                 2019-08-31 23:05:43   \n",
              "3212  3238                 2019-08-31 23:43:00   \n",
              "3213  3239                 2019-09-01 02:24:15   \n",
              "3214  3240                 2019-09-01 03:35:16   \n",
              "3215  3241                 2019-09-01 04:38:08   \n",
              "\n",
              "     Время первого замера температуры Длительность между замерами температур  \n",
              "0                 2019-05-03 11:16:18                               00:14:21  \n",
              "1                 2019-05-03 11:37:27                               00:21:45  \n",
              "2                 2019-05-03 12:13:17                               00:21:40  \n",
              "3                 2019-05-03 12:52:57                               00:06:28  \n",
              "4                 2019-05-03 13:23:19                               00:12:42  \n",
              "...                               ...                                    ...  \n",
              "3211              2019-08-31 22:44:04                               00:21:39  \n",
              "3212              2019-08-31 23:30:31                               00:12:29  \n",
              "3213              2019-09-01 01:31:47                               00:52:28  \n",
              "3214              2019-09-01 02:39:01                               00:56:15  \n",
              "3215              2019-09-01 04:03:30                               00:34:38  \n",
              "\n",
              "[3216 rows x 4 columns]"
            ]
          },
          "metadata": {
            "tags": []
          },
          "execution_count": 35
        }
      ]
    },
    {
      "cell_type": "markdown",
      "metadata": {
        "id": "8d7JGyqAs6X6"
      },
      "source": [
        "# p2. Суммарное время нагрева электродами, то есть сумму значений по всем промежуткам между запусками нагрева электродов."
      ]
    },
    {
      "cell_type": "code",
      "metadata": {
        "colab": {
          "base_uri": "https://localhost:8080/",
          "height": 391
        },
        "id": "prlIUdYZs83B",
        "outputId": "f5bad834-9bbf-4708-f2ec-17cf3f2fe249"
      },
      "source": [
        "p2 = data_arc.copy()\n",
        "p2['Время нагрева электродами'] = p2['Конец нагрева дугой']-p2['Начало нагрева дугой']\n",
        "p2"
      ],
      "execution_count": null,
      "outputs": [
        {
          "output_type": "execute_result",
          "data": {
            "text/html": [
              "<div>\n",
              "<style scoped>\n",
              "    .dataframe tbody tr th:only-of-type {\n",
              "        vertical-align: middle;\n",
              "    }\n",
              "\n",
              "    .dataframe tbody tr th {\n",
              "        vertical-align: top;\n",
              "    }\n",
              "\n",
              "    .dataframe thead th {\n",
              "        text-align: right;\n",
              "    }\n",
              "</style>\n",
              "<table border=\"1\" class=\"dataframe\">\n",
              "  <thead>\n",
              "    <tr style=\"text-align: right;\">\n",
              "      <th></th>\n",
              "      <th>key</th>\n",
              "      <th>Начало нагрева дугой</th>\n",
              "      <th>Конец нагрева дугой</th>\n",
              "      <th>Активная мощность</th>\n",
              "      <th>Реактивная мощность</th>\n",
              "      <th>Время нагрева электродами</th>\n",
              "    </tr>\n",
              "  </thead>\n",
              "  <tbody>\n",
              "    <tr>\n",
              "      <td>0</td>\n",
              "      <td>1</td>\n",
              "      <td>2019-05-03 11:02:14</td>\n",
              "      <td>2019-05-03 11:06:02</td>\n",
              "      <td>0.976059</td>\n",
              "      <td>0.687084</td>\n",
              "      <td>00:03:48</td>\n",
              "    </tr>\n",
              "    <tr>\n",
              "      <td>1</td>\n",
              "      <td>1</td>\n",
              "      <td>2019-05-03 11:07:28</td>\n",
              "      <td>2019-05-03 11:10:33</td>\n",
              "      <td>0.805607</td>\n",
              "      <td>0.520285</td>\n",
              "      <td>00:03:05</td>\n",
              "    </tr>\n",
              "    <tr>\n",
              "      <td>2</td>\n",
              "      <td>1</td>\n",
              "      <td>2019-05-03 11:11:44</td>\n",
              "      <td>2019-05-03 11:14:36</td>\n",
              "      <td>0.744363</td>\n",
              "      <td>0.498805</td>\n",
              "      <td>00:02:52</td>\n",
              "    </tr>\n",
              "    <tr>\n",
              "      <td>3</td>\n",
              "      <td>1</td>\n",
              "      <td>2019-05-03 11:18:14</td>\n",
              "      <td>2019-05-03 11:24:19</td>\n",
              "      <td>1.659363</td>\n",
              "      <td>1.062669</td>\n",
              "      <td>00:06:05</td>\n",
              "    </tr>\n",
              "    <tr>\n",
              "      <td>4</td>\n",
              "      <td>1</td>\n",
              "      <td>2019-05-03 11:26:09</td>\n",
              "      <td>2019-05-03 11:28:37</td>\n",
              "      <td>0.692755</td>\n",
              "      <td>0.414397</td>\n",
              "      <td>00:02:28</td>\n",
              "    </tr>\n",
              "    <tr>\n",
              "      <td>...</td>\n",
              "      <td>...</td>\n",
              "      <td>...</td>\n",
              "      <td>...</td>\n",
              "      <td>...</td>\n",
              "      <td>...</td>\n",
              "      <td>...</td>\n",
              "    </tr>\n",
              "    <tr>\n",
              "      <td>14871</td>\n",
              "      <td>3241</td>\n",
              "      <td>2019-09-01 03:58:58</td>\n",
              "      <td>2019-09-01 04:01:35</td>\n",
              "      <td>0.533670</td>\n",
              "      <td>0.354439</td>\n",
              "      <td>00:02:37</td>\n",
              "    </tr>\n",
              "    <tr>\n",
              "      <td>14872</td>\n",
              "      <td>3241</td>\n",
              "      <td>2019-09-01 04:05:04</td>\n",
              "      <td>2019-09-01 04:08:04</td>\n",
              "      <td>0.676604</td>\n",
              "      <td>0.523631</td>\n",
              "      <td>00:03:00</td>\n",
              "    </tr>\n",
              "    <tr>\n",
              "      <td>14873</td>\n",
              "      <td>3241</td>\n",
              "      <td>2019-09-01 04:16:41</td>\n",
              "      <td>2019-09-01 04:19:45</td>\n",
              "      <td>0.733899</td>\n",
              "      <td>0.475654</td>\n",
              "      <td>00:03:04</td>\n",
              "    </tr>\n",
              "    <tr>\n",
              "      <td>14874</td>\n",
              "      <td>3241</td>\n",
              "      <td>2019-09-01 04:31:51</td>\n",
              "      <td>2019-09-01 04:32:48</td>\n",
              "      <td>0.220694</td>\n",
              "      <td>0.145768</td>\n",
              "      <td>00:00:57</td>\n",
              "    </tr>\n",
              "    <tr>\n",
              "      <td>14875</td>\n",
              "      <td>3241</td>\n",
              "      <td>2019-09-01 04:34:47</td>\n",
              "      <td>2019-09-01 04:36:08</td>\n",
              "      <td>0.306580</td>\n",
              "      <td>0.196708</td>\n",
              "      <td>00:01:21</td>\n",
              "    </tr>\n",
              "  </tbody>\n",
              "</table>\n",
              "<p>14875 rows × 6 columns</p>\n",
              "</div>"
            ],
            "text/plain": [
              "        key Начало нагрева дугой Конец нагрева дугой  Активная мощность  \\\n",
              "0         1  2019-05-03 11:02:14 2019-05-03 11:06:02           0.976059   \n",
              "1         1  2019-05-03 11:07:28 2019-05-03 11:10:33           0.805607   \n",
              "2         1  2019-05-03 11:11:44 2019-05-03 11:14:36           0.744363   \n",
              "3         1  2019-05-03 11:18:14 2019-05-03 11:24:19           1.659363   \n",
              "4         1  2019-05-03 11:26:09 2019-05-03 11:28:37           0.692755   \n",
              "...     ...                  ...                 ...                ...   \n",
              "14871  3241  2019-09-01 03:58:58 2019-09-01 04:01:35           0.533670   \n",
              "14872  3241  2019-09-01 04:05:04 2019-09-01 04:08:04           0.676604   \n",
              "14873  3241  2019-09-01 04:16:41 2019-09-01 04:19:45           0.733899   \n",
              "14874  3241  2019-09-01 04:31:51 2019-09-01 04:32:48           0.220694   \n",
              "14875  3241  2019-09-01 04:34:47 2019-09-01 04:36:08           0.306580   \n",
              "\n",
              "       Реактивная мощность Время нагрева электродами  \n",
              "0                 0.687084                  00:03:48  \n",
              "1                 0.520285                  00:03:05  \n",
              "2                 0.498805                  00:02:52  \n",
              "3                 1.062669                  00:06:05  \n",
              "4                 0.414397                  00:02:28  \n",
              "...                    ...                       ...  \n",
              "14871             0.354439                  00:02:37  \n",
              "14872             0.523631                  00:03:00  \n",
              "14873             0.475654                  00:03:04  \n",
              "14874             0.145768                  00:00:57  \n",
              "14875             0.196708                  00:01:21  \n",
              "\n",
              "[14875 rows x 6 columns]"
            ]
          },
          "metadata": {
            "tags": []
          },
          "execution_count": 36
        }
      ]
    },
    {
      "cell_type": "markdown",
      "metadata": {
        "id": "Sl068YHHF2y_"
      },
      "source": [
        "### Найдём суммарное время нагрева электродами по каждому `key`"
      ]
    },
    {
      "cell_type": "code",
      "metadata": {
        "colab": {
          "base_uri": "https://localhost:8080/",
          "height": 391
        },
        "id": "dn3asjUbFTL-",
        "outputId": "14e5fc24-26ac-4b6c-e2ab-b0dd13d3b489"
      },
      "source": [
        "time_per_key= p2.groupby('key')['Время нагрева электродами'].sum()\n",
        "time_per_key=time_per_key.reset_index()\n",
        "time_per_key.columns=['key','Суммарное время нагрева электродами']\n",
        "time_per_key"
      ],
      "execution_count": null,
      "outputs": [
        {
          "output_type": "execute_result",
          "data": {
            "text/html": [
              "<div>\n",
              "<style scoped>\n",
              "    .dataframe tbody tr th:only-of-type {\n",
              "        vertical-align: middle;\n",
              "    }\n",
              "\n",
              "    .dataframe tbody tr th {\n",
              "        vertical-align: top;\n",
              "    }\n",
              "\n",
              "    .dataframe thead th {\n",
              "        text-align: right;\n",
              "    }\n",
              "</style>\n",
              "<table border=\"1\" class=\"dataframe\">\n",
              "  <thead>\n",
              "    <tr style=\"text-align: right;\">\n",
              "      <th></th>\n",
              "      <th>key</th>\n",
              "      <th>Суммарное время нагрева электродами</th>\n",
              "    </tr>\n",
              "  </thead>\n",
              "  <tbody>\n",
              "    <tr>\n",
              "      <td>0</td>\n",
              "      <td>1</td>\n",
              "      <td>00:18:18</td>\n",
              "    </tr>\n",
              "    <tr>\n",
              "      <td>1</td>\n",
              "      <td>2</td>\n",
              "      <td>00:13:31</td>\n",
              "    </tr>\n",
              "    <tr>\n",
              "      <td>2</td>\n",
              "      <td>3</td>\n",
              "      <td>00:10:55</td>\n",
              "    </tr>\n",
              "    <tr>\n",
              "      <td>3</td>\n",
              "      <td>4</td>\n",
              "      <td>00:12:21</td>\n",
              "    </tr>\n",
              "    <tr>\n",
              "      <td>4</td>\n",
              "      <td>5</td>\n",
              "      <td>00:14:29</td>\n",
              "    </tr>\n",
              "    <tr>\n",
              "      <td>...</td>\n",
              "      <td>...</td>\n",
              "      <td>...</td>\n",
              "    </tr>\n",
              "    <tr>\n",
              "      <td>3209</td>\n",
              "      <td>3237</td>\n",
              "      <td>00:15:09</td>\n",
              "    </tr>\n",
              "    <tr>\n",
              "      <td>3210</td>\n",
              "      <td>3238</td>\n",
              "      <td>00:09:06</td>\n",
              "    </tr>\n",
              "    <tr>\n",
              "      <td>3211</td>\n",
              "      <td>3239</td>\n",
              "      <td>00:20:16</td>\n",
              "    </tr>\n",
              "    <tr>\n",
              "      <td>3212</td>\n",
              "      <td>3240</td>\n",
              "      <td>00:13:59</td>\n",
              "    </tr>\n",
              "    <tr>\n",
              "      <td>3213</td>\n",
              "      <td>3241</td>\n",
              "      <td>00:10:59</td>\n",
              "    </tr>\n",
              "  </tbody>\n",
              "</table>\n",
              "<p>3214 rows × 2 columns</p>\n",
              "</div>"
            ],
            "text/plain": [
              "       key Суммарное время нагрева электродами\n",
              "0        1                            00:18:18\n",
              "1        2                            00:13:31\n",
              "2        3                            00:10:55\n",
              "3        4                            00:12:21\n",
              "4        5                            00:14:29\n",
              "...    ...                                 ...\n",
              "3209  3237                            00:15:09\n",
              "3210  3238                            00:09:06\n",
              "3211  3239                            00:20:16\n",
              "3212  3240                            00:13:59\n",
              "3213  3241                            00:10:59\n",
              "\n",
              "[3214 rows x 2 columns]"
            ]
          },
          "metadata": {
            "tags": []
          },
          "execution_count": 37
        }
      ]
    },
    {
      "cell_type": "code",
      "metadata": {
        "colab": {
          "base_uri": "https://localhost:8080/"
        },
        "id": "TIdbXlOKszOQ",
        "outputId": "7ce978dc-1eb2-48b9-bcb8-ad4c5f50e1c1"
      },
      "source": [
        "print('Суммарное время нагрева электродами по всем позициям равно:',p2['Время нагрева электродами'].sum())"
      ],
      "execution_count": null,
      "outputs": [
        {
          "output_type": "stream",
          "text": [
            "Суммарное время нагрева электродами по всем позициям равно: 29 days 13:21:08\n"
          ],
          "name": "stdout"
        }
      ]
    },
    {
      "cell_type": "markdown",
      "metadata": {
        "id": "Rb1wdDAnuUFt"
      },
      "source": [
        "# p3. Количество запусков нагрева электродами"
      ]
    },
    {
      "cell_type": "code",
      "metadata": {
        "colab": {
          "base_uri": "https://localhost:8080/",
          "height": 391
        },
        "id": "v83Jyp5b_CnO",
        "outputId": "13e0f6ef-55b0-415f-ce2a-30c0c9b241b8"
      },
      "source": [
        "count_heating = p2.groupby('key')['Время нагрева электродами'].count()\n",
        "count_heating=count_heating.reset_index()\n",
        "count_heating.columns = ['key','Количество запусков нагрева электродами']\n",
        "count_heating"
      ],
      "execution_count": null,
      "outputs": [
        {
          "output_type": "execute_result",
          "data": {
            "text/html": [
              "<div>\n",
              "<style scoped>\n",
              "    .dataframe tbody tr th:only-of-type {\n",
              "        vertical-align: middle;\n",
              "    }\n",
              "\n",
              "    .dataframe tbody tr th {\n",
              "        vertical-align: top;\n",
              "    }\n",
              "\n",
              "    .dataframe thead th {\n",
              "        text-align: right;\n",
              "    }\n",
              "</style>\n",
              "<table border=\"1\" class=\"dataframe\">\n",
              "  <thead>\n",
              "    <tr style=\"text-align: right;\">\n",
              "      <th></th>\n",
              "      <th>key</th>\n",
              "      <th>Количество запусков нагрева электродами</th>\n",
              "    </tr>\n",
              "  </thead>\n",
              "  <tbody>\n",
              "    <tr>\n",
              "      <td>0</td>\n",
              "      <td>1</td>\n",
              "      <td>5</td>\n",
              "    </tr>\n",
              "    <tr>\n",
              "      <td>1</td>\n",
              "      <td>2</td>\n",
              "      <td>4</td>\n",
              "    </tr>\n",
              "    <tr>\n",
              "      <td>2</td>\n",
              "      <td>3</td>\n",
              "      <td>5</td>\n",
              "    </tr>\n",
              "    <tr>\n",
              "      <td>3</td>\n",
              "      <td>4</td>\n",
              "      <td>4</td>\n",
              "    </tr>\n",
              "    <tr>\n",
              "      <td>4</td>\n",
              "      <td>5</td>\n",
              "      <td>4</td>\n",
              "    </tr>\n",
              "    <tr>\n",
              "      <td>...</td>\n",
              "      <td>...</td>\n",
              "      <td>...</td>\n",
              "    </tr>\n",
              "    <tr>\n",
              "      <td>3209</td>\n",
              "      <td>3237</td>\n",
              "      <td>5</td>\n",
              "    </tr>\n",
              "    <tr>\n",
              "      <td>3210</td>\n",
              "      <td>3238</td>\n",
              "      <td>3</td>\n",
              "    </tr>\n",
              "    <tr>\n",
              "      <td>3211</td>\n",
              "      <td>3239</td>\n",
              "      <td>8</td>\n",
              "    </tr>\n",
              "    <tr>\n",
              "      <td>3212</td>\n",
              "      <td>3240</td>\n",
              "      <td>5</td>\n",
              "    </tr>\n",
              "    <tr>\n",
              "      <td>3213</td>\n",
              "      <td>3241</td>\n",
              "      <td>5</td>\n",
              "    </tr>\n",
              "  </tbody>\n",
              "</table>\n",
              "<p>3214 rows × 2 columns</p>\n",
              "</div>"
            ],
            "text/plain": [
              "       key  Количество запусков нагрева электродами\n",
              "0        1                                        5\n",
              "1        2                                        4\n",
              "2        3                                        5\n",
              "3        4                                        4\n",
              "4        5                                        4\n",
              "...    ...                                      ...\n",
              "3209  3237                                        5\n",
              "3210  3238                                        3\n",
              "3211  3239                                        8\n",
              "3212  3240                                        5\n",
              "3213  3241                                        5\n",
              "\n",
              "[3214 rows x 2 columns]"
            ]
          },
          "metadata": {
            "tags": []
          },
          "execution_count": 39
        }
      ]
    },
    {
      "cell_type": "code",
      "metadata": {
        "colab": {
          "base_uri": "https://localhost:8080/",
          "height": 521
        },
        "id": "eGaPhaErCCUC",
        "outputId": "0b2b45ca-555e-42d9-e695-85b18a7da872"
      },
      "source": [
        "plt.figure(figsize=(18,8))\n",
        "sns.lineplot(data=count_heating, x='key',y='Количество запусков нагрева электродами')\n",
        "plt.title('График количества запусков нагрева электродами', y=1.02)\n",
        "plt.show()"
      ],
      "execution_count": null,
      "outputs": [
        {
          "output_type": "display_data",
          "data": {
            "image/png": "[encoded data removed]",
            "text/plain": [
              "<Figure size 1296x576 with 1 Axes>"
            ]
          },
          "metadata": {
            "tags": []
          }
        }
      ]
    },
    {
      "cell_type": "code",
      "metadata": {
        "colab": {
          "base_uri": "https://localhost:8080/"
        },
        "id": "3HlQuGKEuR_t",
        "outputId": "0f79e991-1889-4cc0-f6c9-b23d8440f878"
      },
      "source": [
        "print('Суммарное количество запусков нагрева электродами равно:', count_heating['Количество запусков нагрева электродами'].sum())"
      ],
      "execution_count": null,
      "outputs": [
        {
          "output_type": "stream",
          "text": [
            "Суммарное количество запусков нагрева электродами равно: 14875\n"
          ],
          "name": "stdout"
        }
      ]
    },
    {
      "cell_type": "markdown",
      "metadata": {
        "id": "8IwH_LBj-Fi1"
      },
      "source": [
        "# p4. Среднее соотношение потребления активной и реактивной мощности."
      ]
    },
    {
      "cell_type": "code",
      "metadata": {
        "colab": {
          "base_uri": "https://localhost:8080/",
          "height": 391
        },
        "id": "lDHXBQ-p-FH-",
        "outputId": "c5968a32-f7b2-4e47-ef63-9d0c477e6a46"
      },
      "source": [
        "mean_ratio_power = p2.groupby('key')['Активная мощность','Реактивная мощность'].mean()\n",
        "mean_ratio_power = mean_ratio_power.reset_index()\n",
        "mean_ratio_power.columns=['key','Средняя активная мощность','Сердняя реактивная мощность']\n",
        "mean_ratio_power['Среднее отношение активной к реактивной мощности'] = mean_ratio_power['Средняя активная мощность']/mean_ratio_power['Сердняя реактивная мощность']\n",
        "mean_ratio_power"
      ],
      "execution_count": null,
      "outputs": [
        {
          "output_type": "execute_result",
          "data": {
            "text/html": [
              "<div>\n",
              "<style scoped>\n",
              "    .dataframe tbody tr th:only-of-type {\n",
              "        vertical-align: middle;\n",
              "    }\n",
              "\n",
              "    .dataframe tbody tr th {\n",
              "        vertical-align: top;\n",
              "    }\n",
              "\n",
              "    .dataframe thead th {\n",
              "        text-align: right;\n",
              "    }\n",
              "</style>\n",
              "<table border=\"1\" class=\"dataframe\">\n",
              "  <thead>\n",
              "    <tr style=\"text-align: right;\">\n",
              "      <th></th>\n",
              "      <th>key</th>\n",
              "      <th>Средняя активная мощность</th>\n",
              "      <th>Сердняя реактивная мощность</th>\n",
              "      <th>Среднее отношение активной к реактивной мощности</th>\n",
              "    </tr>\n",
              "  </thead>\n",
              "  <tbody>\n",
              "    <tr>\n",
              "      <td>0</td>\n",
              "      <td>1</td>\n",
              "      <td>0.975629</td>\n",
              "      <td>0.636648</td>\n",
              "      <td>1.532447</td>\n",
              "    </tr>\n",
              "    <tr>\n",
              "      <td>1</td>\n",
              "      <td>2</td>\n",
              "      <td>0.763150</td>\n",
              "      <td>0.499528</td>\n",
              "      <td>1.527741</td>\n",
              "    </tr>\n",
              "    <tr>\n",
              "      <td>2</td>\n",
              "      <td>3</td>\n",
              "      <td>0.505176</td>\n",
              "      <td>0.319815</td>\n",
              "      <td>1.579589</td>\n",
              "    </tr>\n",
              "    <tr>\n",
              "      <td>3</td>\n",
              "      <td>4</td>\n",
              "      <td>0.802313</td>\n",
              "      <td>0.515074</td>\n",
              "      <td>1.557663</td>\n",
              "    </tr>\n",
              "    <tr>\n",
              "      <td>4</td>\n",
              "      <td>5</td>\n",
              "      <td>0.836793</td>\n",
              "      <td>0.563161</td>\n",
              "      <td>1.485887</td>\n",
              "    </tr>\n",
              "    <tr>\n",
              "      <td>...</td>\n",
              "      <td>...</td>\n",
              "      <td>...</td>\n",
              "      <td>...</td>\n",
              "      <td>...</td>\n",
              "    </tr>\n",
              "    <tr>\n",
              "      <td>3209</td>\n",
              "      <td>3237</td>\n",
              "      <td>0.786493</td>\n",
              "      <td>0.565692</td>\n",
              "      <td>1.390321</td>\n",
              "    </tr>\n",
              "    <tr>\n",
              "      <td>3210</td>\n",
              "      <td>3238</td>\n",
              "      <td>0.702176</td>\n",
              "      <td>0.560394</td>\n",
              "      <td>1.253004</td>\n",
              "    </tr>\n",
              "    <tr>\n",
              "      <td>3211</td>\n",
              "      <td>3239</td>\n",
              "      <td>0.583344</td>\n",
              "      <td>0.388952</td>\n",
              "      <td>1.499784</td>\n",
              "    </tr>\n",
              "    <tr>\n",
              "      <td>3212</td>\n",
              "      <td>3240</td>\n",
              "      <td>0.596817</td>\n",
              "      <td>0.496653</td>\n",
              "      <td>1.201676</td>\n",
              "    </tr>\n",
              "    <tr>\n",
              "      <td>3213</td>\n",
              "      <td>3241</td>\n",
              "      <td>0.494289</td>\n",
              "      <td>0.339240</td>\n",
              "      <td>1.457050</td>\n",
              "    </tr>\n",
              "  </tbody>\n",
              "</table>\n",
              "<p>3214 rows × 4 columns</p>\n",
              "</div>"
            ],
            "text/plain": [
              "       key  Средняя активная мощность  Сердняя реактивная мощность  \\\n",
              "0        1                   0.975629                     0.636648   \n",
              "1        2                   0.763150                     0.499528   \n",
              "2        3                   0.505176                     0.319815   \n",
              "3        4                   0.802313                     0.515074   \n",
              "4        5                   0.836793                     0.563161   \n",
              "...    ...                        ...                          ...   \n",
              "3209  3237                   0.786493                     0.565692   \n",
              "3210  3238                   0.702176                     0.560394   \n",
              "3211  3239                   0.583344                     0.388952   \n",
              "3212  3240                   0.596817                     0.496653   \n",
              "3213  3241                   0.494289                     0.339240   \n",
              "\n",
              "      Среднее отношение активной к реактивной мощности  \n",
              "0                                             1.532447  \n",
              "1                                             1.527741  \n",
              "2                                             1.579589  \n",
              "3                                             1.557663  \n",
              "4                                             1.485887  \n",
              "...                                                ...  \n",
              "3209                                          1.390321  \n",
              "3210                                          1.253004  \n",
              "3211                                          1.499784  \n",
              "3212                                          1.201676  \n",
              "3213                                          1.457050  \n",
              "\n",
              "[3214 rows x 4 columns]"
            ]
          },
          "metadata": {
            "tags": []
          },
          "execution_count": 42
        }
      ]
    },
    {
      "cell_type": "markdown",
      "metadata": {
        "id": "K9LOGq3FmZZc"
      },
      "source": [
        "### Отобразим на графике"
      ]
    },
    {
      "cell_type": "code",
      "metadata": {
        "colab": {
          "base_uri": "https://localhost:8080/",
          "height": 522
        },
        "id": "8G9FBLuQmXur",
        "outputId": "55a3a16c-05ec-4832-c9ea-dede9b5eb130"
      },
      "source": [
        "plt.figure(figsize=(8,8))\n",
        "sns.regplot(x=\"Средняя активная мощность\", y=\"Сердняя реактивная мощность\", data=mean_ratio_power)\n",
        "plt.title('Среднее соотношение потребления активной и реактивной мощности',y=1.02)\n",
        "plt.show()"
      ],
      "execution_count": null,
      "outputs": [
        {
          "output_type": "display_data",
          "data": {
            "image/png": "[encoded data removed]",
            "text/plain": [
              "<Figure size 576x576 with 1 Axes>"
            ]
          },
          "metadata": {
            "tags": []
          }
        }
      ]
    },
    {
      "cell_type": "markdown",
      "metadata": {
        "id": "80QcfRCrK5W-"
      },
      "source": [
        "## По всем полученным столбцам вычислим статистики: средние, минимальные и максимальные значения, медиану и величины 25%- и 75%-квартилей."
      ]
    },
    {
      "cell_type": "markdown",
      "metadata": {
        "id": "z_Ie4jUrLDAm"
      },
      "source": [
        "###  - Для этого объеденим все полученные столбцы с основной таблицей"
      ]
    },
    {
      "cell_type": "code",
      "metadata": {
        "colab": {
          "base_uri": "https://localhost:8080/",
          "height": 191
        },
        "id": "lEtDv_3bK-9F",
        "outputId": "be789570-2948-48aa-bfe0-f197c587a72f"
      },
      "source": [
        "table = time_per_key.merge(count_heating ,on='key')\n",
        "table.head()"
      ],
      "execution_count": null,
      "outputs": [
        {
          "output_type": "execute_result",
          "data": {
            "text/html": [
              "<div>\n",
              "<style scoped>\n",
              "    .dataframe tbody tr th:only-of-type {\n",
              "        vertical-align: middle;\n",
              "    }\n",
              "\n",
              "    .dataframe tbody tr th {\n",
              "        vertical-align: top;\n",
              "    }\n",
              "\n",
              "    .dataframe thead th {\n",
              "        text-align: right;\n",
              "    }\n",
              "</style>\n",
              "<table border=\"1\" class=\"dataframe\">\n",
              "  <thead>\n",
              "    <tr style=\"text-align: right;\">\n",
              "      <th></th>\n",
              "      <th>key</th>\n",
              "      <th>Суммарное время нагрева электродами</th>\n",
              "      <th>Количество запусков нагрева электродами</th>\n",
              "    </tr>\n",
              "  </thead>\n",
              "  <tbody>\n",
              "    <tr>\n",
              "      <td>0</td>\n",
              "      <td>1</td>\n",
              "      <td>00:18:18</td>\n",
              "      <td>5</td>\n",
              "    </tr>\n",
              "    <tr>\n",
              "      <td>1</td>\n",
              "      <td>2</td>\n",
              "      <td>00:13:31</td>\n",
              "      <td>4</td>\n",
              "    </tr>\n",
              "    <tr>\n",
              "      <td>2</td>\n",
              "      <td>3</td>\n",
              "      <td>00:10:55</td>\n",
              "      <td>5</td>\n",
              "    </tr>\n",
              "    <tr>\n",
              "      <td>3</td>\n",
              "      <td>4</td>\n",
              "      <td>00:12:21</td>\n",
              "      <td>4</td>\n",
              "    </tr>\n",
              "    <tr>\n",
              "      <td>4</td>\n",
              "      <td>5</td>\n",
              "      <td>00:14:29</td>\n",
              "      <td>4</td>\n",
              "    </tr>\n",
              "  </tbody>\n",
              "</table>\n",
              "</div>"
            ],
            "text/plain": [
              "   key Суммарное время нагрева электродами  \\\n",
              "0    1                            00:18:18   \n",
              "1    2                            00:13:31   \n",
              "2    3                            00:10:55   \n",
              "3    4                            00:12:21   \n",
              "4    5                            00:14:29   \n",
              "\n",
              "   Количество запусков нагрева электродами  \n",
              "0                                        5  \n",
              "1                                        4  \n",
              "2                                        5  \n",
              "3                                        4  \n",
              "4                                        4  "
            ]
          },
          "metadata": {
            "tags": []
          },
          "execution_count": 44
        }
      ]
    },
    {
      "cell_type": "code",
      "metadata": {
        "colab": {
          "base_uri": "https://localhost:8080/",
          "height": 191
        },
        "id": "TpWhKegeL6Cf",
        "outputId": "ddd794f8-f02b-4258-8cc6-0744aa41733e"
      },
      "source": [
        "table = table.merge(mean_ratio_power ,on='key')\n",
        "table.head()"
      ],
      "execution_count": null,
      "outputs": [
        {
          "output_type": "execute_result",
          "data": {
            "text/html": [
              "<div>\n",
              "<style scoped>\n",
              "    .dataframe tbody tr th:only-of-type {\n",
              "        vertical-align: middle;\n",
              "    }\n",
              "\n",
              "    .dataframe tbody tr th {\n",
              "        vertical-align: top;\n",
              "    }\n",
              "\n",
              "    .dataframe thead th {\n",
              "        text-align: right;\n",
              "    }\n",
              "</style>\n",
              "<table border=\"1\" class=\"dataframe\">\n",
              "  <thead>\n",
              "    <tr style=\"text-align: right;\">\n",
              "      <th></th>\n",
              "      <th>key</th>\n",
              "      <th>Суммарное время нагрева электродами</th>\n",
              "      <th>Количество запусков нагрева электродами</th>\n",
              "      <th>Средняя активная мощность</th>\n",
              "      <th>Сердняя реактивная мощность</th>\n",
              "      <th>Среднее отношение активной к реактивной мощности</th>\n",
              "    </tr>\n",
              "  </thead>\n",
              "  <tbody>\n",
              "    <tr>\n",
              "      <td>0</td>\n",
              "      <td>1</td>\n",
              "      <td>00:18:18</td>\n",
              "      <td>5</td>\n",
              "      <td>0.975629</td>\n",
              "      <td>0.636648</td>\n",
              "      <td>1.532447</td>\n",
              "    </tr>\n",
              "    <tr>\n",
              "      <td>1</td>\n",
              "      <td>2</td>\n",
              "      <td>00:13:31</td>\n",
              "      <td>4</td>\n",
              "      <td>0.763150</td>\n",
              "      <td>0.499528</td>\n",
              "      <td>1.527741</td>\n",
              "    </tr>\n",
              "    <tr>\n",
              "      <td>2</td>\n",
              "      <td>3</td>\n",
              "      <td>00:10:55</td>\n",
              "      <td>5</td>\n",
              "      <td>0.505176</td>\n",
              "      <td>0.319815</td>\n",
              "      <td>1.579589</td>\n",
              "    </tr>\n",
              "    <tr>\n",
              "      <td>3</td>\n",
              "      <td>4</td>\n",
              "      <td>00:12:21</td>\n",
              "      <td>4</td>\n",
              "      <td>0.802313</td>\n",
              "      <td>0.515074</td>\n",
              "      <td>1.557663</td>\n",
              "    </tr>\n",
              "    <tr>\n",
              "      <td>4</td>\n",
              "      <td>5</td>\n",
              "      <td>00:14:29</td>\n",
              "      <td>4</td>\n",
              "      <td>0.836793</td>\n",
              "      <td>0.563161</td>\n",
              "      <td>1.485887</td>\n",
              "    </tr>\n",
              "  </tbody>\n",
              "</table>\n",
              "</div>"
            ],
            "text/plain": [
              "   key Суммарное время нагрева электродами  \\\n",
              "0    1                            00:18:18   \n",
              "1    2                            00:13:31   \n",
              "2    3                            00:10:55   \n",
              "3    4                            00:12:21   \n",
              "4    5                            00:14:29   \n",
              "\n",
              "   Количество запусков нагрева электродами  Средняя активная мощность  \\\n",
              "0                                        5                   0.975629   \n",
              "1                                        4                   0.763150   \n",
              "2                                        5                   0.505176   \n",
              "3                                        4                   0.802313   \n",
              "4                                        4                   0.836793   \n",
              "\n",
              "   Сердняя реактивная мощность  \\\n",
              "0                     0.636648   \n",
              "1                     0.499528   \n",
              "2                     0.319815   \n",
              "3                     0.515074   \n",
              "4                     0.563161   \n",
              "\n",
              "   Среднее отношение активной к реактивной мощности  \n",
              "0                                          1.532447  \n",
              "1                                          1.527741  \n",
              "2                                          1.579589  \n",
              "3                                          1.557663  \n",
              "4                                          1.485887  "
            ]
          },
          "metadata": {
            "tags": []
          },
          "execution_count": 45
        }
      ]
    },
    {
      "cell_type": "code",
      "metadata": {
        "colab": {
          "base_uri": "https://localhost:8080/",
          "height": 207
        },
        "id": "ldMz3KOrfhrs",
        "outputId": "99d9ca02-977c-4b64-e8ef-ee5020dfc71a"
      },
      "source": [
        "table = table.merge(first_last_temp, on='key')\n",
        "table.head()"
      ],
      "execution_count": null,
      "outputs": [
        {
          "output_type": "execute_result",
          "data": {
            "text/html": [
              "<div>\n",
              "<style scoped>\n",
              "    .dataframe tbody tr th:only-of-type {\n",
              "        vertical-align: middle;\n",
              "    }\n",
              "\n",
              "    .dataframe tbody tr th {\n",
              "        vertical-align: top;\n",
              "    }\n",
              "\n",
              "    .dataframe thead th {\n",
              "        text-align: right;\n",
              "    }\n",
              "</style>\n",
              "<table border=\"1\" class=\"dataframe\">\n",
              "  <thead>\n",
              "    <tr style=\"text-align: right;\">\n",
              "      <th></th>\n",
              "      <th>key</th>\n",
              "      <th>Суммарное время нагрева электродами</th>\n",
              "      <th>Количество запусков нагрева электродами</th>\n",
              "      <th>Средняя активная мощность</th>\n",
              "      <th>Сердняя реактивная мощность</th>\n",
              "      <th>Среднее отношение активной к реактивной мощности</th>\n",
              "      <th>Время последнего замера температуры</th>\n",
              "      <th>Время первого замера температуры</th>\n",
              "      <th>Длительность между замерами температур</th>\n",
              "    </tr>\n",
              "  </thead>\n",
              "  <tbody>\n",
              "    <tr>\n",
              "      <td>0</td>\n",
              "      <td>1</td>\n",
              "      <td>00:18:18</td>\n",
              "      <td>5</td>\n",
              "      <td>0.975629</td>\n",
              "      <td>0.636648</td>\n",
              "      <td>1.532447</td>\n",
              "      <td>2019-05-03 11:30:39</td>\n",
              "      <td>2019-05-03 11:16:18</td>\n",
              "      <td>00:14:21</td>\n",
              "    </tr>\n",
              "    <tr>\n",
              "      <td>1</td>\n",
              "      <td>2</td>\n",
              "      <td>00:13:31</td>\n",
              "      <td>4</td>\n",
              "      <td>0.763150</td>\n",
              "      <td>0.499528</td>\n",
              "      <td>1.527741</td>\n",
              "      <td>2019-05-03 11:59:12</td>\n",
              "      <td>2019-05-03 11:37:27</td>\n",
              "      <td>00:21:45</td>\n",
              "    </tr>\n",
              "    <tr>\n",
              "      <td>2</td>\n",
              "      <td>3</td>\n",
              "      <td>00:10:55</td>\n",
              "      <td>5</td>\n",
              "      <td>0.505176</td>\n",
              "      <td>0.319815</td>\n",
              "      <td>1.579589</td>\n",
              "      <td>2019-05-03 12:34:57</td>\n",
              "      <td>2019-05-03 12:13:17</td>\n",
              "      <td>00:21:40</td>\n",
              "    </tr>\n",
              "    <tr>\n",
              "      <td>3</td>\n",
              "      <td>4</td>\n",
              "      <td>00:12:21</td>\n",
              "      <td>4</td>\n",
              "      <td>0.802313</td>\n",
              "      <td>0.515074</td>\n",
              "      <td>1.557663</td>\n",
              "      <td>2019-05-03 12:59:25</td>\n",
              "      <td>2019-05-03 12:52:57</td>\n",
              "      <td>00:06:28</td>\n",
              "    </tr>\n",
              "    <tr>\n",
              "      <td>4</td>\n",
              "      <td>5</td>\n",
              "      <td>00:14:29</td>\n",
              "      <td>4</td>\n",
              "      <td>0.836793</td>\n",
              "      <td>0.563161</td>\n",
              "      <td>1.485887</td>\n",
              "      <td>2019-05-03 13:36:01</td>\n",
              "      <td>2019-05-03 13:23:19</td>\n",
              "      <td>00:12:42</td>\n",
              "    </tr>\n",
              "  </tbody>\n",
              "</table>\n",
              "</div>"
            ],
            "text/plain": [
              "   key Суммарное время нагрева электродами  \\\n",
              "0    1                            00:18:18   \n",
              "1    2                            00:13:31   \n",
              "2    3                            00:10:55   \n",
              "3    4                            00:12:21   \n",
              "4    5                            00:14:29   \n",
              "\n",
              "   Количество запусков нагрева электродами  Средняя активная мощность  \\\n",
              "0                                        5                   0.975629   \n",
              "1                                        4                   0.763150   \n",
              "2                                        5                   0.505176   \n",
              "3                                        4                   0.802313   \n",
              "4                                        4                   0.836793   \n",
              "\n",
              "   Сердняя реактивная мощность  \\\n",
              "0                     0.636648   \n",
              "1                     0.499528   \n",
              "2                     0.319815   \n",
              "3                     0.515074   \n",
              "4                     0.563161   \n",
              "\n",
              "   Среднее отношение активной к реактивной мощности  \\\n",
              "0                                          1.532447   \n",
              "1                                          1.527741   \n",
              "2                                          1.579589   \n",
              "3                                          1.557663   \n",
              "4                                          1.485887   \n",
              "\n",
              "  Время последнего замера температуры Время первого замера температуры  \\\n",
              "0                 2019-05-03 11:30:39              2019-05-03 11:16:18   \n",
              "1                 2019-05-03 11:59:12              2019-05-03 11:37:27   \n",
              "2                 2019-05-03 12:34:57              2019-05-03 12:13:17   \n",
              "3                 2019-05-03 12:59:25              2019-05-03 12:52:57   \n",
              "4                 2019-05-03 13:36:01              2019-05-03 13:23:19   \n",
              "\n",
              "  Длительность между замерами температур  \n",
              "0                               00:14:21  \n",
              "1                               00:21:45  \n",
              "2                               00:21:40  \n",
              "3                               00:06:28  \n",
              "4                               00:12:42  "
            ]
          },
          "metadata": {
            "tags": []
          },
          "execution_count": 46
        }
      ]
    },
    {
      "cell_type": "code",
      "metadata": {
        "colab": {
          "base_uri": "https://localhost:8080/"
        },
        "id": "QTGE3RB1IpCA",
        "outputId": "00ff3094-77ea-4f77-cea9-8f9030a462a6"
      },
      "source": [
        "table.info()"
      ],
      "execution_count": null,
      "outputs": [
        {
          "output_type": "stream",
          "text": [
            "<class 'pandas.core.frame.DataFrame'>\n",
            "Int64Index: 3214 entries, 0 to 3213\n",
            "Data columns (total 9 columns):\n",
            "key                                                 3214 non-null int64\n",
            "Суммарное время нагрева электродами                 3214 non-null timedelta64[ns]\n",
            "Количество запусков нагрева электродами             3214 non-null int64\n",
            "Средняя активная мощность                           3214 non-null float64\n",
            "Сердняя реактивная мощность                         3214 non-null float64\n",
            "Среднее отношение активной к реактивной мощности    3214 non-null float64\n",
            "Время последнего замера температуры                 3214 non-null datetime64[ns]\n",
            "Время первого замера температуры                    3214 non-null datetime64[ns]\n",
            "Длительность между замерами температур              3214 non-null timedelta64[ns]\n",
            "dtypes: datetime64[ns](2), float64(3), int64(2), timedelta64[ns](2)\n",
            "memory usage: 251.1 KB\n"
          ],
          "name": "stdout"
        }
      ]
    },
    {
      "cell_type": "markdown",
      "metadata": {
        "id": "WuSGj0plQtZ2"
      },
      "source": [
        "### Выведем средние, минимальные и максимальные значения, медиану и величины 25%- и 75%-квартилей"
      ]
    },
    {
      "cell_type": "code",
      "metadata": {
        "colab": {
          "base_uri": "https://localhost:8080/",
          "height": 277
        },
        "id": "43qwYGt3NxQe",
        "outputId": "318d69d9-3572-4dfb-f40a-f583da4e1d16"
      },
      "source": [
        "table.describe()"
      ],
      "execution_count": null,
      "outputs": [
        {
          "output_type": "execute_result",
          "data": {
            "text/html": [
              "<div>\n",
              "<style scoped>\n",
              "    .dataframe tbody tr th:only-of-type {\n",
              "        vertical-align: middle;\n",
              "    }\n",
              "\n",
              "    .dataframe tbody tr th {\n",
              "        vertical-align: top;\n",
              "    }\n",
              "\n",
              "    .dataframe thead th {\n",
              "        text-align: right;\n",
              "    }\n",
              "</style>\n",
              "<table border=\"1\" class=\"dataframe\">\n",
              "  <thead>\n",
              "    <tr style=\"text-align: right;\">\n",
              "      <th></th>\n",
              "      <th>key</th>\n",
              "      <th>Суммарное время нагрева электродами</th>\n",
              "      <th>Количество запусков нагрева электродами</th>\n",
              "      <th>Средняя активная мощность</th>\n",
              "      <th>Сердняя реактивная мощность</th>\n",
              "      <th>Среднее отношение активной к реактивной мощности</th>\n",
              "      <th>Длительность между замерами температур</th>\n",
              "    </tr>\n",
              "  </thead>\n",
              "  <tbody>\n",
              "    <tr>\n",
              "      <td>count</td>\n",
              "      <td>3214.000000</td>\n",
              "      <td>3214</td>\n",
              "      <td>3214.000000</td>\n",
              "      <td>3214.000000</td>\n",
              "      <td>3214.000000</td>\n",
              "      <td>3214.000000</td>\n",
              "      <td>3214</td>\n",
              "    </tr>\n",
              "    <tr>\n",
              "      <td>mean</td>\n",
              "      <td>1623.061294</td>\n",
              "      <td>0 days 00:13:14.545115</td>\n",
              "      <td>4.628189</td>\n",
              "      <td>0.671067</td>\n",
              "      <td>0.501532</td>\n",
              "      <td>1.345269</td>\n",
              "      <td>0 days 00:30:41.006533</td>\n",
              "    </tr>\n",
              "    <tr>\n",
              "      <td>std</td>\n",
              "      <td>934.739859</td>\n",
              "      <td>0 days 00:05:32.491076</td>\n",
              "      <td>1.608866</td>\n",
              "      <td>0.207490</td>\n",
              "      <td>0.153933</td>\n",
              "      <td>0.135673</td>\n",
              "      <td>0 days 00:20:46.492873</td>\n",
              "    </tr>\n",
              "    <tr>\n",
              "      <td>min</td>\n",
              "      <td>1.000000</td>\n",
              "      <td>0 days 00:00:57</td>\n",
              "      <td>1.000000</td>\n",
              "      <td>0.186226</td>\n",
              "      <td>0.130062</td>\n",
              "      <td>0.609224</td>\n",
              "      <td>0 days 00:03:17</td>\n",
              "    </tr>\n",
              "    <tr>\n",
              "      <td>25%</td>\n",
              "      <td>817.250000</td>\n",
              "      <td>0 days 00:09:31</td>\n",
              "      <td>4.000000</td>\n",
              "      <td>0.519691</td>\n",
              "      <td>0.387213</td>\n",
              "      <td>1.277312</td>\n",
              "      <td>0 days 00:19:38.250000</td>\n",
              "    </tr>\n",
              "    <tr>\n",
              "      <td>50%</td>\n",
              "      <td>1623.500000</td>\n",
              "      <td>0 days 00:12:50</td>\n",
              "      <td>4.000000</td>\n",
              "      <td>0.646633</td>\n",
              "      <td>0.489478</td>\n",
              "      <td>1.357526</td>\n",
              "      <td>0 days 00:26:23</td>\n",
              "    </tr>\n",
              "    <tr>\n",
              "      <td>75%</td>\n",
              "      <td>2431.750000</td>\n",
              "      <td>0 days 00:16:23</td>\n",
              "      <td>6.000000</td>\n",
              "      <td>0.797201</td>\n",
              "      <td>0.599788</td>\n",
              "      <td>1.429244</td>\n",
              "      <td>0 days 00:37:15</td>\n",
              "    </tr>\n",
              "    <tr>\n",
              "      <td>max</td>\n",
              "      <td>3241.000000</td>\n",
              "      <td>0 days 01:09:49</td>\n",
              "      <td>16.000000</td>\n",
              "      <td>1.819169</td>\n",
              "      <td>1.141721</td>\n",
              "      <td>1.777119</td>\n",
              "      <td>0 days 06:32:17</td>\n",
              "    </tr>\n",
              "  </tbody>\n",
              "</table>\n",
              "</div>"
            ],
            "text/plain": [
              "               key Суммарное время нагрева электродами  \\\n",
              "count  3214.000000                                3214   \n",
              "mean   1623.061294              0 days 00:13:14.545115   \n",
              "std     934.739859              0 days 00:05:32.491076   \n",
              "min       1.000000                     0 days 00:00:57   \n",
              "25%     817.250000                     0 days 00:09:31   \n",
              "50%    1623.500000                     0 days 00:12:50   \n",
              "75%    2431.750000                     0 days 00:16:23   \n",
              "max    3241.000000                     0 days 01:09:49   \n",
              "\n",
              "       Количество запусков нагрева электродами  Средняя активная мощность  \\\n",
              "count                              3214.000000                3214.000000   \n",
              "mean                                  4.628189                   0.671067   \n",
              "std                                   1.608866                   0.207490   \n",
              "min                                   1.000000                   0.186226   \n",
              "25%                                   4.000000                   0.519691   \n",
              "50%                                   4.000000                   0.646633   \n",
              "75%                                   6.000000                   0.797201   \n",
              "max                                  16.000000                   1.819169   \n",
              "\n",
              "       Сердняя реактивная мощность  \\\n",
              "count                  3214.000000   \n",
              "mean                      0.501532   \n",
              "std                       0.153933   \n",
              "min                       0.130062   \n",
              "25%                       0.387213   \n",
              "50%                       0.489478   \n",
              "75%                       0.599788   \n",
              "max                       1.141721   \n",
              "\n",
              "       Среднее отношение активной к реактивной мощности  \\\n",
              "count                                       3214.000000   \n",
              "mean                                           1.345269   \n",
              "std                                            0.135673   \n",
              "min                                            0.609224   \n",
              "25%                                            1.277312   \n",
              "50%                                            1.357526   \n",
              "75%                                            1.429244   \n",
              "max                                            1.777119   \n",
              "\n",
              "      Длительность между замерами температур  \n",
              "count                                   3214  \n",
              "mean                  0 days 00:30:41.006533  \n",
              "std                   0 days 00:20:46.492873  \n",
              "min                          0 days 00:03:17  \n",
              "25%                   0 days 00:19:38.250000  \n",
              "50%                          0 days 00:26:23  \n",
              "75%                          0 days 00:37:15  \n",
              "max                          0 days 06:32:17  "
            ]
          },
          "metadata": {
            "tags": []
          },
          "execution_count": 48
        }
      ]
    },
    {
      "cell_type": "markdown",
      "metadata": {
        "id": "EtMg2fEhS354"
      },
      "source": [
        "----\n",
        "----"
      ]
    },
    {
      "cell_type": "markdown",
      "metadata": {
        "id": "PzHiU1ixyzIp"
      },
      "source": [
        "## Объединим все интересующие нас данные в одну таблицу с учётом фильтра по последней замеренной температуре и добавим дополнительных данных о лигирующих присадках"
      ]
    },
    {
      "cell_type": "code",
      "metadata": {
        "colab": {
          "base_uri": "https://localhost:8080/",
          "height": 407
        },
        "id": "-UcT26y-zORg",
        "outputId": "90355fc3-a0bd-4f1d-ad9b-e5e701b015ff"
      },
      "source": [
        "final_table=data_temp_pivot.merge(table, how='left', on=['key','Время последнего замера температуры','Время первого замера температуры'])\n",
        "final_table"
      ],
      "execution_count": null,
      "outputs": [
        {
          "output_type": "execute_result",
          "data": {
            "text/html": [
              "<div>\n",
              "<style scoped>\n",
              "    .dataframe tbody tr th:only-of-type {\n",
              "        vertical-align: middle;\n",
              "    }\n",
              "\n",
              "    .dataframe tbody tr th {\n",
              "        vertical-align: top;\n",
              "    }\n",
              "\n",
              "    .dataframe thead th {\n",
              "        text-align: right;\n",
              "    }\n",
              "</style>\n",
              "<table border=\"1\" class=\"dataframe\">\n",
              "  <thead>\n",
              "    <tr style=\"text-align: right;\">\n",
              "      <th></th>\n",
              "      <th>key</th>\n",
              "      <th>Время последнего замера температуры</th>\n",
              "      <th>Время первого замера температуры</th>\n",
              "      <th>Температура в начале замера</th>\n",
              "      <th>Температура в конце замера</th>\n",
              "      <th>Суммарное время нагрева электродами</th>\n",
              "      <th>Количество запусков нагрева электродами</th>\n",
              "      <th>Средняя активная мощность</th>\n",
              "      <th>Сердняя реактивная мощность</th>\n",
              "      <th>Среднее отношение активной к реактивной мощности</th>\n",
              "      <th>Длительность между замерами температур</th>\n",
              "    </tr>\n",
              "  </thead>\n",
              "  <tbody>\n",
              "    <tr>\n",
              "      <td>0</td>\n",
              "      <td>1</td>\n",
              "      <td>2019-05-03 11:30:39</td>\n",
              "      <td>2019-05-03 11:16:18</td>\n",
              "      <td>1571.0</td>\n",
              "      <td>1613.0</td>\n",
              "      <td>00:18:18</td>\n",
              "      <td>5.0</td>\n",
              "      <td>0.975629</td>\n",
              "      <td>0.636648</td>\n",
              "      <td>1.532447</td>\n",
              "      <td>00:14:21</td>\n",
              "    </tr>\n",
              "    <tr>\n",
              "      <td>1</td>\n",
              "      <td>2</td>\n",
              "      <td>2019-05-03 11:59:12</td>\n",
              "      <td>2019-05-03 11:37:27</td>\n",
              "      <td>1577.0</td>\n",
              "      <td>1602.0</td>\n",
              "      <td>00:13:31</td>\n",
              "      <td>4.0</td>\n",
              "      <td>0.763150</td>\n",
              "      <td>0.499528</td>\n",
              "      <td>1.527741</td>\n",
              "      <td>00:21:45</td>\n",
              "    </tr>\n",
              "    <tr>\n",
              "      <td>2</td>\n",
              "      <td>3</td>\n",
              "      <td>2019-05-03 12:34:57</td>\n",
              "      <td>2019-05-03 12:13:17</td>\n",
              "      <td>1596.0</td>\n",
              "      <td>1599.0</td>\n",
              "      <td>00:10:55</td>\n",
              "      <td>5.0</td>\n",
              "      <td>0.505176</td>\n",
              "      <td>0.319815</td>\n",
              "      <td>1.579589</td>\n",
              "      <td>00:21:40</td>\n",
              "    </tr>\n",
              "    <tr>\n",
              "      <td>3</td>\n",
              "      <td>4</td>\n",
              "      <td>2019-05-03 12:59:25</td>\n",
              "      <td>2019-05-03 12:52:57</td>\n",
              "      <td>1601.0</td>\n",
              "      <td>1625.0</td>\n",
              "      <td>00:12:21</td>\n",
              "      <td>4.0</td>\n",
              "      <td>0.802313</td>\n",
              "      <td>0.515074</td>\n",
              "      <td>1.557663</td>\n",
              "      <td>00:06:28</td>\n",
              "    </tr>\n",
              "    <tr>\n",
              "      <td>4</td>\n",
              "      <td>5</td>\n",
              "      <td>2019-05-03 13:36:01</td>\n",
              "      <td>2019-05-03 13:23:19</td>\n",
              "      <td>1576.0</td>\n",
              "      <td>1602.0</td>\n",
              "      <td>00:14:29</td>\n",
              "      <td>4.0</td>\n",
              "      <td>0.836793</td>\n",
              "      <td>0.563161</td>\n",
              "      <td>1.485887</td>\n",
              "      <td>00:12:42</td>\n",
              "    </tr>\n",
              "    <tr>\n",
              "      <td>...</td>\n",
              "      <td>...</td>\n",
              "      <td>...</td>\n",
              "      <td>...</td>\n",
              "      <td>...</td>\n",
              "      <td>...</td>\n",
              "      <td>...</td>\n",
              "      <td>...</td>\n",
              "      <td>...</td>\n",
              "      <td>...</td>\n",
              "      <td>...</td>\n",
              "      <td>...</td>\n",
              "    </tr>\n",
              "    <tr>\n",
              "      <td>2472</td>\n",
              "      <td>2495</td>\n",
              "      <td>2019-08-06 00:54:42</td>\n",
              "      <td>2019-08-06 00:35:45</td>\n",
              "      <td>1570.0</td>\n",
              "      <td>1591.0</td>\n",
              "      <td>00:12:03</td>\n",
              "      <td>4.0</td>\n",
              "      <td>0.802673</td>\n",
              "      <td>0.590194</td>\n",
              "      <td>1.360014</td>\n",
              "      <td>00:18:57</td>\n",
              "    </tr>\n",
              "    <tr>\n",
              "      <td>2473</td>\n",
              "      <td>2496</td>\n",
              "      <td>2019-08-06 01:29:52</td>\n",
              "      <td>2019-08-06 01:02:54</td>\n",
              "      <td>1554.0</td>\n",
              "      <td>1591.0</td>\n",
              "      <td>00:15:40</td>\n",
              "      <td>6.0</td>\n",
              "      <td>0.700511</td>\n",
              "      <td>0.468364</td>\n",
              "      <td>1.495654</td>\n",
              "      <td>00:26:58</td>\n",
              "    </tr>\n",
              "    <tr>\n",
              "      <td>2474</td>\n",
              "      <td>2497</td>\n",
              "      <td>2019-08-06 01:53:50</td>\n",
              "      <td>2019-08-06 01:41:53</td>\n",
              "      <td>1571.0</td>\n",
              "      <td>1589.0</td>\n",
              "      <td>00:09:29</td>\n",
              "      <td>3.0</td>\n",
              "      <td>0.737460</td>\n",
              "      <td>0.617090</td>\n",
              "      <td>1.195061</td>\n",
              "      <td>00:11:57</td>\n",
              "    </tr>\n",
              "    <tr>\n",
              "      <td>2475</td>\n",
              "      <td>2498</td>\n",
              "      <td>2019-08-06 02:25:31</td>\n",
              "      <td>2019-08-06 02:03:49</td>\n",
              "      <td>1570.0</td>\n",
              "      <td>1594.0</td>\n",
              "      <td>00:12:30</td>\n",
              "      <td>5.0</td>\n",
              "      <td>0.681745</td>\n",
              "      <td>0.471086</td>\n",
              "      <td>1.447179</td>\n",
              "      <td>00:21:42</td>\n",
              "    </tr>\n",
              "    <tr>\n",
              "      <td>2476</td>\n",
              "      <td>2499</td>\n",
              "      <td>2019-08-06 03:00:28</td>\n",
              "      <td>2019-08-06 02:40:25</td>\n",
              "      <td>1569.0</td>\n",
              "      <td>1603.0</td>\n",
              "      <td>00:14:43</td>\n",
              "      <td>4.0</td>\n",
              "      <td>1.024608</td>\n",
              "      <td>0.694466</td>\n",
              "      <td>1.475389</td>\n",
              "      <td>00:20:03</td>\n",
              "    </tr>\n",
              "  </tbody>\n",
              "</table>\n",
              "<p>2477 rows × 11 columns</p>\n",
              "</div>"
            ],
            "text/plain": [
              "       key Время последнего замера температуры  \\\n",
              "0        1                 2019-05-03 11:30:39   \n",
              "1        2                 2019-05-03 11:59:12   \n",
              "2        3                 2019-05-03 12:34:57   \n",
              "3        4                 2019-05-03 12:59:25   \n",
              "4        5                 2019-05-03 13:36:01   \n",
              "...    ...                                 ...   \n",
              "2472  2495                 2019-08-06 00:54:42   \n",
              "2473  2496                 2019-08-06 01:29:52   \n",
              "2474  2497                 2019-08-06 01:53:50   \n",
              "2475  2498                 2019-08-06 02:25:31   \n",
              "2476  2499                 2019-08-06 03:00:28   \n",
              "\n",
              "     Время первого замера температуры  Температура в начале замера  \\\n",
              "0                 2019-05-03 11:16:18                       1571.0   \n",
              "1                 2019-05-03 11:37:27                       1577.0   \n",
              "2                 2019-05-03 12:13:17                       1596.0   \n",
              "3                 2019-05-03 12:52:57                       1601.0   \n",
              "4                 2019-05-03 13:23:19                       1576.0   \n",
              "...                               ...                          ...   \n",
              "2472              2019-08-06 00:35:45                       1570.0   \n",
              "2473              2019-08-06 01:02:54                       1554.0   \n",
              "2474              2019-08-06 01:41:53                       1571.0   \n",
              "2475              2019-08-06 02:03:49                       1570.0   \n",
              "2476              2019-08-06 02:40:25                       1569.0   \n",
              "\n",
              "      Температура в конце замера Суммарное время нагрева электродами  \\\n",
              "0                         1613.0                            00:18:18   \n",
              "1                         1602.0                            00:13:31   \n",
              "2                         1599.0                            00:10:55   \n",
              "3                         1625.0                            00:12:21   \n",
              "4                         1602.0                            00:14:29   \n",
              "...                          ...                                 ...   \n",
              "2472                      1591.0                            00:12:03   \n",
              "2473                      1591.0                            00:15:40   \n",
              "2474                      1589.0                            00:09:29   \n",
              "2475                      1594.0                            00:12:30   \n",
              "2476                      1603.0                            00:14:43   \n",
              "\n",
              "      Количество запусков нагрева электродами  Средняя активная мощность  \\\n",
              "0                                         5.0                   0.975629   \n",
              "1                                         4.0                   0.763150   \n",
              "2                                         5.0                   0.505176   \n",
              "3                                         4.0                   0.802313   \n",
              "4                                         4.0                   0.836793   \n",
              "...                                       ...                        ...   \n",
              "2472                                      4.0                   0.802673   \n",
              "2473                                      6.0                   0.700511   \n",
              "2474                                      3.0                   0.737460   \n",
              "2475                                      5.0                   0.681745   \n",
              "2476                                      4.0                   1.024608   \n",
              "\n",
              "      Сердняя реактивная мощность  \\\n",
              "0                        0.636648   \n",
              "1                        0.499528   \n",
              "2                        0.319815   \n",
              "3                        0.515074   \n",
              "4                        0.563161   \n",
              "...                           ...   \n",
              "2472                     0.590194   \n",
              "2473                     0.468364   \n",
              "2474                     0.617090   \n",
              "2475                     0.471086   \n",
              "2476                     0.694466   \n",
              "\n",
              "      Среднее отношение активной к реактивной мощности  \\\n",
              "0                                             1.532447   \n",
              "1                                             1.527741   \n",
              "2                                             1.579589   \n",
              "3                                             1.557663   \n",
              "4                                             1.485887   \n",
              "...                                                ...   \n",
              "2472                                          1.360014   \n",
              "2473                                          1.495654   \n",
              "2474                                          1.195061   \n",
              "2475                                          1.447179   \n",
              "2476                                          1.475389   \n",
              "\n",
              "     Длительность между замерами температур  \n",
              "0                                  00:14:21  \n",
              "1                                  00:21:45  \n",
              "2                                  00:21:40  \n",
              "3                                  00:06:28  \n",
              "4                                  00:12:42  \n",
              "...                                     ...  \n",
              "2472                               00:18:57  \n",
              "2473                               00:26:58  \n",
              "2474                               00:11:57  \n",
              "2475                               00:21:42  \n",
              "2476                               00:20:03  \n",
              "\n",
              "[2477 rows x 11 columns]"
            ]
          },
          "metadata": {
            "tags": []
          },
          "execution_count": 67
        }
      ]
    },
    {
      "cell_type": "markdown",
      "metadata": {
        "id": "kdhEYZ0i3p9A"
      },
      "source": [
        "### Добавим дополнительных данных о лигирующих присадках в общую таблицу"
      ]
    },
    {
      "cell_type": "code",
      "metadata": {
        "colab": {
          "base_uri": "https://localhost:8080/",
          "height": 391
        },
        "id": "5WGAasd64NWn",
        "outputId": "7246c07f-e776-49a8-aede-78d8fe08a4b6"
      },
      "source": [
        "data_bulk"
      ],
      "execution_count": null,
      "outputs": [
        {
          "output_type": "execute_result",
          "data": {
            "text/html": [
              "<div>\n",
              "<style scoped>\n",
              "    .dataframe tbody tr th:only-of-type {\n",
              "        vertical-align: middle;\n",
              "    }\n",
              "\n",
              "    .dataframe tbody tr th {\n",
              "        vertical-align: top;\n",
              "    }\n",
              "\n",
              "    .dataframe thead th {\n",
              "        text-align: right;\n",
              "    }\n",
              "</style>\n",
              "<table border=\"1\" class=\"dataframe\">\n",
              "  <thead>\n",
              "    <tr style=\"text-align: right;\">\n",
              "      <th></th>\n",
              "      <th>key</th>\n",
              "      <th>Bulk 1</th>\n",
              "      <th>Bulk 2</th>\n",
              "      <th>Bulk 3</th>\n",
              "      <th>Bulk 4</th>\n",
              "      <th>Bulk 5</th>\n",
              "      <th>Bulk 6</th>\n",
              "      <th>Bulk 7</th>\n",
              "      <th>Bulk 8</th>\n",
              "      <th>Bulk 9</th>\n",
              "      <th>Bulk 10</th>\n",
              "      <th>Bulk 11</th>\n",
              "      <th>Bulk 12</th>\n",
              "      <th>Bulk 13</th>\n",
              "      <th>Bulk 14</th>\n",
              "      <th>Bulk 15</th>\n",
              "    </tr>\n",
              "  </thead>\n",
              "  <tbody>\n",
              "    <tr>\n",
              "      <td>0</td>\n",
              "      <td>1</td>\n",
              "      <td>NaN</td>\n",
              "      <td>NaN</td>\n",
              "      <td>NaN</td>\n",
              "      <td>43.0</td>\n",
              "      <td>NaN</td>\n",
              "      <td>NaN</td>\n",
              "      <td>NaN</td>\n",
              "      <td>NaN</td>\n",
              "      <td>NaN</td>\n",
              "      <td>NaN</td>\n",
              "      <td>NaN</td>\n",
              "      <td>206.0</td>\n",
              "      <td>NaN</td>\n",
              "      <td>150.0</td>\n",
              "      <td>154.0</td>\n",
              "    </tr>\n",
              "    <tr>\n",
              "      <td>1</td>\n",
              "      <td>2</td>\n",
              "      <td>NaN</td>\n",
              "      <td>NaN</td>\n",
              "      <td>NaN</td>\n",
              "      <td>73.0</td>\n",
              "      <td>NaN</td>\n",
              "      <td>NaN</td>\n",
              "      <td>NaN</td>\n",
              "      <td>NaN</td>\n",
              "      <td>NaN</td>\n",
              "      <td>NaN</td>\n",
              "      <td>NaN</td>\n",
              "      <td>206.0</td>\n",
              "      <td>NaN</td>\n",
              "      <td>149.0</td>\n",
              "      <td>154.0</td>\n",
              "    </tr>\n",
              "    <tr>\n",
              "      <td>2</td>\n",
              "      <td>3</td>\n",
              "      <td>NaN</td>\n",
              "      <td>NaN</td>\n",
              "      <td>NaN</td>\n",
              "      <td>34.0</td>\n",
              "      <td>NaN</td>\n",
              "      <td>NaN</td>\n",
              "      <td>NaN</td>\n",
              "      <td>NaN</td>\n",
              "      <td>NaN</td>\n",
              "      <td>NaN</td>\n",
              "      <td>NaN</td>\n",
              "      <td>205.0</td>\n",
              "      <td>NaN</td>\n",
              "      <td>152.0</td>\n",
              "      <td>153.0</td>\n",
              "    </tr>\n",
              "    <tr>\n",
              "      <td>3</td>\n",
              "      <td>4</td>\n",
              "      <td>NaN</td>\n",
              "      <td>NaN</td>\n",
              "      <td>NaN</td>\n",
              "      <td>81.0</td>\n",
              "      <td>NaN</td>\n",
              "      <td>NaN</td>\n",
              "      <td>NaN</td>\n",
              "      <td>NaN</td>\n",
              "      <td>NaN</td>\n",
              "      <td>NaN</td>\n",
              "      <td>NaN</td>\n",
              "      <td>207.0</td>\n",
              "      <td>NaN</td>\n",
              "      <td>153.0</td>\n",
              "      <td>154.0</td>\n",
              "    </tr>\n",
              "    <tr>\n",
              "      <td>4</td>\n",
              "      <td>5</td>\n",
              "      <td>NaN</td>\n",
              "      <td>NaN</td>\n",
              "      <td>NaN</td>\n",
              "      <td>78.0</td>\n",
              "      <td>NaN</td>\n",
              "      <td>NaN</td>\n",
              "      <td>NaN</td>\n",
              "      <td>NaN</td>\n",
              "      <td>NaN</td>\n",
              "      <td>NaN</td>\n",
              "      <td>NaN</td>\n",
              "      <td>203.0</td>\n",
              "      <td>NaN</td>\n",
              "      <td>151.0</td>\n",
              "      <td>152.0</td>\n",
              "    </tr>\n",
              "    <tr>\n",
              "      <td>...</td>\n",
              "      <td>...</td>\n",
              "      <td>...</td>\n",
              "      <td>...</td>\n",
              "      <td>...</td>\n",
              "      <td>...</td>\n",
              "      <td>...</td>\n",
              "      <td>...</td>\n",
              "      <td>...</td>\n",
              "      <td>...</td>\n",
              "      <td>...</td>\n",
              "      <td>...</td>\n",
              "      <td>...</td>\n",
              "      <td>...</td>\n",
              "      <td>...</td>\n",
              "      <td>...</td>\n",
              "      <td>...</td>\n",
              "    </tr>\n",
              "    <tr>\n",
              "      <td>3124</td>\n",
              "      <td>3237</td>\n",
              "      <td>NaN</td>\n",
              "      <td>NaN</td>\n",
              "      <td>170.0</td>\n",
              "      <td>NaN</td>\n",
              "      <td>NaN</td>\n",
              "      <td>NaN</td>\n",
              "      <td>NaN</td>\n",
              "      <td>NaN</td>\n",
              "      <td>NaN</td>\n",
              "      <td>NaN</td>\n",
              "      <td>NaN</td>\n",
              "      <td>252.0</td>\n",
              "      <td>NaN</td>\n",
              "      <td>130.0</td>\n",
              "      <td>206.0</td>\n",
              "    </tr>\n",
              "    <tr>\n",
              "      <td>3125</td>\n",
              "      <td>3238</td>\n",
              "      <td>NaN</td>\n",
              "      <td>NaN</td>\n",
              "      <td>126.0</td>\n",
              "      <td>NaN</td>\n",
              "      <td>NaN</td>\n",
              "      <td>NaN</td>\n",
              "      <td>NaN</td>\n",
              "      <td>NaN</td>\n",
              "      <td>NaN</td>\n",
              "      <td>NaN</td>\n",
              "      <td>NaN</td>\n",
              "      <td>254.0</td>\n",
              "      <td>NaN</td>\n",
              "      <td>108.0</td>\n",
              "      <td>106.0</td>\n",
              "    </tr>\n",
              "    <tr>\n",
              "      <td>3126</td>\n",
              "      <td>3239</td>\n",
              "      <td>NaN</td>\n",
              "      <td>NaN</td>\n",
              "      <td>NaN</td>\n",
              "      <td>NaN</td>\n",
              "      <td>NaN</td>\n",
              "      <td>114.0</td>\n",
              "      <td>NaN</td>\n",
              "      <td>NaN</td>\n",
              "      <td>NaN</td>\n",
              "      <td>NaN</td>\n",
              "      <td>NaN</td>\n",
              "      <td>158.0</td>\n",
              "      <td>NaN</td>\n",
              "      <td>270.0</td>\n",
              "      <td>88.0</td>\n",
              "    </tr>\n",
              "    <tr>\n",
              "      <td>3127</td>\n",
              "      <td>3240</td>\n",
              "      <td>NaN</td>\n",
              "      <td>NaN</td>\n",
              "      <td>NaN</td>\n",
              "      <td>NaN</td>\n",
              "      <td>NaN</td>\n",
              "      <td>26.0</td>\n",
              "      <td>NaN</td>\n",
              "      <td>NaN</td>\n",
              "      <td>NaN</td>\n",
              "      <td>NaN</td>\n",
              "      <td>NaN</td>\n",
              "      <td>NaN</td>\n",
              "      <td>NaN</td>\n",
              "      <td>192.0</td>\n",
              "      <td>54.0</td>\n",
              "    </tr>\n",
              "    <tr>\n",
              "      <td>3128</td>\n",
              "      <td>3241</td>\n",
              "      <td>NaN</td>\n",
              "      <td>NaN</td>\n",
              "      <td>NaN</td>\n",
              "      <td>NaN</td>\n",
              "      <td>NaN</td>\n",
              "      <td>NaN</td>\n",
              "      <td>NaN</td>\n",
              "      <td>NaN</td>\n",
              "      <td>NaN</td>\n",
              "      <td>NaN</td>\n",
              "      <td>NaN</td>\n",
              "      <td>NaN</td>\n",
              "      <td>NaN</td>\n",
              "      <td>180.0</td>\n",
              "      <td>52.0</td>\n",
              "    </tr>\n",
              "  </tbody>\n",
              "</table>\n",
              "<p>3129 rows × 16 columns</p>\n",
              "</div>"
            ],
            "text/plain": [
              "       key  Bulk 1  Bulk 2  Bulk 3  Bulk 4  Bulk 5  Bulk 6  Bulk 7  Bulk 8  \\\n",
              "0        1     NaN     NaN     NaN    43.0     NaN     NaN     NaN     NaN   \n",
              "1        2     NaN     NaN     NaN    73.0     NaN     NaN     NaN     NaN   \n",
              "2        3     NaN     NaN     NaN    34.0     NaN     NaN     NaN     NaN   \n",
              "3        4     NaN     NaN     NaN    81.0     NaN     NaN     NaN     NaN   \n",
              "4        5     NaN     NaN     NaN    78.0     NaN     NaN     NaN     NaN   \n",
              "...    ...     ...     ...     ...     ...     ...     ...     ...     ...   \n",
              "3124  3237     NaN     NaN   170.0     NaN     NaN     NaN     NaN     NaN   \n",
              "3125  3238     NaN     NaN   126.0     NaN     NaN     NaN     NaN     NaN   \n",
              "3126  3239     NaN     NaN     NaN     NaN     NaN   114.0     NaN     NaN   \n",
              "3127  3240     NaN     NaN     NaN     NaN     NaN    26.0     NaN     NaN   \n",
              "3128  3241     NaN     NaN     NaN     NaN     NaN     NaN     NaN     NaN   \n",
              "\n",
              "      Bulk 9  Bulk 10  Bulk 11  Bulk 12  Bulk 13  Bulk 14  Bulk 15  \n",
              "0        NaN      NaN      NaN    206.0      NaN    150.0    154.0  \n",
              "1        NaN      NaN      NaN    206.0      NaN    149.0    154.0  \n",
              "2        NaN      NaN      NaN    205.0      NaN    152.0    153.0  \n",
              "3        NaN      NaN      NaN    207.0      NaN    153.0    154.0  \n",
              "4        NaN      NaN      NaN    203.0      NaN    151.0    152.0  \n",
              "...      ...      ...      ...      ...      ...      ...      ...  \n",
              "3124     NaN      NaN      NaN    252.0      NaN    130.0    206.0  \n",
              "3125     NaN      NaN      NaN    254.0      NaN    108.0    106.0  \n",
              "3126     NaN      NaN      NaN    158.0      NaN    270.0     88.0  \n",
              "3127     NaN      NaN      NaN      NaN      NaN    192.0     54.0  \n",
              "3128     NaN      NaN      NaN      NaN      NaN    180.0     52.0  \n",
              "\n",
              "[3129 rows x 16 columns]"
            ]
          },
          "metadata": {
            "tags": []
          },
          "execution_count": 68
        }
      ]
    },
    {
      "cell_type": "code",
      "metadata": {
        "colab": {
          "base_uri": "https://localhost:8080/"
        },
        "id": "qdP1dhgm38B5",
        "outputId": "637437e4-6cde-46f7-9dd2-7b3218f8e4aa"
      },
      "source": [
        "data_bulk.info()"
      ],
      "execution_count": null,
      "outputs": [
        {
          "output_type": "stream",
          "text": [
            "<class 'pandas.core.frame.DataFrame'>\n",
            "RangeIndex: 3129 entries, 0 to 3128\n",
            "Data columns (total 16 columns):\n",
            "key        3129 non-null int64\n",
            "Bulk 1     252 non-null float64\n",
            "Bulk 2     22 non-null float64\n",
            "Bulk 3     1298 non-null float64\n",
            "Bulk 4     1014 non-null float64\n",
            "Bulk 5     77 non-null float64\n",
            "Bulk 6     576 non-null float64\n",
            "Bulk 7     25 non-null float64\n",
            "Bulk 8     1 non-null float64\n",
            "Bulk 9     19 non-null float64\n",
            "Bulk 10    176 non-null float64\n",
            "Bulk 11    177 non-null float64\n",
            "Bulk 12    2450 non-null float64\n",
            "Bulk 13    18 non-null float64\n",
            "Bulk 14    2806 non-null float64\n",
            "Bulk 15    2248 non-null float64\n",
            "dtypes: float64(15), int64(1)\n",
            "memory usage: 391.2 KB\n"
          ],
          "name": "stdout"
        }
      ]
    },
    {
      "cell_type": "markdown",
      "metadata": {
        "id": "_sjElBLj5c9H"
      },
      "source": [
        "### Заполним пропущенные значения по каждому столбцу 'Bulk'"
      ]
    },
    {
      "cell_type": "code",
      "metadata": {
        "colab": {
          "base_uri": "https://localhost:8080/",
          "height": 391
        },
        "id": "T6CIOsh7EZX6",
        "outputId": "a8280657-e1e1-4b91-9bec-f91772ac45a1"
      },
      "source": [
        "bulk=data_bulk[['key','Bulk 12','Bulk 14','Bulk 15']]\n",
        "#values={'Bulk 12': bulk['Bulk 12'].mean(), 'Bulk 14': bulk['Bulk 14'].mean(), 'Bulk 15': bulk['Bulk 15'].mean()}\n",
        "bulk=bulk.fillna(value=0)\n",
        "bulk"
      ],
      "execution_count": null,
      "outputs": [
        {
          "output_type": "execute_result",
          "data": {
            "text/html": [
              "<div>\n",
              "<style scoped>\n",
              "    .dataframe tbody tr th:only-of-type {\n",
              "        vertical-align: middle;\n",
              "    }\n",
              "\n",
              "    .dataframe tbody tr th {\n",
              "        vertical-align: top;\n",
              "    }\n",
              "\n",
              "    .dataframe thead th {\n",
              "        text-align: right;\n",
              "    }\n",
              "</style>\n",
              "<table border=\"1\" class=\"dataframe\">\n",
              "  <thead>\n",
              "    <tr style=\"text-align: right;\">\n",
              "      <th></th>\n",
              "      <th>key</th>\n",
              "      <th>Bulk 12</th>\n",
              "      <th>Bulk 14</th>\n",
              "      <th>Bulk 15</th>\n",
              "    </tr>\n",
              "  </thead>\n",
              "  <tbody>\n",
              "    <tr>\n",
              "      <td>0</td>\n",
              "      <td>1</td>\n",
              "      <td>206.0</td>\n",
              "      <td>150.0</td>\n",
              "      <td>154.0</td>\n",
              "    </tr>\n",
              "    <tr>\n",
              "      <td>1</td>\n",
              "      <td>2</td>\n",
              "      <td>206.0</td>\n",
              "      <td>149.0</td>\n",
              "      <td>154.0</td>\n",
              "    </tr>\n",
              "    <tr>\n",
              "      <td>2</td>\n",
              "      <td>3</td>\n",
              "      <td>205.0</td>\n",
              "      <td>152.0</td>\n",
              "      <td>153.0</td>\n",
              "    </tr>\n",
              "    <tr>\n",
              "      <td>3</td>\n",
              "      <td>4</td>\n",
              "      <td>207.0</td>\n",
              "      <td>153.0</td>\n",
              "      <td>154.0</td>\n",
              "    </tr>\n",
              "    <tr>\n",
              "      <td>4</td>\n",
              "      <td>5</td>\n",
              "      <td>203.0</td>\n",
              "      <td>151.0</td>\n",
              "      <td>152.0</td>\n",
              "    </tr>\n",
              "    <tr>\n",
              "      <td>...</td>\n",
              "      <td>...</td>\n",
              "      <td>...</td>\n",
              "      <td>...</td>\n",
              "      <td>...</td>\n",
              "    </tr>\n",
              "    <tr>\n",
              "      <td>3124</td>\n",
              "      <td>3237</td>\n",
              "      <td>252.0</td>\n",
              "      <td>130.0</td>\n",
              "      <td>206.0</td>\n",
              "    </tr>\n",
              "    <tr>\n",
              "      <td>3125</td>\n",
              "      <td>3238</td>\n",
              "      <td>254.0</td>\n",
              "      <td>108.0</td>\n",
              "      <td>106.0</td>\n",
              "    </tr>\n",
              "    <tr>\n",
              "      <td>3126</td>\n",
              "      <td>3239</td>\n",
              "      <td>158.0</td>\n",
              "      <td>270.0</td>\n",
              "      <td>88.0</td>\n",
              "    </tr>\n",
              "    <tr>\n",
              "      <td>3127</td>\n",
              "      <td>3240</td>\n",
              "      <td>0.0</td>\n",
              "      <td>192.0</td>\n",
              "      <td>54.0</td>\n",
              "    </tr>\n",
              "    <tr>\n",
              "      <td>3128</td>\n",
              "      <td>3241</td>\n",
              "      <td>0.0</td>\n",
              "      <td>180.0</td>\n",
              "      <td>52.0</td>\n",
              "    </tr>\n",
              "  </tbody>\n",
              "</table>\n",
              "<p>3129 rows × 4 columns</p>\n",
              "</div>"
            ],
            "text/plain": [
              "       key  Bulk 12  Bulk 14  Bulk 15\n",
              "0        1    206.0    150.0    154.0\n",
              "1        2    206.0    149.0    154.0\n",
              "2        3    205.0    152.0    153.0\n",
              "3        4    207.0    153.0    154.0\n",
              "4        5    203.0    151.0    152.0\n",
              "...    ...      ...      ...      ...\n",
              "3124  3237    252.0    130.0    206.0\n",
              "3125  3238    254.0    108.0    106.0\n",
              "3126  3239    158.0    270.0     88.0\n",
              "3127  3240      0.0    192.0     54.0\n",
              "3128  3241      0.0    180.0     52.0\n",
              "\n",
              "[3129 rows x 4 columns]"
            ]
          },
          "metadata": {
            "tags": []
          },
          "execution_count": 70
        }
      ]
    },
    {
      "cell_type": "code",
      "metadata": {
        "colab": {
          "base_uri": "https://localhost:8080/"
        },
        "id": "4byg372RIT6j",
        "outputId": "8f134990-51ee-499d-9d14-26e417dc7e0f"
      },
      "source": [
        "bulk.info()"
      ],
      "execution_count": null,
      "outputs": [
        {
          "output_type": "stream",
          "text": [
            "<class 'pandas.core.frame.DataFrame'>\n",
            "RangeIndex: 3129 entries, 0 to 3128\n",
            "Data columns (total 4 columns):\n",
            "key        3129 non-null int64\n",
            "Bulk 12    3129 non-null float64\n",
            "Bulk 14    3129 non-null float64\n",
            "Bulk 15    3129 non-null float64\n",
            "dtypes: float64(3), int64(1)\n",
            "memory usage: 97.9 KB\n"
          ],
          "name": "stdout"
        }
      ]
    },
    {
      "cell_type": "markdown",
      "metadata": {
        "id": "1SYzKc7X52DX"
      },
      "source": [
        "### Выберем из таблицы `data_wire` единственный заполненный столбец 'Wire 1' и заполним пропуски средним значением по столбцу"
      ]
    },
    {
      "cell_type": "code",
      "metadata": {
        "colab": {
          "base_uri": "https://localhost:8080/"
        },
        "id": "SkcBc6sA6Rdu",
        "outputId": "0d2a6e27-b192-4c9b-ea67-397832ffb321"
      },
      "source": [
        "data_wire.info()"
      ],
      "execution_count": null,
      "outputs": [
        {
          "output_type": "stream",
          "text": [
            "<class 'pandas.core.frame.DataFrame'>\n",
            "RangeIndex: 3081 entries, 0 to 3080\n",
            "Data columns (total 10 columns):\n",
            "key       3081 non-null int64\n",
            "Wire 1    3055 non-null float64\n",
            "Wire 2    1079 non-null float64\n",
            "Wire 3    63 non-null float64\n",
            "Wire 4    14 non-null float64\n",
            "Wire 5    1 non-null float64\n",
            "Wire 6    73 non-null float64\n",
            "Wire 7    11 non-null float64\n",
            "Wire 8    19 non-null float64\n",
            "Wire 9    29 non-null float64\n",
            "dtypes: float64(9), int64(1)\n",
            "memory usage: 240.8 KB\n"
          ],
          "name": "stdout"
        }
      ]
    },
    {
      "cell_type": "markdown",
      "metadata": {
        "id": "ApRdkSZqVF58"
      },
      "source": [
        "#### Заполним данные по \"wire\""
      ]
    },
    {
      "cell_type": "code",
      "metadata": {
        "colab": {
          "base_uri": "https://localhost:8080/",
          "height": 391
        },
        "id": "FS_YwrMZ4VaP",
        "outputId": "953f5512-671f-487c-c8e3-c176530858a0"
      },
      "source": [
        "wire=data_wire[['key','Wire 1']]\n",
        "wire=wire.fillna(0)\n",
        "wire"
      ],
      "execution_count": null,
      "outputs": [
        {
          "output_type": "execute_result",
          "data": {
            "text/html": [
              "<div>\n",
              "<style scoped>\n",
              "    .dataframe tbody tr th:only-of-type {\n",
              "        vertical-align: middle;\n",
              "    }\n",
              "\n",
              "    .dataframe tbody tr th {\n",
              "        vertical-align: top;\n",
              "    }\n",
              "\n",
              "    .dataframe thead th {\n",
              "        text-align: right;\n",
              "    }\n",
              "</style>\n",
              "<table border=\"1\" class=\"dataframe\">\n",
              "  <thead>\n",
              "    <tr style=\"text-align: right;\">\n",
              "      <th></th>\n",
              "      <th>key</th>\n",
              "      <th>Wire 1</th>\n",
              "    </tr>\n",
              "  </thead>\n",
              "  <tbody>\n",
              "    <tr>\n",
              "      <td>0</td>\n",
              "      <td>1</td>\n",
              "      <td>60.059998</td>\n",
              "    </tr>\n",
              "    <tr>\n",
              "      <td>1</td>\n",
              "      <td>2</td>\n",
              "      <td>96.052315</td>\n",
              "    </tr>\n",
              "    <tr>\n",
              "      <td>2</td>\n",
              "      <td>3</td>\n",
              "      <td>91.160157</td>\n",
              "    </tr>\n",
              "    <tr>\n",
              "      <td>3</td>\n",
              "      <td>4</td>\n",
              "      <td>89.063515</td>\n",
              "    </tr>\n",
              "    <tr>\n",
              "      <td>4</td>\n",
              "      <td>5</td>\n",
              "      <td>89.238236</td>\n",
              "    </tr>\n",
              "    <tr>\n",
              "      <td>...</td>\n",
              "      <td>...</td>\n",
              "      <td>...</td>\n",
              "    </tr>\n",
              "    <tr>\n",
              "      <td>3076</td>\n",
              "      <td>3237</td>\n",
              "      <td>38.088959</td>\n",
              "    </tr>\n",
              "    <tr>\n",
              "      <td>3077</td>\n",
              "      <td>3238</td>\n",
              "      <td>56.128799</td>\n",
              "    </tr>\n",
              "    <tr>\n",
              "      <td>3078</td>\n",
              "      <td>3239</td>\n",
              "      <td>143.357761</td>\n",
              "    </tr>\n",
              "    <tr>\n",
              "      <td>3079</td>\n",
              "      <td>3240</td>\n",
              "      <td>34.070400</td>\n",
              "    </tr>\n",
              "    <tr>\n",
              "      <td>3080</td>\n",
              "      <td>3241</td>\n",
              "      <td>63.117595</td>\n",
              "    </tr>\n",
              "  </tbody>\n",
              "</table>\n",
              "<p>3081 rows × 2 columns</p>\n",
              "</div>"
            ],
            "text/plain": [
              "       key      Wire 1\n",
              "0        1   60.059998\n",
              "1        2   96.052315\n",
              "2        3   91.160157\n",
              "3        4   89.063515\n",
              "4        5   89.238236\n",
              "...    ...         ...\n",
              "3076  3237   38.088959\n",
              "3077  3238   56.128799\n",
              "3078  3239  143.357761\n",
              "3079  3240   34.070400\n",
              "3080  3241   63.117595\n",
              "\n",
              "[3081 rows x 2 columns]"
            ]
          },
          "metadata": {
            "tags": []
          },
          "execution_count": 73
        }
      ]
    },
    {
      "cell_type": "markdown",
      "metadata": {
        "id": "-wuxkeoB6czS"
      },
      "source": [
        "### Добавим данные по проволоке из таблицы `wire` в финальную таблицу по ключу `key`"
      ]
    },
    {
      "cell_type": "code",
      "metadata": {
        "colab": {
          "base_uri": "https://localhost:8080/"
        },
        "id": "ItMlNWMo3vvV",
        "outputId": "d0801743-048a-426e-851a-b74bf16f5fbf"
      },
      "source": [
        "final_table=final_table.merge(wire,on='key', how='left')\n",
        "final_table.info()"
      ],
      "execution_count": null,
      "outputs": [
        {
          "output_type": "stream",
          "text": [
            "<class 'pandas.core.frame.DataFrame'>\n",
            "Int64Index: 2477 entries, 0 to 2476\n",
            "Data columns (total 12 columns):\n",
            "key                                                 2477 non-null int64\n",
            "Время последнего замера температуры                 2477 non-null datetime64[ns]\n",
            "Время первого замера температуры                    2477 non-null datetime64[ns]\n",
            "Температура в начале замера                         2477 non-null float64\n",
            "Температура в конце замера                          2477 non-null float64\n",
            "Суммарное время нагрева электродами                 2475 non-null timedelta64[ns]\n",
            "Количество запусков нагрева электродами             2475 non-null float64\n",
            "Средняя активная мощность                           2475 non-null float64\n",
            "Сердняя реактивная мощность                         2475 non-null float64\n",
            "Среднее отношение активной к реактивной мощности    2475 non-null float64\n",
            "Длительность между замерами температур              2475 non-null timedelta64[ns]\n",
            "Wire 1                                              2373 non-null float64\n",
            "dtypes: datetime64[ns](2), float64(7), int64(1), timedelta64[ns](2)\n",
            "memory usage: 251.6 KB\n"
          ],
          "name": "stdout"
        }
      ]
    },
    {
      "cell_type": "markdown",
      "metadata": {
        "id": "maN8KkHb6w8G"
      },
      "source": [
        "### Добавим данные по присадкам из таблицы `bulk` в финальную таблицу по ключу `key`"
      ]
    },
    {
      "cell_type": "code",
      "metadata": {
        "colab": {
          "base_uri": "https://localhost:8080/"
        },
        "id": "eRBLi_V6F5g3",
        "outputId": "d79314de-1f22-42a7-ea83-7ee23d75d4a4"
      },
      "source": [
        "final_table=final_table.merge(bulk, on='key', how='left')\n",
        "final_table.info()"
      ],
      "execution_count": null,
      "outputs": [
        {
          "output_type": "stream",
          "text": [
            "<class 'pandas.core.frame.DataFrame'>\n",
            "Int64Index: 2477 entries, 0 to 2476\n",
            "Data columns (total 15 columns):\n",
            "key                                                 2477 non-null int64\n",
            "Время последнего замера температуры                 2477 non-null datetime64[ns]\n",
            "Время первого замера температуры                    2477 non-null datetime64[ns]\n",
            "Температура в начале замера                         2477 non-null float64\n",
            "Температура в конце замера                          2477 non-null float64\n",
            "Суммарное время нагрева электродами                 2475 non-null timedelta64[ns]\n",
            "Количество запусков нагрева электродами             2475 non-null float64\n",
            "Средняя активная мощность                           2475 non-null float64\n",
            "Сердняя реактивная мощность                         2475 non-null float64\n",
            "Среднее отношение активной к реактивной мощности    2475 non-null float64\n",
            "Длительность между замерами температур              2475 non-null timedelta64[ns]\n",
            "Wire 1                                              2373 non-null float64\n",
            "Bulk 12                                             2408 non-null float64\n",
            "Bulk 14                                             2408 non-null float64\n",
            "Bulk 15                                             2408 non-null float64\n",
            "dtypes: datetime64[ns](2), float64(10), int64(1), timedelta64[ns](2)\n",
            "memory usage: 309.6 KB\n"
          ],
          "name": "stdout"
        }
      ]
    },
    {
      "cell_type": "markdown",
      "metadata": {
        "id": "gYVrgf8_6-Qe"
      },
      "source": [
        "### Добавим данные по охлаждению газом из таблицы `data_gas` в финальную таблицу по ключу `key`"
      ]
    },
    {
      "cell_type": "code",
      "metadata": {
        "colab": {
          "base_uri": "https://localhost:8080/"
        },
        "id": "KA3MdJOsOr7Y",
        "outputId": "7af618fb-0ef6-4097-f3c7-a554984ec27c"
      },
      "source": [
        "final_table=final_table.merge(data_gas, on='key', how='left')\n",
        "final_table.info()"
      ],
      "execution_count": null,
      "outputs": [
        {
          "output_type": "stream",
          "text": [
            "<class 'pandas.core.frame.DataFrame'>\n",
            "Int64Index: 2477 entries, 0 to 2476\n",
            "Data columns (total 16 columns):\n",
            "key                                                 2477 non-null int64\n",
            "Время последнего замера температуры                 2477 non-null datetime64[ns]\n",
            "Время первого замера температуры                    2477 non-null datetime64[ns]\n",
            "Температура в начале замера                         2477 non-null float64\n",
            "Температура в конце замера                          2477 non-null float64\n",
            "Суммарное время нагрева электродами                 2475 non-null timedelta64[ns]\n",
            "Количество запусков нагрева электродами             2475 non-null float64\n",
            "Средняя активная мощность                           2475 non-null float64\n",
            "Сердняя реактивная мощность                         2475 non-null float64\n",
            "Среднее отношение активной к реактивной мощности    2475 non-null float64\n",
            "Длительность между замерами температур              2475 non-null timedelta64[ns]\n",
            "Wire 1                                              2373 non-null float64\n",
            "Bulk 12                                             2408 non-null float64\n",
            "Bulk 14                                             2408 non-null float64\n",
            "Bulk 15                                             2408 non-null float64\n",
            "Газ 1                                               2475 non-null float64\n",
            "dtypes: datetime64[ns](2), float64(11), int64(1), timedelta64[ns](2)\n",
            "memory usage: 329.0 KB\n"
          ],
          "name": "stdout"
        }
      ]
    },
    {
      "cell_type": "markdown",
      "metadata": {
        "id": "y76k8pJi7IGT"
      },
      "source": [
        "### Проверим наличие пропущенных значений `NAN` и удалим строки имеющие пропуски"
      ]
    },
    {
      "cell_type": "code",
      "metadata": {
        "colab": {
          "base_uri": "https://localhost:8080/"
        },
        "id": "bV33YceyyU7Z",
        "outputId": "8edfb606-475c-4ab8-9c4c-ae2380dad934"
      },
      "source": [
        "final_table.info()"
      ],
      "execution_count": null,
      "outputs": [
        {
          "output_type": "stream",
          "text": [
            "<class 'pandas.core.frame.DataFrame'>\n",
            "Int64Index: 2477 entries, 0 to 2476\n",
            "Data columns (total 16 columns):\n",
            "key                                                 2477 non-null int64\n",
            "Время последнего замера температуры                 2477 non-null datetime64[ns]\n",
            "Время первого замера температуры                    2477 non-null datetime64[ns]\n",
            "Температура в начале замера                         2477 non-null float64\n",
            "Температура в конце замера                          2477 non-null float64\n",
            "Суммарное время нагрева электродами                 2475 non-null timedelta64[ns]\n",
            "Количество запусков нагрева электродами             2475 non-null float64\n",
            "Средняя активная мощность                           2475 non-null float64\n",
            "Сердняя реактивная мощность                         2475 non-null float64\n",
            "Среднее отношение активной к реактивной мощности    2475 non-null float64\n",
            "Длительность между замерами температур              2475 non-null timedelta64[ns]\n",
            "Wire 1                                              2373 non-null float64\n",
            "Bulk 12                                             2408 non-null float64\n",
            "Bulk 14                                             2408 non-null float64\n",
            "Bulk 15                                             2408 non-null float64\n",
            "Газ 1                                               2475 non-null float64\n",
            "dtypes: datetime64[ns](2), float64(11), int64(1), timedelta64[ns](2)\n",
            "memory usage: 329.0 KB\n"
          ],
          "name": "stdout"
        }
      ]
    },
    {
      "cell_type": "code",
      "metadata": {
        "id": "dYCf1cDMLgv_"
      },
      "source": [
        "final_table=final_table.dropna()"
      ],
      "execution_count": null,
      "outputs": []
    },
    {
      "cell_type": "markdown",
      "metadata": {
        "id": "XmAtopHP7VPx"
      },
      "source": [
        "### Вытащим из колонки \"Суммарное время нагрева электродами\", который находится в формате `timedelta` значение в секундах и добавим в финальную таблицу"
      ]
    },
    {
      "cell_type": "code",
      "metadata": {
        "colab": {
          "base_uri": "https://localhost:8080/",
          "height": 240
        },
        "id": "UcnAdKTLVH75",
        "outputId": "55f0a943-cbde-4991-e20b-4c17a43ad66b"
      },
      "source": [
        "k=[]\n",
        "for i in final_table['Суммарное время нагрева электродами']:\n",
        "    y=i.total_seconds()\n",
        "    k.append(y)\n",
        "final_table['Время нагрева в секундах'] = k\n",
        "final_table.head()"
      ],
      "execution_count": null,
      "outputs": [
        {
          "output_type": "execute_result",
          "data": {
            "text/html": [
              "<div>\n",
              "<style scoped>\n",
              "    .dataframe tbody tr th:only-of-type {\n",
              "        vertical-align: middle;\n",
              "    }\n",
              "\n",
              "    .dataframe tbody tr th {\n",
              "        vertical-align: top;\n",
              "    }\n",
              "\n",
              "    .dataframe thead th {\n",
              "        text-align: right;\n",
              "    }\n",
              "</style>\n",
              "<table border=\"1\" class=\"dataframe\">\n",
              "  <thead>\n",
              "    <tr style=\"text-align: right;\">\n",
              "      <th></th>\n",
              "      <th>key</th>\n",
              "      <th>Время последнего замера температуры</th>\n",
              "      <th>Время первого замера температуры</th>\n",
              "      <th>Температура в начале замера</th>\n",
              "      <th>Температура в конце замера</th>\n",
              "      <th>Суммарное время нагрева электродами</th>\n",
              "      <th>Количество запусков нагрева электродами</th>\n",
              "      <th>Средняя активная мощность</th>\n",
              "      <th>Сердняя реактивная мощность</th>\n",
              "      <th>Среднее отношение активной к реактивной мощности</th>\n",
              "      <th>Длительность между замерами температур</th>\n",
              "      <th>Wire 1</th>\n",
              "      <th>Bulk 12</th>\n",
              "      <th>Bulk 14</th>\n",
              "      <th>Bulk 15</th>\n",
              "      <th>Газ 1</th>\n",
              "      <th>Время нагрева в секундах</th>\n",
              "    </tr>\n",
              "  </thead>\n",
              "  <tbody>\n",
              "    <tr>\n",
              "      <td>0</td>\n",
              "      <td>1</td>\n",
              "      <td>2019-05-03 11:30:39</td>\n",
              "      <td>2019-05-03 11:16:18</td>\n",
              "      <td>1571.0</td>\n",
              "      <td>1613.0</td>\n",
              "      <td>00:18:18</td>\n",
              "      <td>5.0</td>\n",
              "      <td>0.975629</td>\n",
              "      <td>0.636648</td>\n",
              "      <td>1.532447</td>\n",
              "      <td>00:14:21</td>\n",
              "      <td>60.059998</td>\n",
              "      <td>206.0</td>\n",
              "      <td>150.0</td>\n",
              "      <td>154.0</td>\n",
              "      <td>29.749986</td>\n",
              "      <td>1098.0</td>\n",
              "    </tr>\n",
              "    <tr>\n",
              "      <td>1</td>\n",
              "      <td>2</td>\n",
              "      <td>2019-05-03 11:59:12</td>\n",
              "      <td>2019-05-03 11:37:27</td>\n",
              "      <td>1577.0</td>\n",
              "      <td>1602.0</td>\n",
              "      <td>00:13:31</td>\n",
              "      <td>4.0</td>\n",
              "      <td>0.763150</td>\n",
              "      <td>0.499528</td>\n",
              "      <td>1.527741</td>\n",
              "      <td>00:21:45</td>\n",
              "      <td>96.052315</td>\n",
              "      <td>206.0</td>\n",
              "      <td>149.0</td>\n",
              "      <td>154.0</td>\n",
              "      <td>12.555561</td>\n",
              "      <td>811.0</td>\n",
              "    </tr>\n",
              "    <tr>\n",
              "      <td>2</td>\n",
              "      <td>3</td>\n",
              "      <td>2019-05-03 12:34:57</td>\n",
              "      <td>2019-05-03 12:13:17</td>\n",
              "      <td>1596.0</td>\n",
              "      <td>1599.0</td>\n",
              "      <td>00:10:55</td>\n",
              "      <td>5.0</td>\n",
              "      <td>0.505176</td>\n",
              "      <td>0.319815</td>\n",
              "      <td>1.579589</td>\n",
              "      <td>00:21:40</td>\n",
              "      <td>91.160157</td>\n",
              "      <td>205.0</td>\n",
              "      <td>152.0</td>\n",
              "      <td>153.0</td>\n",
              "      <td>28.554793</td>\n",
              "      <td>655.0</td>\n",
              "    </tr>\n",
              "    <tr>\n",
              "      <td>3</td>\n",
              "      <td>4</td>\n",
              "      <td>2019-05-03 12:59:25</td>\n",
              "      <td>2019-05-03 12:52:57</td>\n",
              "      <td>1601.0</td>\n",
              "      <td>1625.0</td>\n",
              "      <td>00:12:21</td>\n",
              "      <td>4.0</td>\n",
              "      <td>0.802313</td>\n",
              "      <td>0.515074</td>\n",
              "      <td>1.557663</td>\n",
              "      <td>00:06:28</td>\n",
              "      <td>89.063515</td>\n",
              "      <td>207.0</td>\n",
              "      <td>153.0</td>\n",
              "      <td>154.0</td>\n",
              "      <td>18.841219</td>\n",
              "      <td>741.0</td>\n",
              "    </tr>\n",
              "    <tr>\n",
              "      <td>4</td>\n",
              "      <td>5</td>\n",
              "      <td>2019-05-03 13:36:01</td>\n",
              "      <td>2019-05-03 13:23:19</td>\n",
              "      <td>1576.0</td>\n",
              "      <td>1602.0</td>\n",
              "      <td>00:14:29</td>\n",
              "      <td>4.0</td>\n",
              "      <td>0.836793</td>\n",
              "      <td>0.563161</td>\n",
              "      <td>1.485887</td>\n",
              "      <td>00:12:42</td>\n",
              "      <td>89.238236</td>\n",
              "      <td>203.0</td>\n",
              "      <td>151.0</td>\n",
              "      <td>152.0</td>\n",
              "      <td>5.413692</td>\n",
              "      <td>869.0</td>\n",
              "    </tr>\n",
              "  </tbody>\n",
              "</table>\n",
              "</div>"
            ],
            "text/plain": [
              "   key Время последнего замера температуры Время первого замера температуры  \\\n",
              "0    1                 2019-05-03 11:30:39              2019-05-03 11:16:18   \n",
              "1    2                 2019-05-03 11:59:12              2019-05-03 11:37:27   \n",
              "2    3                 2019-05-03 12:34:57              2019-05-03 12:13:17   \n",
              "3    4                 2019-05-03 12:59:25              2019-05-03 12:52:57   \n",
              "4    5                 2019-05-03 13:36:01              2019-05-03 13:23:19   \n",
              "\n",
              "   Температура в начале замера  Температура в конце замера  \\\n",
              "0                       1571.0                      1613.0   \n",
              "1                       1577.0                      1602.0   \n",
              "2                       1596.0                      1599.0   \n",
              "3                       1601.0                      1625.0   \n",
              "4                       1576.0                      1602.0   \n",
              "\n",
              "  Суммарное время нагрева электродами  \\\n",
              "0                            00:18:18   \n",
              "1                            00:13:31   \n",
              "2                            00:10:55   \n",
              "3                            00:12:21   \n",
              "4                            00:14:29   \n",
              "\n",
              "   Количество запусков нагрева электродами  Средняя активная мощность  \\\n",
              "0                                      5.0                   0.975629   \n",
              "1                                      4.0                   0.763150   \n",
              "2                                      5.0                   0.505176   \n",
              "3                                      4.0                   0.802313   \n",
              "4                                      4.0                   0.836793   \n",
              "\n",
              "   Сердняя реактивная мощность  \\\n",
              "0                     0.636648   \n",
              "1                     0.499528   \n",
              "2                     0.319815   \n",
              "3                     0.515074   \n",
              "4                     0.563161   \n",
              "\n",
              "   Среднее отношение активной к реактивной мощности  \\\n",
              "0                                          1.532447   \n",
              "1                                          1.527741   \n",
              "2                                          1.579589   \n",
              "3                                          1.557663   \n",
              "4                                          1.485887   \n",
              "\n",
              "  Длительность между замерами температур     Wire 1  Bulk 12  Bulk 14  \\\n",
              "0                               00:14:21  60.059998    206.0    150.0   \n",
              "1                               00:21:45  96.052315    206.0    149.0   \n",
              "2                               00:21:40  91.160157    205.0    152.0   \n",
              "3                               00:06:28  89.063515    207.0    153.0   \n",
              "4                               00:12:42  89.238236    203.0    151.0   \n",
              "\n",
              "   Bulk 15      Газ 1  Время нагрева в секундах  \n",
              "0    154.0  29.749986                    1098.0  \n",
              "1    154.0  12.555561                     811.0  \n",
              "2    153.0  28.554793                     655.0  \n",
              "3    154.0  18.841219                     741.0  \n",
              "4    152.0   5.413692                     869.0  "
            ]
          },
          "metadata": {
            "tags": []
          },
          "execution_count": 79
        }
      ]
    },
    {
      "cell_type": "markdown",
      "metadata": {
        "id": "5FT7car871Mp"
      },
      "source": [
        "### Вытащим из колонки \"Длительность между замерами температур\", который находится в формате `timedelta` значение в секундах и добавим в финальную таблицу"
      ]
    },
    {
      "cell_type": "code",
      "metadata": {
        "colab": {
          "base_uri": "https://localhost:8080/",
          "height": 337
        },
        "id": "XP_wROSuV_e3",
        "outputId": "ea31422e-ebc8-4ceb-ea46-1fd625ff5593"
      },
      "source": [
        "t=[]\n",
        "for i in final_table['Длительность между замерами температур']:\n",
        "    y=i.total_seconds()\n",
        "    t.append(y)\n",
        "final_table['Длительность между замерами температур секунды']=t\n",
        "final_table.head()"
      ],
      "execution_count": null,
      "outputs": [
        {
          "output_type": "execute_result",
          "data": {
            "text/html": [
              "<div>\n",
              "<style scoped>\n",
              "    .dataframe tbody tr th:only-of-type {\n",
              "        vertical-align: middle;\n",
              "    }\n",
              "\n",
              "    .dataframe tbody tr th {\n",
              "        vertical-align: top;\n",
              "    }\n",
              "\n",
              "    .dataframe thead th {\n",
              "        text-align: right;\n",
              "    }\n",
              "</style>\n",
              "<table border=\"1\" class=\"dataframe\">\n",
              "  <thead>\n",
              "    <tr style=\"text-align: right;\">\n",
              "      <th></th>\n",
              "      <th>key</th>\n",
              "      <th>Время последнего замера температуры</th>\n",
              "      <th>Время первого замера температуры</th>\n",
              "      <th>Температура в начале замера</th>\n",
              "      <th>Температура в конце замера</th>\n",
              "      <th>Суммарное время нагрева электродами</th>\n",
              "      <th>Количество запусков нагрева электродами</th>\n",
              "      <th>Средняя активная мощность</th>\n",
              "      <th>Сердняя реактивная мощность</th>\n",
              "      <th>Среднее отношение активной к реактивной мощности</th>\n",
              "      <th>Длительность между замерами температур</th>\n",
              "      <th>Wire 1</th>\n",
              "      <th>Bulk 12</th>\n",
              "      <th>Bulk 14</th>\n",
              "      <th>Bulk 15</th>\n",
              "      <th>Газ 1</th>\n",
              "      <th>Время нагрева в секундах</th>\n",
              "      <th>Длительность между замерами температур секунды</th>\n",
              "    </tr>\n",
              "  </thead>\n",
              "  <tbody>\n",
              "    <tr>\n",
              "      <td>0</td>\n",
              "      <td>1</td>\n",
              "      <td>2019-05-03 11:30:39</td>\n",
              "      <td>2019-05-03 11:16:18</td>\n",
              "      <td>1571.0</td>\n",
              "      <td>1613.0</td>\n",
              "      <td>00:18:18</td>\n",
              "      <td>5.0</td>\n",
              "      <td>0.975629</td>\n",
              "      <td>0.636648</td>\n",
              "      <td>1.532447</td>\n",
              "      <td>00:14:21</td>\n",
              "      <td>60.059998</td>\n",
              "      <td>206.0</td>\n",
              "      <td>150.0</td>\n",
              "      <td>154.0</td>\n",
              "      <td>29.749986</td>\n",
              "      <td>1098.0</td>\n",
              "      <td>861.0</td>\n",
              "    </tr>\n",
              "    <tr>\n",
              "      <td>1</td>\n",
              "      <td>2</td>\n",
              "      <td>2019-05-03 11:59:12</td>\n",
              "      <td>2019-05-03 11:37:27</td>\n",
              "      <td>1577.0</td>\n",
              "      <td>1602.0</td>\n",
              "      <td>00:13:31</td>\n",
              "      <td>4.0</td>\n",
              "      <td>0.763150</td>\n",
              "      <td>0.499528</td>\n",
              "      <td>1.527741</td>\n",
              "      <td>00:21:45</td>\n",
              "      <td>96.052315</td>\n",
              "      <td>206.0</td>\n",
              "      <td>149.0</td>\n",
              "      <td>154.0</td>\n",
              "      <td>12.555561</td>\n",
              "      <td>811.0</td>\n",
              "      <td>1305.0</td>\n",
              "    </tr>\n",
              "    <tr>\n",
              "      <td>2</td>\n",
              "      <td>3</td>\n",
              "      <td>2019-05-03 12:34:57</td>\n",
              "      <td>2019-05-03 12:13:17</td>\n",
              "      <td>1596.0</td>\n",
              "      <td>1599.0</td>\n",
              "      <td>00:10:55</td>\n",
              "      <td>5.0</td>\n",
              "      <td>0.505176</td>\n",
              "      <td>0.319815</td>\n",
              "      <td>1.579589</td>\n",
              "      <td>00:21:40</td>\n",
              "      <td>91.160157</td>\n",
              "      <td>205.0</td>\n",
              "      <td>152.0</td>\n",
              "      <td>153.0</td>\n",
              "      <td>28.554793</td>\n",
              "      <td>655.0</td>\n",
              "      <td>1300.0</td>\n",
              "    </tr>\n",
              "    <tr>\n",
              "      <td>3</td>\n",
              "      <td>4</td>\n",
              "      <td>2019-05-03 12:59:25</td>\n",
              "      <td>2019-05-03 12:52:57</td>\n",
              "      <td>1601.0</td>\n",
              "      <td>1625.0</td>\n",
              "      <td>00:12:21</td>\n",
              "      <td>4.0</td>\n",
              "      <td>0.802313</td>\n",
              "      <td>0.515074</td>\n",
              "      <td>1.557663</td>\n",
              "      <td>00:06:28</td>\n",
              "      <td>89.063515</td>\n",
              "      <td>207.0</td>\n",
              "      <td>153.0</td>\n",
              "      <td>154.0</td>\n",
              "      <td>18.841219</td>\n",
              "      <td>741.0</td>\n",
              "      <td>388.0</td>\n",
              "    </tr>\n",
              "    <tr>\n",
              "      <td>4</td>\n",
              "      <td>5</td>\n",
              "      <td>2019-05-03 13:36:01</td>\n",
              "      <td>2019-05-03 13:23:19</td>\n",
              "      <td>1576.0</td>\n",
              "      <td>1602.0</td>\n",
              "      <td>00:14:29</td>\n",
              "      <td>4.0</td>\n",
              "      <td>0.836793</td>\n",
              "      <td>0.563161</td>\n",
              "      <td>1.485887</td>\n",
              "      <td>00:12:42</td>\n",
              "      <td>89.238236</td>\n",
              "      <td>203.0</td>\n",
              "      <td>151.0</td>\n",
              "      <td>152.0</td>\n",
              "      <td>5.413692</td>\n",
              "      <td>869.0</td>\n",
              "      <td>762.0</td>\n",
              "    </tr>\n",
              "  </tbody>\n",
              "</table>\n",
              "</div>"
            ],
            "text/plain": [
              "   key Время последнего замера температуры Время первого замера температуры  \\\n",
              "0    1                 2019-05-03 11:30:39              2019-05-03 11:16:18   \n",
              "1    2                 2019-05-03 11:59:12              2019-05-03 11:37:27   \n",
              "2    3                 2019-05-03 12:34:57              2019-05-03 12:13:17   \n",
              "3    4                 2019-05-03 12:59:25              2019-05-03 12:52:57   \n",
              "4    5                 2019-05-03 13:36:01              2019-05-03 13:23:19   \n",
              "\n",
              "   Температура в начале замера  Температура в конце замера  \\\n",
              "0                       1571.0                      1613.0   \n",
              "1                       1577.0                      1602.0   \n",
              "2                       1596.0                      1599.0   \n",
              "3                       1601.0                      1625.0   \n",
              "4                       1576.0                      1602.0   \n",
              "\n",
              "  Суммарное время нагрева электродами  \\\n",
              "0                            00:18:18   \n",
              "1                            00:13:31   \n",
              "2                            00:10:55   \n",
              "3                            00:12:21   \n",
              "4                            00:14:29   \n",
              "\n",
              "   Количество запусков нагрева электродами  Средняя активная мощность  \\\n",
              "0                                      5.0                   0.975629   \n",
              "1                                      4.0                   0.763150   \n",
              "2                                      5.0                   0.505176   \n",
              "3                                      4.0                   0.802313   \n",
              "4                                      4.0                   0.836793   \n",
              "\n",
              "   Сердняя реактивная мощность  \\\n",
              "0                     0.636648   \n",
              "1                     0.499528   \n",
              "2                     0.319815   \n",
              "3                     0.515074   \n",
              "4                     0.563161   \n",
              "\n",
              "   Среднее отношение активной к реактивной мощности  \\\n",
              "0                                          1.532447   \n",
              "1                                          1.527741   \n",
              "2                                          1.579589   \n",
              "3                                          1.557663   \n",
              "4                                          1.485887   \n",
              "\n",
              "  Длительность между замерами температур     Wire 1  Bulk 12  Bulk 14  \\\n",
              "0                               00:14:21  60.059998    206.0    150.0   \n",
              "1                               00:21:45  96.052315    206.0    149.0   \n",
              "2                               00:21:40  91.160157    205.0    152.0   \n",
              "3                               00:06:28  89.063515    207.0    153.0   \n",
              "4                               00:12:42  89.238236    203.0    151.0   \n",
              "\n",
              "   Bulk 15      Газ 1  Время нагрева в секундах  \\\n",
              "0    154.0  29.749986                    1098.0   \n",
              "1    154.0  12.555561                     811.0   \n",
              "2    153.0  28.554793                     655.0   \n",
              "3    154.0  18.841219                     741.0   \n",
              "4    152.0   5.413692                     869.0   \n",
              "\n",
              "   Длительность между замерами температур секунды  \n",
              "0                                           861.0  \n",
              "1                                          1305.0  \n",
              "2                                          1300.0  \n",
              "3                                           388.0  \n",
              "4                                           762.0  "
            ]
          },
          "metadata": {
            "tags": []
          },
          "execution_count": 80
        }
      ]
    },
    {
      "cell_type": "code",
      "metadata": {
        "colab": {
          "base_uri": "https://localhost:8080/"
        },
        "id": "xaeBFErRWYix",
        "outputId": "c1e18826-b086-4465-a38e-65c4be0e1e26"
      },
      "source": [
        "final_table.info()"
      ],
      "execution_count": null,
      "outputs": [
        {
          "output_type": "stream",
          "text": [
            "<class 'pandas.core.frame.DataFrame'>\n",
            "Int64Index: 2329 entries, 0 to 2476\n",
            "Data columns (total 18 columns):\n",
            "key                                                 2329 non-null int64\n",
            "Время последнего замера температуры                 2329 non-null datetime64[ns]\n",
            "Время первого замера температуры                    2329 non-null datetime64[ns]\n",
            "Температура в начале замера                         2329 non-null float64\n",
            "Температура в конце замера                          2329 non-null float64\n",
            "Суммарное время нагрева электродами                 2329 non-null timedelta64[ns]\n",
            "Количество запусков нагрева электродами             2329 non-null float64\n",
            "Средняя активная мощность                           2329 non-null float64\n",
            "Сердняя реактивная мощность                         2329 non-null float64\n",
            "Среднее отношение активной к реактивной мощности    2329 non-null float64\n",
            "Длительность между замерами температур              2329 non-null timedelta64[ns]\n",
            "Wire 1                                              2329 non-null float64\n",
            "Bulk 12                                             2329 non-null float64\n",
            "Bulk 14                                             2329 non-null float64\n",
            "Bulk 15                                             2329 non-null float64\n",
            "Газ 1                                               2329 non-null float64\n",
            "Время нагрева в секундах                            2329 non-null float64\n",
            "Длительность между замерами температур секунды      2329 non-null float64\n",
            "dtypes: datetime64[ns](2), float64(13), int64(1), timedelta64[ns](2)\n",
            "memory usage: 345.7 KB\n"
          ],
          "name": "stdout"
        }
      ]
    },
    {
      "cell_type": "markdown",
      "metadata": {
        "id": "OsXITfX28CMo"
      },
      "source": [
        "### Удалим колонки с форматами `timedelta` и `datetime` для использования нашей таблицы в моделях, а так же колонку `key`, т.к. она не несёт никаких бизнес-показателй для определения целевого признака"
      ]
    },
    {
      "cell_type": "code",
      "metadata": {
        "colab": {
          "base_uri": "https://localhost:8080/",
          "height": 207
        },
        "id": "BI5OPOhGWgkZ",
        "outputId": "530b1156-d931-4eb9-fbd8-183d8805c6d7"
      },
      "source": [
        "model_fin_table=final_table.copy()\n",
        "model_fin_table=model_fin_table.drop(columns=['key','Время последнего замера температуры','Время первого замера температуры','Суммарное время нагрева электродами','Длительность между замерами температур'])\n",
        "model_fin_table.head()"
      ],
      "execution_count": null,
      "outputs": [
        {
          "output_type": "execute_result",
          "data": {
            "text/html": [
              "<div>\n",
              "<style scoped>\n",
              "    .dataframe tbody tr th:only-of-type {\n",
              "        vertical-align: middle;\n",
              "    }\n",
              "\n",
              "    .dataframe tbody tr th {\n",
              "        vertical-align: top;\n",
              "    }\n",
              "\n",
              "    .dataframe thead th {\n",
              "        text-align: right;\n",
              "    }\n",
              "</style>\n",
              "<table border=\"1\" class=\"dataframe\">\n",
              "  <thead>\n",
              "    <tr style=\"text-align: right;\">\n",
              "      <th></th>\n",
              "      <th>Температура в начале замера</th>\n",
              "      <th>Температура в конце замера</th>\n",
              "      <th>Количество запусков нагрева электродами</th>\n",
              "      <th>Средняя активная мощность</th>\n",
              "      <th>Сердняя реактивная мощность</th>\n",
              "      <th>Среднее отношение активной к реактивной мощности</th>\n",
              "      <th>Wire 1</th>\n",
              "      <th>Bulk 12</th>\n",
              "      <th>Bulk 14</th>\n",
              "      <th>Bulk 15</th>\n",
              "      <th>Газ 1</th>\n",
              "      <th>Время нагрева в секундах</th>\n",
              "      <th>Длительность между замерами температур секунды</th>\n",
              "    </tr>\n",
              "  </thead>\n",
              "  <tbody>\n",
              "    <tr>\n",
              "      <td>0</td>\n",
              "      <td>1571.0</td>\n",
              "      <td>1613.0</td>\n",
              "      <td>5.0</td>\n",
              "      <td>0.975629</td>\n",
              "      <td>0.636648</td>\n",
              "      <td>1.532447</td>\n",
              "      <td>60.059998</td>\n",
              "      <td>206.0</td>\n",
              "      <td>150.0</td>\n",
              "      <td>154.0</td>\n",
              "      <td>29.749986</td>\n",
              "      <td>1098.0</td>\n",
              "      <td>861.0</td>\n",
              "    </tr>\n",
              "    <tr>\n",
              "      <td>1</td>\n",
              "      <td>1577.0</td>\n",
              "      <td>1602.0</td>\n",
              "      <td>4.0</td>\n",
              "      <td>0.763150</td>\n",
              "      <td>0.499528</td>\n",
              "      <td>1.527741</td>\n",
              "      <td>96.052315</td>\n",
              "      <td>206.0</td>\n",
              "      <td>149.0</td>\n",
              "      <td>154.0</td>\n",
              "      <td>12.555561</td>\n",
              "      <td>811.0</td>\n",
              "      <td>1305.0</td>\n",
              "    </tr>\n",
              "    <tr>\n",
              "      <td>2</td>\n",
              "      <td>1596.0</td>\n",
              "      <td>1599.0</td>\n",
              "      <td>5.0</td>\n",
              "      <td>0.505176</td>\n",
              "      <td>0.319815</td>\n",
              "      <td>1.579589</td>\n",
              "      <td>91.160157</td>\n",
              "      <td>205.0</td>\n",
              "      <td>152.0</td>\n",
              "      <td>153.0</td>\n",
              "      <td>28.554793</td>\n",
              "      <td>655.0</td>\n",
              "      <td>1300.0</td>\n",
              "    </tr>\n",
              "    <tr>\n",
              "      <td>3</td>\n",
              "      <td>1601.0</td>\n",
              "      <td>1625.0</td>\n",
              "      <td>4.0</td>\n",
              "      <td>0.802313</td>\n",
              "      <td>0.515074</td>\n",
              "      <td>1.557663</td>\n",
              "      <td>89.063515</td>\n",
              "      <td>207.0</td>\n",
              "      <td>153.0</td>\n",
              "      <td>154.0</td>\n",
              "      <td>18.841219</td>\n",
              "      <td>741.0</td>\n",
              "      <td>388.0</td>\n",
              "    </tr>\n",
              "    <tr>\n",
              "      <td>4</td>\n",
              "      <td>1576.0</td>\n",
              "      <td>1602.0</td>\n",
              "      <td>4.0</td>\n",
              "      <td>0.836793</td>\n",
              "      <td>0.563161</td>\n",
              "      <td>1.485887</td>\n",
              "      <td>89.238236</td>\n",
              "      <td>203.0</td>\n",
              "      <td>151.0</td>\n",
              "      <td>152.0</td>\n",
              "      <td>5.413692</td>\n",
              "      <td>869.0</td>\n",
              "      <td>762.0</td>\n",
              "    </tr>\n",
              "  </tbody>\n",
              "</table>\n",
              "</div>"
            ],
            "text/plain": [
              "   Температура в начале замера  Температура в конце замера  \\\n",
              "0                       1571.0                      1613.0   \n",
              "1                       1577.0                      1602.0   \n",
              "2                       1596.0                      1599.0   \n",
              "3                       1601.0                      1625.0   \n",
              "4                       1576.0                      1602.0   \n",
              "\n",
              "   Количество запусков нагрева электродами  Средняя активная мощность  \\\n",
              "0                                      5.0                   0.975629   \n",
              "1                                      4.0                   0.763150   \n",
              "2                                      5.0                   0.505176   \n",
              "3                                      4.0                   0.802313   \n",
              "4                                      4.0                   0.836793   \n",
              "\n",
              "   Сердняя реактивная мощность  \\\n",
              "0                     0.636648   \n",
              "1                     0.499528   \n",
              "2                     0.319815   \n",
              "3                     0.515074   \n",
              "4                     0.563161   \n",
              "\n",
              "   Среднее отношение активной к реактивной мощности     Wire 1  Bulk 12  \\\n",
              "0                                          1.532447  60.059998    206.0   \n",
              "1                                          1.527741  96.052315    206.0   \n",
              "2                                          1.579589  91.160157    205.0   \n",
              "3                                          1.557663  89.063515    207.0   \n",
              "4                                          1.485887  89.238236    203.0   \n",
              "\n",
              "   Bulk 14  Bulk 15      Газ 1  Время нагрева в секундах  \\\n",
              "0    150.0    154.0  29.749986                    1098.0   \n",
              "1    149.0    154.0  12.555561                     811.0   \n",
              "2    152.0    153.0  28.554793                     655.0   \n",
              "3    153.0    154.0  18.841219                     741.0   \n",
              "4    151.0    152.0   5.413692                     869.0   \n",
              "\n",
              "   Длительность между замерами температур секунды  \n",
              "0                                           861.0  \n",
              "1                                          1305.0  \n",
              "2                                          1300.0  \n",
              "3                                           388.0  \n",
              "4                                           762.0  "
            ]
          },
          "metadata": {
            "tags": []
          },
          "execution_count": 82
        }
      ]
    },
    {
      "cell_type": "code",
      "metadata": {
        "colab": {
          "base_uri": "https://localhost:8080/"
        },
        "id": "jImjH7bHXFRT",
        "outputId": "82cb4e58-9bf0-4563-be98-2ff9ee590472"
      },
      "source": [
        "model_fin_table.info()"
      ],
      "execution_count": null,
      "outputs": [
        {
          "output_type": "stream",
          "text": [
            "<class 'pandas.core.frame.DataFrame'>\n",
            "Int64Index: 2329 entries, 0 to 2476\n",
            "Data columns (total 13 columns):\n",
            "Температура в начале замера                         2329 non-null float64\n",
            "Температура в конце замера                          2329 non-null float64\n",
            "Количество запусков нагрева электродами             2329 non-null float64\n",
            "Средняя активная мощность                           2329 non-null float64\n",
            "Сердняя реактивная мощность                         2329 non-null float64\n",
            "Среднее отношение активной к реактивной мощности    2329 non-null float64\n",
            "Wire 1                                              2329 non-null float64\n",
            "Bulk 12                                             2329 non-null float64\n",
            "Bulk 14                                             2329 non-null float64\n",
            "Bulk 15                                             2329 non-null float64\n",
            "Газ 1                                               2329 non-null float64\n",
            "Время нагрева в секундах                            2329 non-null float64\n",
            "Длительность между замерами температур секунды      2329 non-null float64\n",
            "dtypes: float64(13)\n",
            "memory usage: 254.7 KB\n"
          ],
          "name": "stdout"
        }
      ]
    },
    {
      "cell_type": "markdown",
      "metadata": {
        "id": "Bzwmk9k7rdWk"
      },
      "source": [
        "### Посмотрим на коррелирующие данные в нашей финальной таблице"
      ]
    },
    {
      "cell_type": "code",
      "metadata": {
        "colab": {
          "base_uri": "https://localhost:8080/",
          "height": 362
        },
        "id": "37NjoE28rYU6",
        "scrolled": false,
        "outputId": "5d446a20-9610-4dc8-8de8-81c2f317e975"
      },
      "source": [
        "model_fin_table\\\n",
        "    .corr()\\\n",
        "    .style\\\n",
        "    .background_gradient(cmap='coolwarm')"
      ],
      "execution_count": null,
      "outputs": [
        {
          "output_type": "execute_result",
          "data": {
            "text/html": [
              "<style  type=\"text/css\" >\n",
              "    #T_41627ee8_a544_11eb_9166_02420a396d1drow0_col0 {\n",
              "            background-color:  #b40426;\n",
              "            color:  #f1f1f1;\n",
              "        }    #T_41627ee8_a544_11eb_9166_02420a396d1drow0_col1 {\n",
              "            background-color:  #a3c2fe;\n",
              "            color:  #000000;\n",
              "        }    #T_41627ee8_a544_11eb_9166_02420a396d1drow0_col2 {\n",
              "            background-color:  #3b4cc0;\n",
              "            color:  #f1f1f1;\n",
              "        }    #T_41627ee8_a544_11eb_9166_02420a396d1drow0_col3 {\n",
              "            background-color:  #3b4cc0;\n",
              "            color:  #f1f1f1;\n",
              "        }    #T_41627ee8_a544_11eb_9166_02420a396d1drow0_col4 {\n",
              "            background-color:  #3b4cc0;\n",
              "            color:  #f1f1f1;\n",
              "        }    #T_41627ee8_a544_11eb_9166_02420a396d1drow0_col5 {\n",
              "            background-color:  #688aef;\n",
              "            color:  #000000;\n",
              "        }    #T_41627ee8_a544_11eb_9166_02420a396d1drow0_col6 {\n",
              "            background-color:  #8fb1fe;\n",
              "            color:  #000000;\n",
              "        }    #T_41627ee8_a544_11eb_9166_02420a396d1drow0_col7 {\n",
              "            background-color:  #3b4cc0;\n",
              "            color:  #f1f1f1;\n",
              "        }    #T_41627ee8_a544_11eb_9166_02420a396d1drow0_col8 {\n",
              "            background-color:  #3b4cc0;\n",
              "            color:  #f1f1f1;\n",
              "        }    #T_41627ee8_a544_11eb_9166_02420a396d1drow0_col9 {\n",
              "            background-color:  #3b4cc0;\n",
              "            color:  #f1f1f1;\n",
              "        }    #T_41627ee8_a544_11eb_9166_02420a396d1drow0_col10 {\n",
              "            background-color:  #3b4cc0;\n",
              "            color:  #f1f1f1;\n",
              "        }    #T_41627ee8_a544_11eb_9166_02420a396d1drow0_col11 {\n",
              "            background-color:  #3b4cc0;\n",
              "            color:  #f1f1f1;\n",
              "        }    #T_41627ee8_a544_11eb_9166_02420a396d1drow0_col12 {\n",
              "            background-color:  #3b4cc0;\n",
              "            color:  #f1f1f1;\n",
              "        }    #T_41627ee8_a544_11eb_9166_02420a396d1drow1_col0 {\n",
              "            background-color:  #dddcdc;\n",
              "            color:  #000000;\n",
              "        }    #T_41627ee8_a544_11eb_9166_02420a396d1drow1_col1 {\n",
              "            background-color:  #b40426;\n",
              "            color:  #f1f1f1;\n",
              "        }    #T_41627ee8_a544_11eb_9166_02420a396d1drow1_col2 {\n",
              "            background-color:  #9ebeff;\n",
              "            color:  #000000;\n",
              "        }    #T_41627ee8_a544_11eb_9166_02420a396d1drow1_col3 {\n",
              "            background-color:  #bed2f6;\n",
              "            color:  #000000;\n",
              "        }    #T_41627ee8_a544_11eb_9166_02420a396d1drow1_col4 {\n",
              "            background-color:  #adc9fd;\n",
              "            color:  #000000;\n",
              "        }    #T_41627ee8_a544_11eb_9166_02420a396d1drow1_col5 {\n",
              "            background-color:  #9dbdff;\n",
              "            color:  #000000;\n",
              "        }    #T_41627ee8_a544_11eb_9166_02420a396d1drow1_col6 {\n",
              "            background-color:  #c0d4f5;\n",
              "            color:  #000000;\n",
              "        }    #T_41627ee8_a544_11eb_9166_02420a396d1drow1_col7 {\n",
              "            background-color:  #9bbcff;\n",
              "            color:  #000000;\n",
              "        }    #T_41627ee8_a544_11eb_9166_02420a396d1drow1_col8 {\n",
              "            background-color:  #7396f5;\n",
              "            color:  #000000;\n",
              "        }    #T_41627ee8_a544_11eb_9166_02420a396d1drow1_col9 {\n",
              "            background-color:  #8db0fe;\n",
              "            color:  #000000;\n",
              "        }    #T_41627ee8_a544_11eb_9166_02420a396d1drow1_col10 {\n",
              "            background-color:  #5a78e4;\n",
              "            color:  #000000;\n",
              "        }    #T_41627ee8_a544_11eb_9166_02420a396d1drow1_col11 {\n",
              "            background-color:  #ccd9ed;\n",
              "            color:  #000000;\n",
              "        }    #T_41627ee8_a544_11eb_9166_02420a396d1drow1_col12 {\n",
              "            background-color:  #5f7fe8;\n",
              "            color:  #000000;\n",
              "        }    #T_41627ee8_a544_11eb_9166_02420a396d1drow2_col0 {\n",
              "            background-color:  #5a78e4;\n",
              "            color:  #000000;\n",
              "        }    #T_41627ee8_a544_11eb_9166_02420a396d1drow2_col1 {\n",
              "            background-color:  #6384eb;\n",
              "            color:  #000000;\n",
              "        }    #T_41627ee8_a544_11eb_9166_02420a396d1drow2_col2 {\n",
              "            background-color:  #b40426;\n",
              "            color:  #f1f1f1;\n",
              "        }    #T_41627ee8_a544_11eb_9166_02420a396d1drow2_col3 {\n",
              "            background-color:  #90b2fe;\n",
              "            color:  #000000;\n",
              "        }    #T_41627ee8_a544_11eb_9166_02420a396d1drow2_col4 {\n",
              "            background-color:  #8caffe;\n",
              "            color:  #000000;\n",
              "        }    #T_41627ee8_a544_11eb_9166_02420a396d1drow2_col5 {\n",
              "            background-color:  #7ea1fa;\n",
              "            color:  #000000;\n",
              "        }    #T_41627ee8_a544_11eb_9166_02420a396d1drow2_col6 {\n",
              "            background-color:  #8badfd;\n",
              "            color:  #000000;\n",
              "        }    #T_41627ee8_a544_11eb_9166_02420a396d1drow2_col7 {\n",
              "            background-color:  #a9c6fd;\n",
              "            color:  #000000;\n",
              "        }    #T_41627ee8_a544_11eb_9166_02420a396d1drow2_col8 {\n",
              "            background-color:  #bad0f8;\n",
              "            color:  #000000;\n",
              "        }    #T_41627ee8_a544_11eb_9166_02420a396d1drow2_col9 {\n",
              "            background-color:  #6e90f2;\n",
              "            color:  #000000;\n",
              "        }    #T_41627ee8_a544_11eb_9166_02420a396d1drow2_col10 {\n",
              "            background-color:  #cad8ef;\n",
              "            color:  #000000;\n",
              "        }    #T_41627ee8_a544_11eb_9166_02420a396d1drow2_col11 {\n",
              "            background-color:  #e57058;\n",
              "            color:  #000000;\n",
              "        }    #T_41627ee8_a544_11eb_9166_02420a396d1drow2_col12 {\n",
              "            background-color:  #f1ccb8;\n",
              "            color:  #000000;\n",
              "        }    #T_41627ee8_a544_11eb_9166_02420a396d1drow3_col0 {\n",
              "            background-color:  #3b4cc0;\n",
              "            color:  #f1f1f1;\n",
              "        }    #T_41627ee8_a544_11eb_9166_02420a396d1drow3_col1 {\n",
              "            background-color:  #6e90f2;\n",
              "            color:  #000000;\n",
              "        }    #T_41627ee8_a544_11eb_9166_02420a396d1drow3_col2 {\n",
              "            background-color:  #7295f4;\n",
              "            color:  #000000;\n",
              "        }    #T_41627ee8_a544_11eb_9166_02420a396d1drow3_col3 {\n",
              "            background-color:  #b40426;\n",
              "            color:  #f1f1f1;\n",
              "        }    #T_41627ee8_a544_11eb_9166_02420a396d1drow3_col4 {\n",
              "            background-color:  #ca3b37;\n",
              "            color:  #f1f1f1;\n",
              "        }    #T_41627ee8_a544_11eb_9166_02420a396d1drow3_col5 {\n",
              "            background-color:  #a2c1ff;\n",
              "            color:  #000000;\n",
              "        }    #T_41627ee8_a544_11eb_9166_02420a396d1drow3_col6 {\n",
              "            background-color:  #455cce;\n",
              "            color:  #f1f1f1;\n",
              "        }    #T_41627ee8_a544_11eb_9166_02420a396d1drow3_col7 {\n",
              "            background-color:  #c4d5f3;\n",
              "            color:  #000000;\n",
              "        }    #T_41627ee8_a544_11eb_9166_02420a396d1drow3_col8 {\n",
              "            background-color:  #bfd3f6;\n",
              "            color:  #000000;\n",
              "        }    #T_41627ee8_a544_11eb_9166_02420a396d1drow3_col9 {\n",
              "            background-color:  #a9c6fd;\n",
              "            color:  #000000;\n",
              "        }    #T_41627ee8_a544_11eb_9166_02420a396d1drow3_col10 {\n",
              "            background-color:  #6687ed;\n",
              "            color:  #000000;\n",
              "        }    #T_41627ee8_a544_11eb_9166_02420a396d1drow3_col11 {\n",
              "            background-color:  #f7ba9f;\n",
              "            color:  #000000;\n",
              "        }    #T_41627ee8_a544_11eb_9166_02420a396d1drow3_col12 {\n",
              "            background-color:  #5875e1;\n",
              "            color:  #000000;\n",
              "        }    #T_41627ee8_a544_11eb_9166_02420a396d1drow4_col0 {\n",
              "            background-color:  #3d50c3;\n",
              "            color:  #f1f1f1;\n",
              "        }    #T_41627ee8_a544_11eb_9166_02420a396d1drow4_col1 {\n",
              "            background-color:  #5875e1;\n",
              "            color:  #000000;\n",
              "        }    #T_41627ee8_a544_11eb_9166_02420a396d1drow4_col2 {\n",
              "            background-color:  #6f92f3;\n",
              "            color:  #000000;\n",
              "        }    #T_41627ee8_a544_11eb_9166_02420a396d1drow4_col3 {\n",
              "            background-color:  #ca3b37;\n",
              "            color:  #f1f1f1;\n",
              "        }    #T_41627ee8_a544_11eb_9166_02420a396d1drow4_col4 {\n",
              "            background-color:  #b40426;\n",
              "            color:  #f1f1f1;\n",
              "        }    #T_41627ee8_a544_11eb_9166_02420a396d1drow4_col5 {\n",
              "            background-color:  #3b4cc0;\n",
              "            color:  #f1f1f1;\n",
              "        }    #T_41627ee8_a544_11eb_9166_02420a396d1drow4_col6 {\n",
              "            background-color:  #3b4cc0;\n",
              "            color:  #f1f1f1;\n",
              "        }    #T_41627ee8_a544_11eb_9166_02420a396d1drow4_col7 {\n",
              "            background-color:  #bfd3f6;\n",
              "            color:  #000000;\n",
              "        }    #T_41627ee8_a544_11eb_9166_02420a396d1drow4_col8 {\n",
              "            background-color:  #b2ccfb;\n",
              "            color:  #000000;\n",
              "        }    #T_41627ee8_a544_11eb_9166_02420a396d1drow4_col9 {\n",
              "            background-color:  #9abbff;\n",
              "            color:  #000000;\n",
              "        }    #T_41627ee8_a544_11eb_9166_02420a396d1drow4_col10 {\n",
              "            background-color:  #5e7de7;\n",
              "            color:  #000000;\n",
              "        }    #T_41627ee8_a544_11eb_9166_02420a396d1drow4_col11 {\n",
              "            background-color:  #f6bda2;\n",
              "            color:  #000000;\n",
              "        }    #T_41627ee8_a544_11eb_9166_02420a396d1drow4_col12 {\n",
              "            background-color:  #5875e1;\n",
              "            color:  #000000;\n",
              "        }    #T_41627ee8_a544_11eb_9166_02420a396d1drow5_col0 {\n",
              "            background-color:  #7ea1fa;\n",
              "            color:  #000000;\n",
              "        }    #T_41627ee8_a544_11eb_9166_02420a396d1drow5_col1 {\n",
              "            background-color:  #5875e1;\n",
              "            color:  #000000;\n",
              "        }    #T_41627ee8_a544_11eb_9166_02420a396d1drow5_col2 {\n",
              "            background-color:  #7597f6;\n",
              "            color:  #000000;\n",
              "        }    #T_41627ee8_a544_11eb_9166_02420a396d1drow5_col3 {\n",
              "            background-color:  #b3cdfb;\n",
              "            color:  #000000;\n",
              "        }    #T_41627ee8_a544_11eb_9166_02420a396d1drow5_col4 {\n",
              "            background-color:  #4e68d8;\n",
              "            color:  #000000;\n",
              "        }    #T_41627ee8_a544_11eb_9166_02420a396d1drow5_col5 {\n",
              "            background-color:  #b40426;\n",
              "            color:  #f1f1f1;\n",
              "        }    #T_41627ee8_a544_11eb_9166_02420a396d1drow5_col6 {\n",
              "            background-color:  #82a6fb;\n",
              "            color:  #000000;\n",
              "        }    #T_41627ee8_a544_11eb_9166_02420a396d1drow5_col7 {\n",
              "            background-color:  #4961d2;\n",
              "            color:  #f1f1f1;\n",
              "        }    #T_41627ee8_a544_11eb_9166_02420a396d1drow5_col8 {\n",
              "            background-color:  #7396f5;\n",
              "            color:  #000000;\n",
              "        }    #T_41627ee8_a544_11eb_9166_02420a396d1drow5_col9 {\n",
              "            background-color:  #4a63d3;\n",
              "            color:  #f1f1f1;\n",
              "        }    #T_41627ee8_a544_11eb_9166_02420a396d1drow5_col10 {\n",
              "            background-color:  #5e7de7;\n",
              "            color:  #000000;\n",
              "        }    #T_41627ee8_a544_11eb_9166_02420a396d1drow5_col11 {\n",
              "            background-color:  #90b2fe;\n",
              "            color:  #000000;\n",
              "        }    #T_41627ee8_a544_11eb_9166_02420a396d1drow5_col12 {\n",
              "            background-color:  #4358cb;\n",
              "            color:  #f1f1f1;\n",
              "        }    #T_41627ee8_a544_11eb_9166_02420a396d1drow6_col0 {\n",
              "            background-color:  #afcafc;\n",
              "            color:  #000000;\n",
              "        }    #T_41627ee8_a544_11eb_9166_02420a396d1drow6_col1 {\n",
              "            background-color:  #96b7ff;\n",
              "            color:  #000000;\n",
              "        }    #T_41627ee8_a544_11eb_9166_02420a396d1drow6_col2 {\n",
              "            background-color:  #90b2fe;\n",
              "            color:  #000000;\n",
              "        }    #T_41627ee8_a544_11eb_9166_02420a396d1drow6_col3 {\n",
              "            background-color:  #6c8ff1;\n",
              "            color:  #000000;\n",
              "        }    #T_41627ee8_a544_11eb_9166_02420a396d1drow6_col4 {\n",
              "            background-color:  #5f7fe8;\n",
              "            color:  #000000;\n",
              "        }    #T_41627ee8_a544_11eb_9166_02420a396d1drow6_col5 {\n",
              "            background-color:  #92b4fe;\n",
              "            color:  #000000;\n",
              "        }    #T_41627ee8_a544_11eb_9166_02420a396d1drow6_col6 {\n",
              "            background-color:  #b40426;\n",
              "            color:  #f1f1f1;\n",
              "        }    #T_41627ee8_a544_11eb_9166_02420a396d1drow6_col7 {\n",
              "            background-color:  #7a9df8;\n",
              "            color:  #000000;\n",
              "        }    #T_41627ee8_a544_11eb_9166_02420a396d1drow6_col8 {\n",
              "            background-color:  #4055c8;\n",
              "            color:  #f1f1f1;\n",
              "        }    #T_41627ee8_a544_11eb_9166_02420a396d1drow6_col9 {\n",
              "            background-color:  #5a78e4;\n",
              "            color:  #000000;\n",
              "        }    #T_41627ee8_a544_11eb_9166_02420a396d1drow6_col10 {\n",
              "            background-color:  #6c8ff1;\n",
              "            color:  #000000;\n",
              "        }    #T_41627ee8_a544_11eb_9166_02420a396d1drow6_col11 {\n",
              "            background-color:  #92b4fe;\n",
              "            color:  #000000;\n",
              "        }    #T_41627ee8_a544_11eb_9166_02420a396d1drow6_col12 {\n",
              "            background-color:  #7699f6;\n",
              "            color:  #000000;\n",
              "        }    #T_41627ee8_a544_11eb_9166_02420a396d1drow7_col0 {\n",
              "            background-color:  #7da0f9;\n",
              "            color:  #000000;\n",
              "        }    #T_41627ee8_a544_11eb_9166_02420a396d1drow7_col1 {\n",
              "            background-color:  #82a6fb;\n",
              "            color:  #000000;\n",
              "        }    #T_41627ee8_a544_11eb_9166_02420a396d1drow7_col2 {\n",
              "            background-color:  #c1d4f4;\n",
              "            color:  #000000;\n",
              "        }    #T_41627ee8_a544_11eb_9166_02420a396d1drow7_col3 {\n",
              "            background-color:  #e5d8d1;\n",
              "            color:  #000000;\n",
              "        }    #T_41627ee8_a544_11eb_9166_02420a396d1drow7_col4 {\n",
              "            background-color:  #e1dad6;\n",
              "            color:  #000000;\n",
              "        }    #T_41627ee8_a544_11eb_9166_02420a396d1drow7_col5 {\n",
              "            background-color:  #7597f6;\n",
              "            color:  #000000;\n",
              "        }    #T_41627ee8_a544_11eb_9166_02420a396d1drow7_col6 {\n",
              "            background-color:  #94b6ff;\n",
              "            color:  #000000;\n",
              "        }    #T_41627ee8_a544_11eb_9166_02420a396d1drow7_col7 {\n",
              "            background-color:  #b40426;\n",
              "            color:  #f1f1f1;\n",
              "        }    #T_41627ee8_a544_11eb_9166_02420a396d1drow7_col8 {\n",
              "            background-color:  #e1dad6;\n",
              "            color:  #000000;\n",
              "        }    #T_41627ee8_a544_11eb_9166_02420a396d1drow7_col9 {\n",
              "            background-color:  #f2c9b4;\n",
              "            color:  #000000;\n",
              "        }    #T_41627ee8_a544_11eb_9166_02420a396d1drow7_col10 {\n",
              "            background-color:  #8db0fe;\n",
              "            color:  #000000;\n",
              "        }    #T_41627ee8_a544_11eb_9166_02420a396d1drow7_col11 {\n",
              "            background-color:  #efcebd;\n",
              "            color:  #000000;\n",
              "        }    #T_41627ee8_a544_11eb_9166_02420a396d1drow7_col12 {\n",
              "            background-color:  #89acfd;\n",
              "            color:  #000000;\n",
              "        }    #T_41627ee8_a544_11eb_9166_02420a396d1drow8_col0 {\n",
              "            background-color:  #7295f4;\n",
              "            color:  #000000;\n",
              "        }    #T_41627ee8_a544_11eb_9166_02420a396d1drow8_col1 {\n",
              "            background-color:  #4c66d6;\n",
              "            color:  #000000;\n",
              "        }    #T_41627ee8_a544_11eb_9166_02420a396d1drow8_col2 {\n",
              "            background-color:  #c9d7f0;\n",
              "            color:  #000000;\n",
              "        }    #T_41627ee8_a544_11eb_9166_02420a396d1drow8_col3 {\n",
              "            background-color:  #dddcdc;\n",
              "            color:  #000000;\n",
              "        }    #T_41627ee8_a544_11eb_9166_02420a396d1drow8_col4 {\n",
              "            background-color:  #d3dbe7;\n",
              "            color:  #000000;\n",
              "        }    #T_41627ee8_a544_11eb_9166_02420a396d1drow8_col5 {\n",
              "            background-color:  #93b5fe;\n",
              "            color:  #000000;\n",
              "        }    #T_41627ee8_a544_11eb_9166_02420a396d1drow8_col6 {\n",
              "            background-color:  #506bda;\n",
              "            color:  #000000;\n",
              "        }    #T_41627ee8_a544_11eb_9166_02420a396d1drow8_col7 {\n",
              "            background-color:  #dcdddd;\n",
              "            color:  #000000;\n",
              "        }    #T_41627ee8_a544_11eb_9166_02420a396d1drow8_col8 {\n",
              "            background-color:  #b40426;\n",
              "            color:  #f1f1f1;\n",
              "        }    #T_41627ee8_a544_11eb_9166_02420a396d1drow8_col9 {\n",
              "            background-color:  #8db0fe;\n",
              "            color:  #000000;\n",
              "        }    #T_41627ee8_a544_11eb_9166_02420a396d1drow8_col10 {\n",
              "            background-color:  #9fbfff;\n",
              "            color:  #000000;\n",
              "        }    #T_41627ee8_a544_11eb_9166_02420a396d1drow8_col11 {\n",
              "            background-color:  #efcfbf;\n",
              "            color:  #000000;\n",
              "        }    #T_41627ee8_a544_11eb_9166_02420a396d1drow8_col12 {\n",
              "            background-color:  #7da0f9;\n",
              "            color:  #000000;\n",
              "        }    #T_41627ee8_a544_11eb_9166_02420a396d1drow9_col0 {\n",
              "            background-color:  #8badfd;\n",
              "            color:  #000000;\n",
              "        }    #T_41627ee8_a544_11eb_9166_02420a396d1drow9_col1 {\n",
              "            background-color:  #82a6fb;\n",
              "            color:  #000000;\n",
              "        }    #T_41627ee8_a544_11eb_9166_02420a396d1drow9_col2 {\n",
              "            background-color:  #9bbcff;\n",
              "            color:  #000000;\n",
              "        }    #T_41627ee8_a544_11eb_9166_02420a396d1drow9_col3 {\n",
              "            background-color:  #dbdcde;\n",
              "            color:  #000000;\n",
              "        }    #T_41627ee8_a544_11eb_9166_02420a396d1drow9_col4 {\n",
              "            background-color:  #d2dbe8;\n",
              "            color:  #000000;\n",
              "        }    #T_41627ee8_a544_11eb_9166_02420a396d1drow9_col5 {\n",
              "            background-color:  #85a8fc;\n",
              "            color:  #000000;\n",
              "        }    #T_41627ee8_a544_11eb_9166_02420a396d1drow9_col6 {\n",
              "            background-color:  #84a7fc;\n",
              "            color:  #000000;\n",
              "        }    #T_41627ee8_a544_11eb_9166_02420a396d1drow9_col7 {\n",
              "            background-color:  #f5c4ac;\n",
              "            color:  #000000;\n",
              "        }    #T_41627ee8_a544_11eb_9166_02420a396d1drow9_col8 {\n",
              "            background-color:  #a5c3fe;\n",
              "            color:  #000000;\n",
              "        }    #T_41627ee8_a544_11eb_9166_02420a396d1drow9_col9 {\n",
              "            background-color:  #b40426;\n",
              "            color:  #f1f1f1;\n",
              "        }    #T_41627ee8_a544_11eb_9166_02420a396d1drow9_col10 {\n",
              "            background-color:  #5572df;\n",
              "            color:  #000000;\n",
              "        }    #T_41627ee8_a544_11eb_9166_02420a396d1drow9_col11 {\n",
              "            background-color:  #cfdaea;\n",
              "            color:  #000000;\n",
              "        }    #T_41627ee8_a544_11eb_9166_02420a396d1drow9_col12 {\n",
              "            background-color:  #6a8bef;\n",
              "            color:  #000000;\n",
              "        }    #T_41627ee8_a544_11eb_9166_02420a396d1drow10_col0 {\n",
              "            background-color:  #799cf8;\n",
              "            color:  #000000;\n",
              "        }    #T_41627ee8_a544_11eb_9166_02420a396d1drow10_col1 {\n",
              "            background-color:  #3b4cc0;\n",
              "            color:  #f1f1f1;\n",
              "        }    #T_41627ee8_a544_11eb_9166_02420a396d1drow10_col2 {\n",
              "            background-color:  #dadce0;\n",
              "            color:  #000000;\n",
              "        }    #T_41627ee8_a544_11eb_9166_02420a396d1drow10_col3 {\n",
              "            background-color:  #a1c0ff;\n",
              "            color:  #000000;\n",
              "        }    #T_41627ee8_a544_11eb_9166_02420a396d1drow10_col4 {\n",
              "            background-color:  #97b8ff;\n",
              "            color:  #000000;\n",
              "        }    #T_41627ee8_a544_11eb_9166_02420a396d1drow10_col5 {\n",
              "            background-color:  #85a8fc;\n",
              "            color:  #000000;\n",
              "        }    #T_41627ee8_a544_11eb_9166_02420a396d1drow10_col6 {\n",
              "            background-color:  #84a7fc;\n",
              "            color:  #000000;\n",
              "        }    #T_41627ee8_a544_11eb_9166_02420a396d1drow10_col7 {\n",
              "            background-color:  #8badfd;\n",
              "            color:  #000000;\n",
              "        }    #T_41627ee8_a544_11eb_9166_02420a396d1drow10_col8 {\n",
              "            background-color:  #a6c4fe;\n",
              "            color:  #000000;\n",
              "        }    #T_41627ee8_a544_11eb_9166_02420a396d1drow10_col9 {\n",
              "            background-color:  #4257c9;\n",
              "            color:  #f1f1f1;\n",
              "        }    #T_41627ee8_a544_11eb_9166_02420a396d1drow10_col10 {\n",
              "            background-color:  #b40426;\n",
              "            color:  #f1f1f1;\n",
              "        }    #T_41627ee8_a544_11eb_9166_02420a396d1drow10_col11 {\n",
              "            background-color:  #e4d9d2;\n",
              "            color:  #000000;\n",
              "        }    #T_41627ee8_a544_11eb_9166_02420a396d1drow10_col12 {\n",
              "            background-color:  #d4dbe6;\n",
              "            color:  #000000;\n",
              "        }    #T_41627ee8_a544_11eb_9166_02420a396d1drow11_col0 {\n",
              "            background-color:  #3e51c5;\n",
              "            color:  #f1f1f1;\n",
              "        }    #T_41627ee8_a544_11eb_9166_02420a396d1drow11_col1 {\n",
              "            background-color:  #86a9fc;\n",
              "            color:  #000000;\n",
              "        }    #T_41627ee8_a544_11eb_9166_02420a396d1drow11_col2 {\n",
              "            background-color:  #e9785d;\n",
              "            color:  #000000;\n",
              "        }    #T_41627ee8_a544_11eb_9166_02420a396d1drow11_col3 {\n",
              "            background-color:  #f7b99e;\n",
              "            color:  #000000;\n",
              "        }    #T_41627ee8_a544_11eb_9166_02420a396d1drow11_col4 {\n",
              "            background-color:  #f6bda2;\n",
              "            color:  #000000;\n",
              "        }    #T_41627ee8_a544_11eb_9166_02420a396d1drow11_col5 {\n",
              "            background-color:  #80a3fa;\n",
              "            color:  #000000;\n",
              "        }    #T_41627ee8_a544_11eb_9166_02420a396d1drow11_col6 {\n",
              "            background-color:  #7093f3;\n",
              "            color:  #000000;\n",
              "        }    #T_41627ee8_a544_11eb_9166_02420a396d1drow11_col7 {\n",
              "            background-color:  #d9dce1;\n",
              "            color:  #000000;\n",
              "        }    #T_41627ee8_a544_11eb_9166_02420a396d1drow11_col8 {\n",
              "            background-color:  #dcdddd;\n",
              "            color:  #000000;\n",
              "        }    #T_41627ee8_a544_11eb_9166_02420a396d1drow11_col9 {\n",
              "            background-color:  #98b9ff;\n",
              "            color:  #000000;\n",
              "        }    #T_41627ee8_a544_11eb_9166_02420a396d1drow11_col10 {\n",
              "            background-color:  #c7d7f0;\n",
              "            color:  #000000;\n",
              "        }    #T_41627ee8_a544_11eb_9166_02420a396d1drow11_col11 {\n",
              "            background-color:  #b40426;\n",
              "            color:  #f1f1f1;\n",
              "        }    #T_41627ee8_a544_11eb_9166_02420a396d1drow11_col12 {\n",
              "            background-color:  #eed0c0;\n",
              "            color:  #000000;\n",
              "        }    #T_41627ee8_a544_11eb_9166_02420a396d1drow12_col0 {\n",
              "            background-color:  #80a3fa;\n",
              "            color:  #000000;\n",
              "        }    #T_41627ee8_a544_11eb_9166_02420a396d1drow12_col1 {\n",
              "            background-color:  #465ecf;\n",
              "            color:  #f1f1f1;\n",
              "        }    #T_41627ee8_a544_11eb_9166_02420a396d1drow12_col2 {\n",
              "            background-color:  #f6bea4;\n",
              "            color:  #000000;\n",
              "        }    #T_41627ee8_a544_11eb_9166_02420a396d1drow12_col3 {\n",
              "            background-color:  #9abbff;\n",
              "            color:  #000000;\n",
              "        }    #T_41627ee8_a544_11eb_9166_02420a396d1drow12_col4 {\n",
              "            background-color:  #97b8ff;\n",
              "            color:  #000000;\n",
              "        }    #T_41627ee8_a544_11eb_9166_02420a396d1drow12_col5 {\n",
              "            background-color:  #7295f4;\n",
              "            color:  #000000;\n",
              "        }    #T_41627ee8_a544_11eb_9166_02420a396d1drow12_col6 {\n",
              "            background-color:  #92b4fe;\n",
              "            color:  #000000;\n",
              "        }    #T_41627ee8_a544_11eb_9166_02420a396d1drow12_col7 {\n",
              "            background-color:  #8caffe;\n",
              "            color:  #000000;\n",
              "        }    #T_41627ee8_a544_11eb_9166_02420a396d1drow12_col8 {\n",
              "            background-color:  #8badfd;\n",
              "            color:  #000000;\n",
              "        }    #T_41627ee8_a544_11eb_9166_02420a396d1drow12_col9 {\n",
              "            background-color:  #5e7de7;\n",
              "            color:  #000000;\n",
              "        }    #T_41627ee8_a544_11eb_9166_02420a396d1drow12_col10 {\n",
              "            background-color:  #d7dce3;\n",
              "            color:  #000000;\n",
              "        }    #T_41627ee8_a544_11eb_9166_02420a396d1drow12_col11 {\n",
              "            background-color:  #f7b99e;\n",
              "            color:  #000000;\n",
              "        }    #T_41627ee8_a544_11eb_9166_02420a396d1drow12_col12 {\n",
              "            background-color:  #b40426;\n",
              "            color:  #f1f1f1;\n",
              "        }</style><table id=\"T_41627ee8_a544_11eb_9166_02420a396d1d\" ><thead>    <tr>        <th class=\"blank level0\" ></th>        <th class=\"col_heading level0 col0\" >Температура в начале замера</th>        <th class=\"col_heading level0 col1\" >Температура в конце замера</th>        <th class=\"col_heading level0 col2\" >Количество запусков нагрева электродами</th>        <th class=\"col_heading level0 col3\" >Средняя активная мощность</th>        <th class=\"col_heading level0 col4\" >Сердняя реактивная мощность</th>        <th class=\"col_heading level0 col5\" >Среднее отношение активной к реактивной мощности</th>        <th class=\"col_heading level0 col6\" >Wire 1</th>        <th class=\"col_heading level0 col7\" >Bulk 12</th>        <th class=\"col_heading level0 col8\" >Bulk 14</th>        <th class=\"col_heading level0 col9\" >Bulk 15</th>        <th class=\"col_heading level0 col10\" >Газ 1</th>        <th class=\"col_heading level0 col11\" >Время нагрева в секундах</th>        <th class=\"col_heading level0 col12\" >Длительность между замерами температур секунды</th>    </tr></thead><tbody>\n",
              "                <tr>\n",
              "                        <th id=\"T_41627ee8_a544_11eb_9166_02420a396d1dlevel0_row0\" class=\"row_heading level0 row0\" >Температура в начале замера</th>\n",
              "                        <td id=\"T_41627ee8_a544_11eb_9166_02420a396d1drow0_col0\" class=\"data row0 col0\" >1</td>\n",
              "                        <td id=\"T_41627ee8_a544_11eb_9166_02420a396d1drow0_col1\" class=\"data row0 col1\" >0.353292</td>\n",
              "                        <td id=\"T_41627ee8_a544_11eb_9166_02420a396d1drow0_col2\" class=\"data row0 col2\" >-0.16609</td>\n",
              "                        <td id=\"T_41627ee8_a544_11eb_9166_02420a396d1drow0_col3\" class=\"data row0 col3\" >-0.301215</td>\n",
              "                        <td id=\"T_41627ee8_a544_11eb_9166_02420a396d1drow0_col4\" class=\"data row0 col4\" >-0.288873</td>\n",
              "                        <td id=\"T_41627ee8_a544_11eb_9166_02420a396d1drow0_col5\" class=\"data row0 col5\" >-0.0302808</td>\n",
              "                        <td id=\"T_41627ee8_a544_11eb_9166_02420a396d1drow0_col6\" class=\"data row0 col6\" >0.155272</td>\n",
              "                        <td id=\"T_41627ee8_a544_11eb_9166_02420a396d1drow0_col7\" class=\"data row0 col7\" >-0.0352896</td>\n",
              "                        <td id=\"T_41627ee8_a544_11eb_9166_02420a396d1drow0_col8\" class=\"data row0 col8\" >-0.0771676</td>\n",
              "                        <td id=\"T_41627ee8_a544_11eb_9166_02420a396d1drow0_col9\" class=\"data row0 col9\" >0.0169947</td>\n",
              "                        <td id=\"T_41627ee8_a544_11eb_9166_02420a396d1drow0_col10\" class=\"data row0 col10\" >-0.0481043</td>\n",
              "                        <td id=\"T_41627ee8_a544_11eb_9166_02420a396d1drow0_col11\" class=\"data row0 col11\" >-0.285718</td>\n",
              "                        <td id=\"T_41627ee8_a544_11eb_9166_02420a396d1drow0_col12\" class=\"data row0 col12\" >-0.0252831</td>\n",
              "            </tr>\n",
              "            <tr>\n",
              "                        <th id=\"T_41627ee8_a544_11eb_9166_02420a396d1dlevel0_row1\" class=\"row_heading level0 row1\" >Температура в конце замера</th>\n",
              "                        <td id=\"T_41627ee8_a544_11eb_9166_02420a396d1drow1_col0\" class=\"data row1 col0\" >0.353292</td>\n",
              "                        <td id=\"T_41627ee8_a544_11eb_9166_02420a396d1drow1_col1\" class=\"data row1 col1\" >1</td>\n",
              "                        <td id=\"T_41627ee8_a544_11eb_9166_02420a396d1drow1_col2\" class=\"data row1 col2\" >0.181146</td>\n",
              "                        <td id=\"T_41627ee8_a544_11eb_9166_02420a396d1drow1_col3\" class=\"data row1 col3\" >0.21107</td>\n",
              "                        <td id=\"T_41627ee8_a544_11eb_9166_02420a396d1drow1_col4\" class=\"data row1 col4\" >0.149932</td>\n",
              "                        <td id=\"T_41627ee8_a544_11eb_9166_02420a396d1drow1_col5\" class=\"data row1 col5\" >0.147833</td>\n",
              "                        <td id=\"T_41627ee8_a544_11eb_9166_02420a396d1drow1_col6\" class=\"data row1 col6\" >0.317575</td>\n",
              "                        <td id=\"T_41627ee8_a544_11eb_9166_02420a396d1drow1_col7\" class=\"data row1 col7\" >0.267424</td>\n",
              "                        <td id=\"T_41627ee8_a544_11eb_9166_02420a396d1drow1_col8\" class=\"data row1 col8\" >0.114617</td>\n",
              "                        <td id=\"T_41627ee8_a544_11eb_9166_02420a396d1drow1_col9\" class=\"data row1 col9\" >0.266414</td>\n",
              "                        <td id=\"T_41627ee8_a544_11eb_9166_02420a396d1drow1_col10\" class=\"data row1 col10\" >0.0591602</td>\n",
              "                        <td id=\"T_41627ee8_a544_11eb_9166_02420a396d1drow1_col11\" class=\"data row1 col11\" >0.278716</td>\n",
              "                        <td id=\"T_41627ee8_a544_11eb_9166_02420a396d1drow1_col12\" class=\"data row1 col12\" >0.0974802</td>\n",
              "            </tr>\n",
              "            <tr>\n",
              "                        <th id=\"T_41627ee8_a544_11eb_9166_02420a396d1dlevel0_row2\" class=\"row_heading level0 row2\" >Количество запусков нагрева электродами</th>\n",
              "                        <td id=\"T_41627ee8_a544_11eb_9166_02420a396d1drow2_col0\" class=\"data row2 col0\" >-0.16609</td>\n",
              "                        <td id=\"T_41627ee8_a544_11eb_9166_02420a396d1drow2_col1\" class=\"data row2 col1\" >0.181146</td>\n",
              "                        <td id=\"T_41627ee8_a544_11eb_9166_02420a396d1drow2_col2\" class=\"data row2 col2\" >1</td>\n",
              "                        <td id=\"T_41627ee8_a544_11eb_9166_02420a396d1drow2_col3\" class=\"data row2 col3\" >0.0346963</td>\n",
              "                        <td id=\"T_41627ee8_a544_11eb_9166_02420a396d1drow2_col4\" class=\"data row2 col4\" >0.0291182</td>\n",
              "                        <td id=\"T_41627ee8_a544_11eb_9166_02420a396d1drow2_col5\" class=\"data row2 col5\" >0.0476153</td>\n",
              "                        <td id=\"T_41627ee8_a544_11eb_9166_02420a396d1drow2_col6\" class=\"data row2 col6\" >0.13828</td>\n",
              "                        <td id=\"T_41627ee8_a544_11eb_9166_02420a396d1drow2_col7\" class=\"data row2 col7\" >0.30723</td>\n",
              "                        <td id=\"T_41627ee8_a544_11eb_9166_02420a396d1drow2_col8\" class=\"data row2 col8\" >0.333906</td>\n",
              "                        <td id=\"T_41627ee8_a544_11eb_9166_02420a396d1drow2_col9\" class=\"data row2 col9\" >0.175047</td>\n",
              "                        <td id=\"T_41627ee8_a544_11eb_9166_02420a396d1drow2_col10\" class=\"data row2 col10\" >0.403947</td>\n",
              "                        <td id=\"T_41627ee8_a544_11eb_9166_02420a396d1drow2_col11\" class=\"data row2 col11\" >0.799038</td>\n",
              "                        <td id=\"T_41627ee8_a544_11eb_9166_02420a396d1drow2_col12\" class=\"data row2 col12\" >0.587091</td>\n",
              "            </tr>\n",
              "            <tr>\n",
              "                        <th id=\"T_41627ee8_a544_11eb_9166_02420a396d1dlevel0_row3\" class=\"row_heading level0 row3\" >Средняя активная мощность</th>\n",
              "                        <td id=\"T_41627ee8_a544_11eb_9166_02420a396d1drow3_col0\" class=\"data row3 col0\" >-0.301215</td>\n",
              "                        <td id=\"T_41627ee8_a544_11eb_9166_02420a396d1drow3_col1\" class=\"data row3 col1\" >0.21107</td>\n",
              "                        <td id=\"T_41627ee8_a544_11eb_9166_02420a396d1drow3_col2\" class=\"data row3 col2\" >0.0346963</td>\n",
              "                        <td id=\"T_41627ee8_a544_11eb_9166_02420a396d1drow3_col3\" class=\"data row3 col3\" >1</td>\n",
              "                        <td id=\"T_41627ee8_a544_11eb_9166_02420a396d1drow3_col4\" class=\"data row3 col4\" >0.92303</td>\n",
              "                        <td id=\"T_41627ee8_a544_11eb_9166_02420a396d1drow3_col5\" class=\"data row3 col5\" >0.167139</td>\n",
              "                        <td id=\"T_41627ee8_a544_11eb_9166_02420a396d1drow3_col6\" class=\"data row3 col6\" >-0.0959277</td>\n",
              "                        <td id=\"T_41627ee8_a544_11eb_9166_02420a396d1drow3_col7\" class=\"data row3 col7\" >0.39238</td>\n",
              "                        <td id=\"T_41627ee8_a544_11eb_9166_02420a396d1drow3_col8\" class=\"data row3 col8\" >0.350265</td>\n",
              "                        <td id=\"T_41627ee8_a544_11eb_9166_02420a396d1drow3_col9\" class=\"data row3 col9\" >0.340881</td>\n",
              "                        <td id=\"T_41627ee8_a544_11eb_9166_02420a396d1drow3_col10\" class=\"data row3 col10\" >0.0974972</td>\n",
              "                        <td id=\"T_41627ee8_a544_11eb_9166_02420a396d1drow3_col11\" class=\"data row3 col11\" >0.562498</td>\n",
              "                        <td id=\"T_41627ee8_a544_11eb_9166_02420a396d1drow3_col12\" class=\"data row3 col12\" >0.0732685</td>\n",
              "            </tr>\n",
              "            <tr>\n",
              "                        <th id=\"T_41627ee8_a544_11eb_9166_02420a396d1dlevel0_row4\" class=\"row_heading level0 row4\" >Сердняя реактивная мощность</th>\n",
              "                        <td id=\"T_41627ee8_a544_11eb_9166_02420a396d1drow4_col0\" class=\"data row4 col0\" >-0.288873</td>\n",
              "                        <td id=\"T_41627ee8_a544_11eb_9166_02420a396d1drow4_col1\" class=\"data row4 col1\" >0.149932</td>\n",
              "                        <td id=\"T_41627ee8_a544_11eb_9166_02420a396d1drow4_col2\" class=\"data row4 col2\" >0.0291182</td>\n",
              "                        <td id=\"T_41627ee8_a544_11eb_9166_02420a396d1drow4_col3\" class=\"data row4 col3\" >0.92303</td>\n",
              "                        <td id=\"T_41627ee8_a544_11eb_9166_02420a396d1drow4_col4\" class=\"data row4 col4\" >1</td>\n",
              "                        <td id=\"T_41627ee8_a544_11eb_9166_02420a396d1drow4_col5\" class=\"data row4 col5\" >-0.206861</td>\n",
              "                        <td id=\"T_41627ee8_a544_11eb_9166_02420a396d1drow4_col6\" class=\"data row4 col6\" >-0.137593</td>\n",
              "                        <td id=\"T_41627ee8_a544_11eb_9166_02420a396d1drow4_col7\" class=\"data row4 col7\" >0.376292</td>\n",
              "                        <td id=\"T_41627ee8_a544_11eb_9166_02420a396d1drow4_col8\" class=\"data row4 col8\" >0.30879</td>\n",
              "                        <td id=\"T_41627ee8_a544_11eb_9166_02420a396d1drow4_col9\" class=\"data row4 col9\" >0.300979</td>\n",
              "                        <td id=\"T_41627ee8_a544_11eb_9166_02420a396d1drow4_col10\" class=\"data row4 col10\" >0.0725801</td>\n",
              "                        <td id=\"T_41627ee8_a544_11eb_9166_02420a396d1drow4_col11\" class=\"data row4 col11\" >0.548072</td>\n",
              "                        <td id=\"T_41627ee8_a544_11eb_9166_02420a396d1drow4_col12\" class=\"data row4 col12\" >0.0725531</td>\n",
              "            </tr>\n",
              "            <tr>\n",
              "                        <th id=\"T_41627ee8_a544_11eb_9166_02420a396d1dlevel0_row5\" class=\"row_heading level0 row5\" >Среднее отношение активной к реактивной мощности</th>\n",
              "                        <td id=\"T_41627ee8_a544_11eb_9166_02420a396d1drow5_col0\" class=\"data row5 col0\" >-0.0302808</td>\n",
              "                        <td id=\"T_41627ee8_a544_11eb_9166_02420a396d1drow5_col1\" class=\"data row5 col1\" >0.147833</td>\n",
              "                        <td id=\"T_41627ee8_a544_11eb_9166_02420a396d1drow5_col2\" class=\"data row5 col2\" >0.0476153</td>\n",
              "                        <td id=\"T_41627ee8_a544_11eb_9166_02420a396d1drow5_col3\" class=\"data row5 col3\" >0.167139</td>\n",
              "                        <td id=\"T_41627ee8_a544_11eb_9166_02420a396d1drow5_col4\" class=\"data row5 col4\" >-0.206861</td>\n",
              "                        <td id=\"T_41627ee8_a544_11eb_9166_02420a396d1drow5_col5\" class=\"data row5 col5\" >1</td>\n",
              "                        <td id=\"T_41627ee8_a544_11eb_9166_02420a396d1drow5_col6\" class=\"data row5 col6\" >0.112812</td>\n",
              "                        <td id=\"T_41627ee8_a544_11eb_9166_02420a396d1drow5_col7\" class=\"data row5 col7\" >0.0132549</td>\n",
              "                        <td id=\"T_41627ee8_a544_11eb_9166_02420a396d1drow5_col8\" class=\"data row5 col8\" >0.114251</td>\n",
              "                        <td id=\"T_41627ee8_a544_11eb_9166_02420a396d1drow5_col9\" class=\"data row5 col9\" >0.0705401</td>\n",
              "                        <td id=\"T_41627ee8_a544_11eb_9166_02420a396d1drow5_col10\" class=\"data row5 col10\" >0.0710198</td>\n",
              "                        <td id=\"T_41627ee8_a544_11eb_9166_02420a396d1drow5_col11\" class=\"data row5 col11\" >0.0492728</td>\n",
              "                        <td id=\"T_41627ee8_a544_11eb_9166_02420a396d1drow5_col12\" class=\"data row5 col12\" >0.00481707</td>\n",
              "            </tr>\n",
              "            <tr>\n",
              "                        <th id=\"T_41627ee8_a544_11eb_9166_02420a396d1dlevel0_row6\" class=\"row_heading level0 row6\" >Wire 1</th>\n",
              "                        <td id=\"T_41627ee8_a544_11eb_9166_02420a396d1drow6_col0\" class=\"data row6 col0\" >0.155272</td>\n",
              "                        <td id=\"T_41627ee8_a544_11eb_9166_02420a396d1drow6_col1\" class=\"data row6 col1\" >0.317575</td>\n",
              "                        <td id=\"T_41627ee8_a544_11eb_9166_02420a396d1drow6_col2\" class=\"data row6 col2\" >0.13828</td>\n",
              "                        <td id=\"T_41627ee8_a544_11eb_9166_02420a396d1drow6_col3\" class=\"data row6 col3\" >-0.0959277</td>\n",
              "                        <td id=\"T_41627ee8_a544_11eb_9166_02420a396d1drow6_col4\" class=\"data row6 col4\" >-0.137593</td>\n",
              "                        <td id=\"T_41627ee8_a544_11eb_9166_02420a396d1drow6_col5\" class=\"data row6 col5\" >0.112812</td>\n",
              "                        <td id=\"T_41627ee8_a544_11eb_9166_02420a396d1drow6_col6\" class=\"data row6 col6\" >1</td>\n",
              "                        <td id=\"T_41627ee8_a544_11eb_9166_02420a396d1drow6_col7\" class=\"data row6 col7\" >0.170167</td>\n",
              "                        <td id=\"T_41627ee8_a544_11eb_9166_02420a396d1drow6_col8\" class=\"data row6 col8\" >-0.0538355</td>\n",
              "                        <td id=\"T_41627ee8_a544_11eb_9166_02420a396d1drow6_col9\" class=\"data row6 col9\" >0.118437</td>\n",
              "                        <td id=\"T_41627ee8_a544_11eb_9166_02420a396d1drow6_col10\" class=\"data row6 col10\" >0.117313</td>\n",
              "                        <td id=\"T_41627ee8_a544_11eb_9166_02420a396d1drow6_col11\" class=\"data row6 col11\" >0.0554951</td>\n",
              "                        <td id=\"T_41627ee8_a544_11eb_9166_02420a396d1drow6_col12\" class=\"data row6 col12\" >0.164251</td>\n",
              "            </tr>\n",
              "            <tr>\n",
              "                        <th id=\"T_41627ee8_a544_11eb_9166_02420a396d1dlevel0_row7\" class=\"row_heading level0 row7\" >Bulk 12</th>\n",
              "                        <td id=\"T_41627ee8_a544_11eb_9166_02420a396d1drow7_col0\" class=\"data row7 col0\" >-0.0352896</td>\n",
              "                        <td id=\"T_41627ee8_a544_11eb_9166_02420a396d1drow7_col1\" class=\"data row7 col1\" >0.267424</td>\n",
              "                        <td id=\"T_41627ee8_a544_11eb_9166_02420a396d1drow7_col2\" class=\"data row7 col2\" >0.30723</td>\n",
              "                        <td id=\"T_41627ee8_a544_11eb_9166_02420a396d1drow7_col3\" class=\"data row7 col3\" >0.39238</td>\n",
              "                        <td id=\"T_41627ee8_a544_11eb_9166_02420a396d1drow7_col4\" class=\"data row7 col4\" >0.376292</td>\n",
              "                        <td id=\"T_41627ee8_a544_11eb_9166_02420a396d1drow7_col5\" class=\"data row7 col5\" >0.0132549</td>\n",
              "                        <td id=\"T_41627ee8_a544_11eb_9166_02420a396d1drow7_col6\" class=\"data row7 col6\" >0.170167</td>\n",
              "                        <td id=\"T_41627ee8_a544_11eb_9166_02420a396d1drow7_col7\" class=\"data row7 col7\" >1</td>\n",
              "                        <td id=\"T_41627ee8_a544_11eb_9166_02420a396d1drow7_col8\" class=\"data row7 col8\" >0.481541</td>\n",
              "                        <td id=\"T_41627ee8_a544_11eb_9166_02420a396d1drow7_col9\" class=\"data row7 col9\" >0.614479</td>\n",
              "                        <td id=\"T_41627ee8_a544_11eb_9166_02420a396d1drow7_col10\" class=\"data row7 col10\" >0.217332</td>\n",
              "                        <td id=\"T_41627ee8_a544_11eb_9166_02420a396d1drow7_col11\" class=\"data row7 col11\" >0.466789</td>\n",
              "                        <td id=\"T_41627ee8_a544_11eb_9166_02420a396d1drow7_col12\" class=\"data row7 col12\" >0.220503</td>\n",
              "            </tr>\n",
              "            <tr>\n",
              "                        <th id=\"T_41627ee8_a544_11eb_9166_02420a396d1dlevel0_row8\" class=\"row_heading level0 row8\" >Bulk 14</th>\n",
              "                        <td id=\"T_41627ee8_a544_11eb_9166_02420a396d1drow8_col0\" class=\"data row8 col0\" >-0.0771676</td>\n",
              "                        <td id=\"T_41627ee8_a544_11eb_9166_02420a396d1drow8_col1\" class=\"data row8 col1\" >0.114617</td>\n",
              "                        <td id=\"T_41627ee8_a544_11eb_9166_02420a396d1drow8_col2\" class=\"data row8 col2\" >0.333906</td>\n",
              "                        <td id=\"T_41627ee8_a544_11eb_9166_02420a396d1drow8_col3\" class=\"data row8 col3\" >0.350265</td>\n",
              "                        <td id=\"T_41627ee8_a544_11eb_9166_02420a396d1drow8_col4\" class=\"data row8 col4\" >0.30879</td>\n",
              "                        <td id=\"T_41627ee8_a544_11eb_9166_02420a396d1drow8_col5\" class=\"data row8 col5\" >0.114251</td>\n",
              "                        <td id=\"T_41627ee8_a544_11eb_9166_02420a396d1drow8_col6\" class=\"data row8 col6\" >-0.0538355</td>\n",
              "                        <td id=\"T_41627ee8_a544_11eb_9166_02420a396d1drow8_col7\" class=\"data row8 col7\" >0.481541</td>\n",
              "                        <td id=\"T_41627ee8_a544_11eb_9166_02420a396d1drow8_col8\" class=\"data row8 col8\" >1</td>\n",
              "                        <td id=\"T_41627ee8_a544_11eb_9166_02420a396d1drow8_col9\" class=\"data row8 col9\" >0.265354</td>\n",
              "                        <td id=\"T_41627ee8_a544_11eb_9166_02420a396d1drow8_col10\" class=\"data row8 col10\" >0.268889</td>\n",
              "                        <td id=\"T_41627ee8_a544_11eb_9166_02420a396d1drow8_col11\" class=\"data row8 col11\" >0.461181</td>\n",
              "                        <td id=\"T_41627ee8_a544_11eb_9166_02420a396d1drow8_col12\" class=\"data row8 col12\" >0.185683</td>\n",
              "            </tr>\n",
              "            <tr>\n",
              "                        <th id=\"T_41627ee8_a544_11eb_9166_02420a396d1dlevel0_row9\" class=\"row_heading level0 row9\" >Bulk 15</th>\n",
              "                        <td id=\"T_41627ee8_a544_11eb_9166_02420a396d1drow9_col0\" class=\"data row9 col0\" >0.0169947</td>\n",
              "                        <td id=\"T_41627ee8_a544_11eb_9166_02420a396d1drow9_col1\" class=\"data row9 col1\" >0.266414</td>\n",
              "                        <td id=\"T_41627ee8_a544_11eb_9166_02420a396d1drow9_col2\" class=\"data row9 col2\" >0.175047</td>\n",
              "                        <td id=\"T_41627ee8_a544_11eb_9166_02420a396d1drow9_col3\" class=\"data row9 col3\" >0.340881</td>\n",
              "                        <td id=\"T_41627ee8_a544_11eb_9166_02420a396d1drow9_col4\" class=\"data row9 col4\" >0.300979</td>\n",
              "                        <td id=\"T_41627ee8_a544_11eb_9166_02420a396d1drow9_col5\" class=\"data row9 col5\" >0.0705401</td>\n",
              "                        <td id=\"T_41627ee8_a544_11eb_9166_02420a396d1drow9_col6\" class=\"data row9 col6\" >0.118437</td>\n",
              "                        <td id=\"T_41627ee8_a544_11eb_9166_02420a396d1drow9_col7\" class=\"data row9 col7\" >0.614479</td>\n",
              "                        <td id=\"T_41627ee8_a544_11eb_9166_02420a396d1drow9_col8\" class=\"data row9 col8\" >0.265354</td>\n",
              "                        <td id=\"T_41627ee8_a544_11eb_9166_02420a396d1drow9_col9\" class=\"data row9 col9\" >1</td>\n",
              "                        <td id=\"T_41627ee8_a544_11eb_9166_02420a396d1drow9_col10\" class=\"data row9 col10\" >0.0436237</td>\n",
              "                        <td id=\"T_41627ee8_a544_11eb_9166_02420a396d1drow9_col11\" class=\"data row9 col11\" >0.295854</td>\n",
              "                        <td id=\"T_41627ee8_a544_11eb_9166_02420a396d1drow9_col12\" class=\"data row9 col12\" >0.130262</td>\n",
              "            </tr>\n",
              "            <tr>\n",
              "                        <th id=\"T_41627ee8_a544_11eb_9166_02420a396d1dlevel0_row10\" class=\"row_heading level0 row10\" >Газ 1</th>\n",
              "                        <td id=\"T_41627ee8_a544_11eb_9166_02420a396d1drow10_col0\" class=\"data row10 col0\" >-0.0481043</td>\n",
              "                        <td id=\"T_41627ee8_a544_11eb_9166_02420a396d1drow10_col1\" class=\"data row10 col1\" >0.0591602</td>\n",
              "                        <td id=\"T_41627ee8_a544_11eb_9166_02420a396d1drow10_col2\" class=\"data row10 col2\" >0.403947</td>\n",
              "                        <td id=\"T_41627ee8_a544_11eb_9166_02420a396d1drow10_col3\" class=\"data row10 col3\" >0.0974972</td>\n",
              "                        <td id=\"T_41627ee8_a544_11eb_9166_02420a396d1drow10_col4\" class=\"data row10 col4\" >0.0725801</td>\n",
              "                        <td id=\"T_41627ee8_a544_11eb_9166_02420a396d1drow10_col5\" class=\"data row10 col5\" >0.0710198</td>\n",
              "                        <td id=\"T_41627ee8_a544_11eb_9166_02420a396d1drow10_col6\" class=\"data row10 col6\" >0.117313</td>\n",
              "                        <td id=\"T_41627ee8_a544_11eb_9166_02420a396d1drow10_col7\" class=\"data row10 col7\" >0.217332</td>\n",
              "                        <td id=\"T_41627ee8_a544_11eb_9166_02420a396d1drow10_col8\" class=\"data row10 col8\" >0.268889</td>\n",
              "                        <td id=\"T_41627ee8_a544_11eb_9166_02420a396d1drow10_col9\" class=\"data row10 col9\" >0.0436237</td>\n",
              "                        <td id=\"T_41627ee8_a544_11eb_9166_02420a396d1drow10_col10\" class=\"data row10 col10\" >1</td>\n",
              "                        <td id=\"T_41627ee8_a544_11eb_9166_02420a396d1drow10_col11\" class=\"data row10 col11\" >0.396306</td>\n",
              "                        <td id=\"T_41627ee8_a544_11eb_9166_02420a396d1drow10_col12\" class=\"data row10 col12\" >0.454465</td>\n",
              "            </tr>\n",
              "            <tr>\n",
              "                        <th id=\"T_41627ee8_a544_11eb_9166_02420a396d1dlevel0_row11\" class=\"row_heading level0 row11\" >Время нагрева в секундах</th>\n",
              "                        <td id=\"T_41627ee8_a544_11eb_9166_02420a396d1drow11_col0\" class=\"data row11 col0\" >-0.285718</td>\n",
              "                        <td id=\"T_41627ee8_a544_11eb_9166_02420a396d1drow11_col1\" class=\"data row11 col1\" >0.278716</td>\n",
              "                        <td id=\"T_41627ee8_a544_11eb_9166_02420a396d1drow11_col2\" class=\"data row11 col2\" >0.799038</td>\n",
              "                        <td id=\"T_41627ee8_a544_11eb_9166_02420a396d1drow11_col3\" class=\"data row11 col3\" >0.562498</td>\n",
              "                        <td id=\"T_41627ee8_a544_11eb_9166_02420a396d1drow11_col4\" class=\"data row11 col4\" >0.548072</td>\n",
              "                        <td id=\"T_41627ee8_a544_11eb_9166_02420a396d1drow11_col5\" class=\"data row11 col5\" >0.0492728</td>\n",
              "                        <td id=\"T_41627ee8_a544_11eb_9166_02420a396d1drow11_col6\" class=\"data row11 col6\" >0.0554951</td>\n",
              "                        <td id=\"T_41627ee8_a544_11eb_9166_02420a396d1drow11_col7\" class=\"data row11 col7\" >0.466789</td>\n",
              "                        <td id=\"T_41627ee8_a544_11eb_9166_02420a396d1drow11_col8\" class=\"data row11 col8\" >0.461181</td>\n",
              "                        <td id=\"T_41627ee8_a544_11eb_9166_02420a396d1drow11_col9\" class=\"data row11 col9\" >0.295854</td>\n",
              "                        <td id=\"T_41627ee8_a544_11eb_9166_02420a396d1drow11_col10\" class=\"data row11 col10\" >0.396306</td>\n",
              "                        <td id=\"T_41627ee8_a544_11eb_9166_02420a396d1drow11_col11\" class=\"data row11 col11\" >1</td>\n",
              "                        <td id=\"T_41627ee8_a544_11eb_9166_02420a396d1drow11_col12\" class=\"data row11 col12\" >0.565052</td>\n",
              "            </tr>\n",
              "            <tr>\n",
              "                        <th id=\"T_41627ee8_a544_11eb_9166_02420a396d1dlevel0_row12\" class=\"row_heading level0 row12\" >Длительность между замерами температур секунды</th>\n",
              "                        <td id=\"T_41627ee8_a544_11eb_9166_02420a396d1drow12_col0\" class=\"data row12 col0\" >-0.0252831</td>\n",
              "                        <td id=\"T_41627ee8_a544_11eb_9166_02420a396d1drow12_col1\" class=\"data row12 col1\" >0.0974802</td>\n",
              "                        <td id=\"T_41627ee8_a544_11eb_9166_02420a396d1drow12_col2\" class=\"data row12 col2\" >0.587091</td>\n",
              "                        <td id=\"T_41627ee8_a544_11eb_9166_02420a396d1drow12_col3\" class=\"data row12 col3\" >0.0732685</td>\n",
              "                        <td id=\"T_41627ee8_a544_11eb_9166_02420a396d1drow12_col4\" class=\"data row12 col4\" >0.0725531</td>\n",
              "                        <td id=\"T_41627ee8_a544_11eb_9166_02420a396d1drow12_col5\" class=\"data row12 col5\" >0.00481707</td>\n",
              "                        <td id=\"T_41627ee8_a544_11eb_9166_02420a396d1drow12_col6\" class=\"data row12 col6\" >0.164251</td>\n",
              "                        <td id=\"T_41627ee8_a544_11eb_9166_02420a396d1drow12_col7\" class=\"data row12 col7\" >0.220503</td>\n",
              "                        <td id=\"T_41627ee8_a544_11eb_9166_02420a396d1drow12_col8\" class=\"data row12 col8\" >0.185683</td>\n",
              "                        <td id=\"T_41627ee8_a544_11eb_9166_02420a396d1drow12_col9\" class=\"data row12 col9\" >0.130262</td>\n",
              "                        <td id=\"T_41627ee8_a544_11eb_9166_02420a396d1drow12_col10\" class=\"data row12 col10\" >0.454465</td>\n",
              "                        <td id=\"T_41627ee8_a544_11eb_9166_02420a396d1drow12_col11\" class=\"data row12 col11\" >0.565052</td>\n",
              "                        <td id=\"T_41627ee8_a544_11eb_9166_02420a396d1drow12_col12\" class=\"data row12 col12\" >1</td>\n",
              "            </tr>\n",
              "    </tbody></table>"
            ],
            "text/plain": [
              "<pandas.io.formats.style.Styler at 0x7f8fc2261a10>"
            ]
          },
          "metadata": {
            "tags": []
          },
          "execution_count": 84
        }
      ]
    },
    {
      "cell_type": "markdown",
      "metadata": {
        "id": "cdLAMv2m6gQM"
      },
      "source": [
        "> Из полученной таблицы можем видеть сильную коррелирующую зависимость двух мощностей (*активной* и *реактивной*), а так же *время нагрева в секундах* от *количества запусков нагрева электродами*, при дальнейшем обучении моделей на этих данных они могут мешать и модели могут давать неточные прогнозы. Но для того, чтобы понять какие данные стоит оставить, а какие нет мы посмотрим на *график важности* наилучшей модели."
      ]
    },
    {
      "cell_type": "markdown",
      "metadata": {
        "id": "G_b3BGwpKySj"
      },
      "source": [
        "---\n",
        "## Определим тестовую и тренировочные выборки"
      ]
    },
    {
      "cell_type": "code",
      "metadata": {
        "id": "ZD-VerQhK4I3"
      },
      "source": [
        "from sklearn.model_selection import train_test_split"
      ],
      "execution_count": null,
      "outputs": []
    },
    {
      "cell_type": "markdown",
      "metadata": {
        "id": "rhV_oFll6gQN"
      },
      "source": [
        "###### Отделим целевой признак от наших данных"
      ]
    },
    {
      "cell_type": "code",
      "metadata": {
        "id": "xl88BH1CLMES"
      },
      "source": [
        "X = model_fin_table.drop(columns='Температура в конце замера')\n",
        "y = model_fin_table['Температура в конце замера']"
      ],
      "execution_count": null,
      "outputs": []
    },
    {
      "cell_type": "code",
      "metadata": {
        "id": "eIujG5TOLCAw"
      },
      "source": [
        "X_train, X_test, y_train, y_test = train_test_split(X, y, test_size=0.25, random_state=42, shuffle=True)"
      ],
      "execution_count": null,
      "outputs": []
    },
    {
      "cell_type": "markdown",
      "metadata": {
        "id": "qg1mGjIE6gQN"
      },
      "source": [
        "###### Проверим результат"
      ]
    },
    {
      "cell_type": "code",
      "metadata": {
        "id": "JSn-vPSz6gQO",
        "outputId": "cc615be3-2bce-4a43-deaa-4251a2b257dc"
      },
      "source": [
        "train_sample=X_train.shape[0]/X.shape[0]\n",
        "test_sample=X_test.shape[0]/X.shape[0]\n",
        "\n",
        "print('Размер тренировочной выборки- {:.0%}'.format(train_sample))\n",
        "print('Размер тестовой выборки - {:.0%}'.format(test_sample))"
      ],
      "execution_count": null,
      "outputs": [
        {
          "output_type": "stream",
          "text": [
            "Размер тренировочной выборки- 75%\n",
            "Размер тестовой выборки - 25%\n"
          ],
          "name": "stdout"
        }
      ]
    },
    {
      "cell_type": "markdown",
      "metadata": {
        "id": "OW3i_RGjKltf"
      },
      "source": [
        "## Тестируем первую модель `DecisionTreeRegressor`"
      ]
    },
    {
      "cell_type": "markdown",
      "metadata": {
        "id": "sdXeozQl6gQO"
      },
      "source": [
        "###### Загружаем метрики и модель"
      ]
    },
    {
      "cell_type": "code",
      "metadata": {
        "id": "bZjcWT2bYgMM"
      },
      "source": [
        "from sklearn.metrics import mean_absolute_error\n",
        "from sklearn.tree import DecisionTreeRegressor\n",
        "from sklearn.metrics import mean_squared_error, r2_score\n",
        "from sklearn.model_selection import GridSearchCV"
      ],
      "execution_count": null,
      "outputs": []
    },
    {
      "cell_type": "markdown",
      "metadata": {
        "id": "_ndqOR2v54Fu"
      },
      "source": [
        "### Создадим функцию по выводу графика зависимости предсказанных от истинных значений и метрик качества предсказания"
      ]
    },
    {
      "cell_type": "code",
      "metadata": {
        "id": "SZWY5asf6IEH"
      },
      "source": [
        "def graph(name,predict):\n",
        "    plt.figure(figsize=(8,8))\n",
        "    sns.regplot(x=y_test, y=predict)\n",
        "    plt.title('График распределения зависимости предсказанных от истинных значений', y=1.01)\n",
        "    plt.ylabel('Предсказанные значения')\n",
        "    plt.xlabel('Истинные значения')\n",
        "    plt.show()\n",
        "\n",
        "    print('Показание метрики MAE модели '+ name,': %.2f' % mean_absolute_error(y_test, predict))\n",
        "    print('Показание метрики RMSE модели '+ name,': %.2f' % (mean_squared_error(y_test, predict))**0.5)\n",
        "    print('Коэффициент детерминации  модели '+ name,': %.2f' % r2_score(y_test, predict))"
      ],
      "execution_count": null,
      "outputs": []
    },
    {
      "cell_type": "code",
      "metadata": {
        "colab": {
          "base_uri": "https://localhost:8080/"
        },
        "id": "lm9PDtgFdvKi",
        "outputId": "069669e3-f77c-4f99-b11f-e6bee88b9728"
      },
      "source": [
        "parametrs_r = { 'max_depth': range (1,10),\n",
        "               'min_samples_leaf': range (1,5)}\n",
        "model_d = DecisionTreeRegressor(random_state=12345)  \n",
        "grid_dt = GridSearchCV(model_d, parametrs_r, cv=5, scoring='neg_mean_absolute_error')\n",
        "grid_dt.fit(X_train,y_train)\n",
        "best_score_dt = -1*grid_dt.best_score_\n",
        "parametrs_dt = pd.Series(grid_dt.best_params_)[0]\n",
        "predict_dt=grid_dt.predict(X_test)\n",
        "print('Значение MAE на тренировочных данных равно: {:.2f}'.format(best_score_dt), '\\nМаксимальная глубина:',parametrs_dt)\n"
      ],
      "execution_count": null,
      "outputs": [
        {
          "output_type": "stream",
          "text": [
            "Значение MAE на тренировочных данных равно: 5.64 \n",
            "Максимальная глубина: 7\n"
          ],
          "name": "stdout"
        }
      ]
    },
    {
      "cell_type": "code",
      "metadata": {
        "id": "-xKLcSXw6gQP"
      },
      "source": [
        "mae_dt= mean_absolute_error(y_test, predict_dt).round(2)\n",
        "rmse_dt= (mean_squared_error(y_test, predict_dt)**0.5).round(2)\n",
        "r2_dt= r2_score(y_test, predict_dt).round(2)"
      ],
      "execution_count": null,
      "outputs": []
    },
    {
      "cell_type": "markdown",
      "metadata": {
        "id": "4NJifm726gQP"
      },
      "source": [
        "### Посмотрим на график и данные метрик"
      ]
    },
    {
      "cell_type": "code",
      "metadata": {
        "colab": {
          "base_uri": "https://localhost:8080/",
          "height": 566
        },
        "id": "xtcIc2aU6qHt",
        "outputId": "3e62c2e4-890e-41e5-9c71-df5599a4f5fd"
      },
      "source": [
        "graph('DecisionTreeRegressor',predict_dt)"
      ],
      "execution_count": null,
      "outputs": [
        {
          "output_type": "display_data",
          "data": {
            "image/png": "[encoded data removed]",
            "text/plain": [
              "<Figure size 576x576 with 1 Axes>"
            ]
          },
          "metadata": {
            "tags": []
          }
        },
        {
          "output_type": "stream",
          "text": [
            "Показание метрики MAE модели DecisionTreeRegressor : 5.34\n",
            "Показание метрики RMSE модели DecisionTreeRegressor : 7.51\n",
            "Коэффициент детерминации  модели DecisionTreeRegressor : 0.57\n"
          ],
          "name": "stdout"
        }
      ]
    },
    {
      "cell_type": "markdown",
      "metadata": {
        "id": "UqqtG0GBN2Sh"
      },
      "source": [
        "## Тестируем вторую модель `LinearRegression`"
      ]
    },
    {
      "cell_type": "code",
      "metadata": {
        "id": "ly5DCyxuKkNz"
      },
      "source": [
        "from sklearn.linear_model import LinearRegression"
      ],
      "execution_count": null,
      "outputs": []
    },
    {
      "cell_type": "code",
      "metadata": {
        "colab": {
          "base_uri": "https://localhost:8080/"
        },
        "id": "smuAzSR9e3H1",
        "outputId": "9d958003-efa9-4bd3-800e-f2d5e17c5649"
      },
      "source": [
        "parametrs = { 'fit_intercept': [True],\n",
        "              'normalize': [True, False]}\n",
        "\n",
        "model_lr = LinearRegression()\n",
        "grid_lr = GridSearchCV(model_lr, parametrs, cv=5, scoring='neg_mean_absolute_error')\n",
        "grid_lr.fit(X_train,y_train)\n",
        "\n",
        "fit_intercept=pd.Series(grid_lr.best_params_)[0]\n",
        "normalize=pd.Series(grid_lr.best_params_)[1]\n",
        "predict_lr=grid_lr.predict(X_test)\n",
        "result_lr = -1*grid_lr.best_score_\n",
        "print('значение MAE на тренировочных данных равно: {:.2f}'.format(result_lr), '\\nfit_intercept:',fit_intercept, '\\nnormalize:',normalize)"
      ],
      "execution_count": null,
      "outputs": [
        {
          "output_type": "stream",
          "text": [
            "значение MAE на тренировочных данных равно: 5.74 \n",
            "fit_intercept: True \n",
            "normalize: True\n"
          ],
          "name": "stdout"
        }
      ]
    },
    {
      "cell_type": "code",
      "metadata": {
        "id": "gZK10nyhEQRc"
      },
      "source": [
        "mae_lr= mean_absolute_error(y_test, predict_lr).round(2)\n",
        "rmse_lr= (mean_squared_error(y_test, predict_lr)**0.5).round(2)\n",
        "r2_lr= r2_score(y_test, predict_lr).round(2)"
      ],
      "execution_count": null,
      "outputs": []
    },
    {
      "cell_type": "markdown",
      "metadata": {
        "id": "wOM43qKb6gQQ"
      },
      "source": [
        "### Посмотрим на график и данные метрик"
      ]
    },
    {
      "cell_type": "code",
      "metadata": {
        "colab": {
          "base_uri": "https://localhost:8080/",
          "height": 566
        },
        "id": "QRxxuUGF6w2L",
        "outputId": "7b31b752-c02f-4bdf-9ab9-5f183008be5a"
      },
      "source": [
        "graph('LinearRegression',predict_lr)"
      ],
      "execution_count": null,
      "outputs": [
        {
          "output_type": "display_data",
          "data": {
            "image/png": "[encoded data removed]",
            "text/plain": [
              "<Figure size 576x576 with 1 Axes>"
            ]
          },
          "metadata": {
            "tags": []
          }
        },
        {
          "output_type": "stream",
          "text": [
            "Показание метрики MAE модели LinearRegression : 6.06\n",
            "Показание метрики RMSE модели LinearRegression : 10.04\n",
            "Коэффициент детерминации  модели LinearRegression : 0.23\n"
          ],
          "name": "stdout"
        }
      ]
    },
    {
      "cell_type": "markdown",
      "metadata": {
        "id": "ShVeWixUV1u2"
      },
      "source": [
        "## Тестируем третью модель `CatBoostRegressor`"
      ]
    },
    {
      "cell_type": "markdown",
      "metadata": {
        "id": "LE_jwjCx6zl5"
      },
      "source": [
        "###### Выполним установку модели `CatBoostRegressor`"
      ]
    },
    {
      "cell_type": "code",
      "metadata": {
        "colab": {
          "base_uri": "https://localhost:8080/"
        },
        "id": "0jjLFFvteSip",
        "outputId": "b5499efe-7f0e-4279-cc77-461beb52cbd3"
      },
      "source": [
        "!pip3 install catboost "
      ],
      "execution_count": null,
      "outputs": [
        {
          "output_type": "stream",
          "text": [
            "Defaulting to user installation because normal site-packages is not writeable\n",
            "Requirement already satisfied: catboost in /opt/conda/lib/python3.7/site-packages (0.20.2)\n",
            "Requirement already satisfied: pandas>=0.24.0 in /opt/conda/lib/python3.7/site-packages (from catboost) (0.25.1)\n",
            "Requirement already satisfied: scipy in /opt/conda/lib/python3.7/site-packages (from catboost) (1.4.1)\n",
            "Requirement already satisfied: plotly in /opt/conda/lib/python3.7/site-packages (from catboost) (4.1.0)\n",
            "Requirement already satisfied: six in /opt/conda/lib/python3.7/site-packages (from catboost) (1.15.0)\n",
            "Requirement already satisfied: matplotlib in /opt/conda/lib/python3.7/site-packages (from catboost) (3.1.0)\n",
            "Requirement already satisfied: graphviz in /opt/conda/lib/python3.7/site-packages (from catboost) (0.16)\n",
            "Requirement already satisfied: numpy>=1.16.0 in /opt/conda/lib/python3.7/site-packages (from catboost) (1.19.5)\n",
            "Requirement already satisfied: python-dateutil>=2.6.1 in /opt/conda/lib/python3.7/site-packages (from pandas>=0.24.0->catboost) (2.8.1)\n",
            "Requirement already satisfied: pytz>=2017.2 in /opt/conda/lib/python3.7/site-packages (from pandas>=0.24.0->catboost) (2021.1)\n",
            "Requirement already satisfied: retrying>=1.3.3 in /opt/conda/lib/python3.7/site-packages (from plotly->catboost) (1.3.3)\n",
            "Requirement already satisfied: cycler>=0.10 in /opt/conda/lib/python3.7/site-packages (from matplotlib->catboost) (0.10.0)\n",
            "Requirement already satisfied: pyparsing!=2.0.4,!=2.1.2,!=2.1.6,>=2.0.1 in /opt/conda/lib/python3.7/site-packages (from matplotlib->catboost) (2.4.7)\n",
            "Requirement already satisfied: kiwisolver>=1.0.1 in /opt/conda/lib/python3.7/site-packages (from matplotlib->catboost) (1.3.1)\n"
          ],
          "name": "stdout"
        }
      ]
    },
    {
      "cell_type": "code",
      "metadata": {
        "id": "hj6ZE0mDeRAi"
      },
      "source": [
        "from catboost import CatBoostRegressor"
      ],
      "execution_count": null,
      "outputs": []
    },
    {
      "cell_type": "code",
      "metadata": {
        "colab": {
          "base_uri": "https://localhost:8080/"
        },
        "id": "D5HSVjNqV1Ii",
        "scrolled": true,
        "outputId": "8b63e772-33c4-4a04-eac0-677d3527dd8e"
      },
      "source": [
        "model = CatBoostRegressor(iterations=1000, depth=2, loss_function=\"MAE\", verbose=100)\n",
        "model.fit(X_train,y_train, eval_set=(X_test,y_test))"
      ],
      "execution_count": null,
      "outputs": [
        {
          "output_type": "stream",
          "text": [
            "0:\tlearn: 7.9826966\ttest: 8.0485925\tbest: 8.0485925 (0)\ttotal: 48.4ms\tremaining: 48.4s\n",
            "100:\tlearn: 5.8419697\ttest: 6.0838951\tbest: 6.0838951 (100)\ttotal: 740ms\tremaining: 6.59s\n",
            "200:\tlearn: 5.2159361\ttest: 5.5162544\tbest: 5.5162544 (200)\ttotal: 1.5s\tremaining: 5.97s\n",
            "300:\tlearn: 4.8821282\ttest: 5.2402821\tbest: 5.2402821 (300)\ttotal: 2.26s\tremaining: 5.25s\n",
            "400:\tlearn: 4.6467281\ttest: 5.0458280\tbest: 5.0458280 (400)\ttotal: 3.02s\tremaining: 4.51s\n",
            "500:\tlearn: 4.4768192\ttest: 4.9044549\tbest: 4.9044549 (500)\ttotal: 3.78s\tremaining: 3.77s\n",
            "600:\tlearn: 4.3557880\ttest: 4.8329822\tbest: 4.8318419 (599)\ttotal: 4.63s\tremaining: 3.08s\n",
            "700:\tlearn: 4.2530246\ttest: 4.7709688\tbest: 4.7709688 (700)\ttotal: 5.39s\tremaining: 2.3s\n",
            "800:\tlearn: 4.1623438\ttest: 4.7213681\tbest: 4.7213681 (800)\ttotal: 6.24s\tremaining: 1.55s\n",
            "900:\tlearn: 4.0826202\ttest: 4.6738675\tbest: 4.6738587 (899)\ttotal: 7s\tremaining: 769ms\n",
            "999:\tlearn: 4.0196785\ttest: 4.6308379\tbest: 4.6305996 (990)\ttotal: 7.75s\tremaining: 0us\n",
            "\n",
            "bestTest = 4.63059961\n",
            "bestIteration = 990\n",
            "\n",
            "Shrink model to first 991 iterations.\n"
          ],
          "name": "stdout"
        },
        {
          "output_type": "execute_result",
          "data": {
            "text/plain": [
              "<catboost.core.CatBoostRegressor at 0x7f8fc2851750>"
            ]
          },
          "metadata": {
            "tags": []
          },
          "execution_count": 99
        }
      ]
    },
    {
      "cell_type": "markdown",
      "metadata": {
        "id": "MEpBDX0f6gQS"
      },
      "source": [
        "### Посмотрим на график и данные метрик"
      ]
    },
    {
      "cell_type": "code",
      "metadata": {
        "colab": {
          "base_uri": "https://localhost:8080/",
          "height": 566
        },
        "id": "Uybqpk-Df9Ii",
        "outputId": "4632b2a4-6d74-42d9-8182-3d2216ee19d1"
      },
      "source": [
        "predict_cat=model.predict(X_test)\n",
        "graph('CatBoostRegressor',predict_cat)"
      ],
      "execution_count": null,
      "outputs": [
        {
          "output_type": "display_data",
          "data": {
            "image/png": "[encoded data removed]",
            "text/plain": [
              "<Figure size 576x576 with 1 Axes>"
            ]
          },
          "metadata": {
            "tags": []
          }
        },
        {
          "output_type": "stream",
          "text": [
            "Показание метрики MAE модели CatBoostRegressor : 4.63\n",
            "Показание метрики RMSE модели CatBoostRegressor : 6.43\n",
            "Коэффициент детерминации  модели CatBoostRegressor : 0.69\n"
          ],
          "name": "stdout"
        }
      ]
    },
    {
      "cell_type": "markdown",
      "metadata": {
        "id": "COE0ia6D5LyH"
      },
      "source": [
        "## Найдём факторы важности наилучшей модели"
      ]
    },
    {
      "cell_type": "code",
      "metadata": {
        "id": "Ma8aoqN45Lyc"
      },
      "source": [
        "def importances(model,features):\n",
        "    features=features.columns\n",
        "    importances = model.feature_importances_\n",
        "    indices = np.argsort(importances)\n",
        "    \n",
        "    plt.figure(figsize=(11, 5))\n",
        "    plt.title('Важность функции')\n",
        "    plt.barh(range(len(indices)), importances[indices], color='#6495ED', align='center')\n",
        "    plt.yticks(range(len(indices)), features[indices])\n",
        "    plt.xlabel('Относительная важность')\n",
        "    plt.show()\n",
        "        \n",
        "    feat_importances = pd.Series(importances, index=features).sort_values(ascending=False)\n",
        "    feat_importances = feat_importances.to_frame()\n",
        "    feat_importances.columns=['Относительная важность']\n",
        "    display(feat_importances)"
      ],
      "execution_count": null,
      "outputs": []
    },
    {
      "cell_type": "code",
      "metadata": {
        "colab": {
          "base_uri": "https://localhost:8080/",
          "height": 753
        },
        "id": "w89LLATD5Lyc",
        "outputId": "c36f79de-4600-4eef-f05a-af1bc1a49e79"
      },
      "source": [
        "importances(model,X_test)"
      ],
      "execution_count": null,
      "outputs": [
        {
          "output_type": "display_data",
          "data": {
            "image/png": "[encoded data removed]",
            "text/plain": [
              "<Figure size 792x360 with 1 Axes>"
            ]
          },
          "metadata": {
            "tags": []
          }
        },
        {
          "output_type": "display_data",
          "data": {
            "text/html": [
              "<div>\n",
              "<style scoped>\n",
              "    .dataframe tbody tr th:only-of-type {\n",
              "        vertical-align: middle;\n",
              "    }\n",
              "\n",
              "    .dataframe tbody tr th {\n",
              "        vertical-align: top;\n",
              "    }\n",
              "\n",
              "    .dataframe thead th {\n",
              "        text-align: right;\n",
              "    }\n",
              "</style>\n",
              "<table border=\"1\" class=\"dataframe\">\n",
              "  <thead>\n",
              "    <tr style=\"text-align: right;\">\n",
              "      <th></th>\n",
              "      <th>Относительная важность</th>\n",
              "    </tr>\n",
              "  </thead>\n",
              "  <tbody>\n",
              "    <tr>\n",
              "      <td>Температура в начале замера</td>\n",
              "      <td>52.761020</td>\n",
              "    </tr>\n",
              "    <tr>\n",
              "      <td>Время нагрева в секундах</td>\n",
              "      <td>18.281335</td>\n",
              "    </tr>\n",
              "    <tr>\n",
              "      <td>Средняя активная мощность</td>\n",
              "      <td>8.777744</td>\n",
              "    </tr>\n",
              "    <tr>\n",
              "      <td>Wire 1</td>\n",
              "      <td>5.826735</td>\n",
              "    </tr>\n",
              "    <tr>\n",
              "      <td>Длительность между замерами температур секунды</td>\n",
              "      <td>2.511171</td>\n",
              "    </tr>\n",
              "    <tr>\n",
              "      <td>Количество запусков нагрева электродами</td>\n",
              "      <td>2.326633</td>\n",
              "    </tr>\n",
              "    <tr>\n",
              "      <td>Bulk 14</td>\n",
              "      <td>2.229538</td>\n",
              "    </tr>\n",
              "    <tr>\n",
              "      <td>Сердняя реактивная мощность</td>\n",
              "      <td>2.031501</td>\n",
              "    </tr>\n",
              "    <tr>\n",
              "      <td>Bulk 12</td>\n",
              "      <td>1.988620</td>\n",
              "    </tr>\n",
              "    <tr>\n",
              "      <td>Среднее отношение активной к реактивной мощности</td>\n",
              "      <td>1.443527</td>\n",
              "    </tr>\n",
              "    <tr>\n",
              "      <td>Bulk 15</td>\n",
              "      <td>0.935248</td>\n",
              "    </tr>\n",
              "    <tr>\n",
              "      <td>Газ 1</td>\n",
              "      <td>0.886928</td>\n",
              "    </tr>\n",
              "  </tbody>\n",
              "</table>\n",
              "</div>"
            ],
            "text/plain": [
              "                                                  Относительная важность\n",
              "Температура в начале замера                                    52.761020\n",
              "Время нагрева в секундах                                       18.281335\n",
              "Средняя активная мощность                                       8.777744\n",
              "Wire 1                                                          5.826735\n",
              "Длительность между замерами температур секунды                  2.511171\n",
              "Количество запусков нагрева электродами                         2.326633\n",
              "Bulk 14                                                         2.229538\n",
              "Сердняя реактивная мощность                                     2.031501\n",
              "Bulk 12                                                         1.988620\n",
              "Среднее отношение активной к реактивной мощности                1.443527\n",
              "Bulk 15                                                         0.935248\n",
              "Газ 1                                                           0.886928"
            ]
          },
          "metadata": {
            "tags": []
          }
        }
      ]
    },
    {
      "cell_type": "markdown",
      "metadata": {
        "id": "v4CYDcQY6gQT"
      },
      "source": [
        "### Судя по распределению важности данных можем откинуть лишние данные - это `Газ 1` и сильно кореелирующую `Сердняя реактивная мощность`, т.к. `Средняя активная мощность\t` имеет больший вес в предсказании данных"
      ]
    },
    {
      "cell_type": "code",
      "metadata": {
        "scrolled": false,
        "id": "XEpKSOcX6gQT",
        "outputId": "44e723f6-85d6-4144-ac63-0e6ddb2a0c3d"
      },
      "source": [
        "X_train2 = X_train.copy()\n",
        "X_test2= X_test.copy()\n",
        "X_train2 = X_train2.drop(columns=['Газ 1', 'Сердняя реактивная мощность'])\n",
        "X_test2= X_test2.drop(columns=['Газ 1', 'Сердняя реактивная мощность'])\n",
        "X_train2.info()"
      ],
      "execution_count": null,
      "outputs": [
        {
          "output_type": "stream",
          "text": [
            "<class 'pandas.core.frame.DataFrame'>\n",
            "Int64Index: 1746 entries, 1680 to 923\n",
            "Data columns (total 10 columns):\n",
            "Температура в начале замера                         1746 non-null float64\n",
            "Количество запусков нагрева электродами             1746 non-null float64\n",
            "Средняя активная мощность                           1746 non-null float64\n",
            "Среднее отношение активной к реактивной мощности    1746 non-null float64\n",
            "Wire 1                                              1746 non-null float64\n",
            "Bulk 12                                             1746 non-null float64\n",
            "Bulk 14                                             1746 non-null float64\n",
            "Bulk 15                                             1746 non-null float64\n",
            "Время нагрева в секундах                            1746 non-null float64\n",
            "Длительность между замерами температур секунды      1746 non-null float64\n",
            "dtypes: float64(10)\n",
            "memory usage: 150.0 KB\n"
          ],
          "name": "stdout"
        }
      ]
    },
    {
      "cell_type": "markdown",
      "metadata": {
        "id": "wmXj-Nob6gQT"
      },
      "source": [
        "### Проверим теперь эти данные на нашей моделе"
      ]
    },
    {
      "cell_type": "code",
      "metadata": {
        "scrolled": false,
        "id": "rDkD_PX56gQT",
        "outputId": "fc60466d-e8ed-4e31-bd34-cc570dea5d83"
      },
      "source": [
        "model = CatBoostRegressor(iterations=1000, depth=2, loss_function=\"MAE\", verbose=100)\n",
        "model.fit(X_train2,y_train, eval_set=(X_test2,y_test))\n",
        "predict_cat=model.predict(X_test)\n",
        "graph('CatBoostRegressor',predict_cat)"
      ],
      "execution_count": null,
      "outputs": [
        {
          "output_type": "stream",
          "text": [
            "0:\tlearn: 7.9771983\ttest: 8.0385068\tbest: 8.0385068 (0)\ttotal: 1.98ms\tremaining: 1.98s\n",
            "100:\tlearn: 5.8104336\ttest: 6.0416209\tbest: 6.0416209 (100)\ttotal: 626ms\tremaining: 5.57s\n",
            "200:\tlearn: 5.1908239\ttest: 5.4701809\tbest: 5.4701809 (200)\ttotal: 1.47s\tremaining: 5.84s\n",
            "300:\tlearn: 4.8492898\ttest: 5.1802655\tbest: 5.1802655 (300)\ttotal: 2.3s\tremaining: 5.33s\n",
            "400:\tlearn: 4.6009021\ttest: 4.9401029\tbest: 4.9401029 (400)\ttotal: 2.97s\tremaining: 4.44s\n",
            "500:\tlearn: 4.4433071\ttest: 4.8165276\tbest: 4.8165276 (500)\ttotal: 3.72s\tremaining: 3.71s\n",
            "600:\tlearn: 4.3227961\ttest: 4.7387417\tbest: 4.7387417 (600)\ttotal: 4.49s\tremaining: 2.98s\n",
            "700:\tlearn: 4.2337958\ttest: 4.6865904\tbest: 4.6865904 (700)\ttotal: 5.25s\tremaining: 2.24s\n",
            "800:\tlearn: 4.1440710\ttest: 4.6424763\tbest: 4.6424763 (800)\ttotal: 6.01s\tremaining: 1.49s\n",
            "900:\tlearn: 4.0838616\ttest: 4.5962055\tbest: 4.5962055 (900)\ttotal: 6.76s\tremaining: 743ms\n",
            "999:\tlearn: 4.0378820\ttest: 4.5650426\tbest: 4.5645135 (996)\ttotal: 7.51s\tremaining: 0us\n",
            "\n",
            "bestTest = 4.564513467\n",
            "bestIteration = 996\n",
            "\n",
            "Shrink model to first 997 iterations.\n"
          ],
          "name": "stdout"
        },
        {
          "output_type": "display_data",
          "data": {
            "image/png": "[encoded data removed]",
            "text/plain": [
              "<Figure size 576x576 with 1 Axes>"
            ]
          },
          "metadata": {
            "tags": []
          }
        },
        {
          "output_type": "stream",
          "text": [
            "Показание метрики MAE модели CatBoostRegressor : 4.56\n",
            "Показание метрики RMSE модели CatBoostRegressor : 6.31\n",
            "Коэффициент детерминации  модели CatBoostRegressor : 0.70\n"
          ],
          "name": "stdout"
        }
      ]
    },
    {
      "cell_type": "code",
      "metadata": {
        "id": "G420sLOZ6gQU"
      },
      "source": [
        "mae_cat= mean_absolute_error(y_test, predict_cat).round(2)\n",
        "rmse_cat= (mean_squared_error(y_test, predict_cat)**0.5).round(2)\n",
        "r2_cat= r2_score(y_test, predict_cat).round(2)"
      ],
      "execution_count": null,
      "outputs": []
    },
    {
      "cell_type": "markdown",
      "metadata": {
        "id": "f8jS02Ks6gQU"
      },
      "source": [
        "## Подведём итоги предсказаний наших моделей и сведём данные в одну таблицу"
      ]
    },
    {
      "cell_type": "code",
      "metadata": {
        "id": "I6jjrHaE6gQU",
        "outputId": "24557723-3ce4-4ffa-c6f3-5b3428955c7d"
      },
      "source": [
        "column=['Показание метрики MAE']\n",
        "comparison_tabl = pd.DataFrame(index=['DecisionTreeRegressor','LinearRegression','CatBoostRegressor'], columns=['Показание метрики RMSE','Коэффициент детерминации R2','Показание метрики MAE'])\n",
        "comparison_tabl['Показание метрики MAE'] = mae_dt,mae_lr,mae_cat\n",
        "comparison_tabl['Показание метрики RMSE'] = rmse_dt,rmse_lr,rmse_cat\n",
        "comparison_tabl['Коэффициент детерминации R2'] = r2_dt,r2_lr,r2_cat\n",
        "\n",
        "comparison_tabl.style.highlight_min(color='yellowgreen',subset=column).highlight_null(null_color='lightgrey').highlight_max(color='coral',subset=column)"
      ],
      "execution_count": null,
      "outputs": [
        {
          "output_type": "execute_result",
          "data": {
            "text/html": [
              "<style  type=\"text/css\" >\n",
              "    #T_8aa80afa_a544_11eb_9166_02420a396d1drow1_col2 {\n",
              "            : ;\n",
              "            : ;\n",
              "            background-color:  coral;\n",
              "        }    #T_8aa80afa_a544_11eb_9166_02420a396d1drow2_col2 {\n",
              "            background-color:  yellowgreen;\n",
              "            : ;\n",
              "            : ;\n",
              "        }</style><table id=\"T_8aa80afa_a544_11eb_9166_02420a396d1d\" ><thead>    <tr>        <th class=\"blank level0\" ></th>        <th class=\"col_heading level0 col0\" >Показание метрики RMSE</th>        <th class=\"col_heading level0 col1\" >Коэффициент детерминации R2</th>        <th class=\"col_heading level0 col2\" >Показание метрики MAE</th>    </tr></thead><tbody>\n",
              "                <tr>\n",
              "                        <th id=\"T_8aa80afa_a544_11eb_9166_02420a396d1dlevel0_row0\" class=\"row_heading level0 row0\" >DecisionTreeRegressor</th>\n",
              "                        <td id=\"T_8aa80afa_a544_11eb_9166_02420a396d1drow0_col0\" class=\"data row0 col0\" >7.51</td>\n",
              "                        <td id=\"T_8aa80afa_a544_11eb_9166_02420a396d1drow0_col1\" class=\"data row0 col1\" >0.57</td>\n",
              "                        <td id=\"T_8aa80afa_a544_11eb_9166_02420a396d1drow0_col2\" class=\"data row0 col2\" >5.34</td>\n",
              "            </tr>\n",
              "            <tr>\n",
              "                        <th id=\"T_8aa80afa_a544_11eb_9166_02420a396d1dlevel0_row1\" class=\"row_heading level0 row1\" >LinearRegression</th>\n",
              "                        <td id=\"T_8aa80afa_a544_11eb_9166_02420a396d1drow1_col0\" class=\"data row1 col0\" >10.04</td>\n",
              "                        <td id=\"T_8aa80afa_a544_11eb_9166_02420a396d1drow1_col1\" class=\"data row1 col1\" >0.23</td>\n",
              "                        <td id=\"T_8aa80afa_a544_11eb_9166_02420a396d1drow1_col2\" class=\"data row1 col2\" >6.06</td>\n",
              "            </tr>\n",
              "            <tr>\n",
              "                        <th id=\"T_8aa80afa_a544_11eb_9166_02420a396d1dlevel0_row2\" class=\"row_heading level0 row2\" >CatBoostRegressor</th>\n",
              "                        <td id=\"T_8aa80afa_a544_11eb_9166_02420a396d1drow2_col0\" class=\"data row2 col0\" >6.31</td>\n",
              "                        <td id=\"T_8aa80afa_a544_11eb_9166_02420a396d1drow2_col1\" class=\"data row2 col1\" >0.7</td>\n",
              "                        <td id=\"T_8aa80afa_a544_11eb_9166_02420a396d1drow2_col2\" class=\"data row2 col2\" >4.56</td>\n",
              "            </tr>\n",
              "    </tbody></table>"
            ],
            "text/plain": [
              "<pandas.io.formats.style.Styler at 0x7f8fc287d650>"
            ]
          },
          "metadata": {
            "tags": []
          },
          "execution_count": 106
        }
      ]
    },
    {
      "cell_type": "markdown",
      "metadata": {
        "id": "TjCepkvx5X8m"
      },
      "source": [
        "---\n",
        "# Вывод"
      ]
    },
    {
      "cell_type": "markdown",
      "metadata": {
        "id": "MFhGaZY35c-n"
      },
      "source": [
        "Мы постарились использовать максимальное количество данных из тех что предоставил заказчик и на этих данных обучили три модели `DecisionTreeRegressor`,`LinearRegression` и `CatBoostRegressor`. <br> По итогам сравнения метрик качества предсказаний из трёх моделей лидирует `CatBoostRegressor`, которая достигла значения в $4.56$ по метрике $MAE$ <br> Таким образом мы достигли требуемого значения $MAE <6.00$, а так же дополнительно выяснили наиболее важные данные на которых строилось предсказание нашей наилучшей модели, **ТОП-3** из которых это \"*Температура в начале замера, Время нагрева в секундах и Средняя активная мощность*\""
      ]
    },
    {
      "cell_type": "markdown",
      "metadata": {
        "id": "fc0lBigQ6gQV"
      },
      "source": [
        "----\n",
        "## Отчёт по решению"
      ]
    },
    {
      "cell_type": "markdown",
      "metadata": {
        "id": "pXC86Mlw6gQV"
      },
      "source": [
        "Перед нами стояла задача оптимизировать производственные расходы, металлургический комбинат **ООО «Так закаляем сталь»** на этапе обработки стали. Для этого нам предстояло построить модель, которая предскажет температуру стали в последней точке измерения имея данные о начальных температурах и количестве присадок, а так же времени их добавления и измерения температуры. При этом Целью поставлена метрика $MAE$ со значением $< 6.00$ \n",
        "<br>\n",
        "\n",
        "В начальном плане были определены промежуточные этапы по-которому и строилось выполнение проекта. Самым основным и решающим значением было принято решение о добавлении в исходные данные новых признаков, на основе которых модель сможет лучше предсказывать целевое значение по темпратуре. Были добавлены дополнительные столбцы:\n",
        "   - Длительность времени между первым и последним замером температуры.\n",
        "   - Суммарное время нагрева электродами, то есть сумму значений по всем промежуткам между запусками нагрева электродов.\n",
        "   - Количество запусков нагрева электродами.\n",
        "   - Среднее соотношение потребления активной и реактивной мощности.\n",
        "   \n",
        "\n",
        "Для нахождения наилучего качества в предсказании мы обучили три модели `DecisionTreeRegressor`,`LinearRegression` и `CatBoostRegressor` и сравнили их показатели по трём метрикам $MAE$, $MSE$ и $R^2$. Сравнив показатели метрик остановились на `CatBoostRegressor`, у которой $MAE$ было равно $4.63$. Далее вывели на график важности основные группы данных, на котором определили \"мусорные\" данные и исключили коррелирующую *Серднюю реактивную мощность* из таблицы, после чего обучили выбранную наилучшую модель на обновлённых данных, тем самым улучшив показание метрики $MAE$ до $4.56$<br>\n",
        "\n",
        "А так же на графике важности заметили, что основное влияние на предсказание модели влияет *Темпратура в начале измерения* и *Время нагрева*, а это значит, что вероятнее всего влияя на величину начальной темпратуры можно достигнуть цели по оптимизации производственных расходов на энергоресурсы. <br>\n",
        "\n",
        "Таким образом мы подобрали оптимальную модель способную довольно точно предсказывать температуру в конце замера и нашли основные факторы зависимости на этапе производстве, превзойдя целевое пороговое значение $MAE$ на $24$%"
      ]
    }
  ]
}